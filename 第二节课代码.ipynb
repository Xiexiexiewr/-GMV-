{
 "cells": [
  {
   "cell_type": "code",
   "execution_count": 38,
   "metadata": {},
   "outputs": [],
   "source": [
    "#导入数据处理的库\n",
    "import pandas as pd\n",
    "import numpy as np\n",
    "\n",
    "#导入画图的可视化库\n",
    "import matplotlib\n",
    "import matplotlib.pyplot as plt\n",
    "import seaborn as sns\n",
    "\n",
    "#plt中文显示问题\n",
    "plt.rcParams['font.sans-serif'] = ['Arial Unicode MS']\n",
    "plt.rcParams['axes.unicode_minus'] = False\n",
    "plt.rcParams['font.sans-serif'] = ['SimHei']\n",
    "\n",
    "import warnings\n",
    "warnings.filterwarnings(\"ignore\")\n"
   ]
  },
  {
   "cell_type": "code",
   "execution_count": 39,
   "metadata": {},
   "outputs": [],
   "source": [
    "import sys"
   ]
  },
  {
   "cell_type": "code",
   "execution_count": 40,
   "metadata": {},
   "outputs": [
    {
     "name": "stdout",
     "output_type": "stream",
     "text": [
      "['', 'D:\\\\Anaconda\\\\python36.zip', 'D:\\\\Anaconda\\\\DLLs', 'D:\\\\Anaconda\\\\lib', 'D:\\\\Anaconda', 'C:\\\\Users\\\\38601\\\\AppData\\\\Roaming\\\\Python\\\\Python36\\\\site-packages', 'D:\\\\Anaconda\\\\lib\\\\site-packages', 'D:\\\\Anaconda\\\\lib\\\\site-packages\\\\win32', 'D:\\\\Anaconda\\\\lib\\\\site-packages\\\\win32\\\\lib', 'D:\\\\Anaconda\\\\lib\\\\site-packages\\\\Pythonwin', 'D:\\\\Anaconda\\\\lib\\\\site-packages\\\\IPython\\\\extensions', 'C:\\\\Users\\\\38601\\\\.ipython']\n"
     ]
    }
   ],
   "source": [
    "print(sys.path)"
   ]
  },
  {
   "cell_type": "code",
   "execution_count": 41,
   "metadata": {},
   "outputs": [
    {
     "data": {
      "text/html": [
       "<div>\n",
       "<style scoped>\n",
       "    .dataframe tbody tr th:only-of-type {\n",
       "        vertical-align: middle;\n",
       "    }\n",
       "\n",
       "    .dataframe tbody tr th {\n",
       "        vertical-align: top;\n",
       "    }\n",
       "\n",
       "    .dataframe thead th {\n",
       "        text-align: right;\n",
       "    }\n",
       "</style>\n",
       "<table border=\"1\" class=\"dataframe\">\n",
       "  <thead>\n",
       "    <tr style=\"text-align: right;\">\n",
       "      <th></th>\n",
       "      <th>user_id</th>\n",
       "      <th>new_user</th>\n",
       "      <th>age</th>\n",
       "      <th>sex</th>\n",
       "      <th>country</th>\n",
       "      <th>device</th>\n",
       "      <th>operative_system</th>\n",
       "      <th>source</th>\n",
       "      <th>total_pages_visited</th>\n",
       "    </tr>\n",
       "  </thead>\n",
       "  <tbody>\n",
       "    <tr>\n",
       "      <th>0</th>\n",
       "      <td>654951</td>\n",
       "      <td>0</td>\n",
       "      <td>17</td>\n",
       "      <td>Female</td>\n",
       "      <td>US</td>\n",
       "      <td>mobile</td>\n",
       "      <td>android</td>\n",
       "      <td>Direct</td>\n",
       "      <td>3</td>\n",
       "    </tr>\n",
       "    <tr>\n",
       "      <th>1</th>\n",
       "      <td>730619</td>\n",
       "      <td>0</td>\n",
       "      <td>27</td>\n",
       "      <td>Male</td>\n",
       "      <td>UK</td>\n",
       "      <td>mobile</td>\n",
       "      <td>iOS</td>\n",
       "      <td>Direct</td>\n",
       "      <td>5</td>\n",
       "    </tr>\n",
       "    <tr>\n",
       "      <th>2</th>\n",
       "      <td>261033</td>\n",
       "      <td>0</td>\n",
       "      <td>24</td>\n",
       "      <td>Female</td>\n",
       "      <td>US</td>\n",
       "      <td>mobile</td>\n",
       "      <td>android</td>\n",
       "      <td>Seo</td>\n",
       "      <td>4</td>\n",
       "    </tr>\n",
       "    <tr>\n",
       "      <th>3</th>\n",
       "      <td>533685</td>\n",
       "      <td>0</td>\n",
       "      <td>21</td>\n",
       "      <td>Male</td>\n",
       "      <td>UK</td>\n",
       "      <td>desktop</td>\n",
       "      <td>windows</td>\n",
       "      <td>Direct</td>\n",
       "      <td>5</td>\n",
       "    </tr>\n",
       "    <tr>\n",
       "      <th>4</th>\n",
       "      <td>699480</td>\n",
       "      <td>0</td>\n",
       "      <td>17</td>\n",
       "      <td>Male</td>\n",
       "      <td>UK</td>\n",
       "      <td>mobile</td>\n",
       "      <td>iOS</td>\n",
       "      <td>Direct</td>\n",
       "      <td>6</td>\n",
       "    </tr>\n",
       "  </tbody>\n",
       "</table>\n",
       "</div>"
      ],
      "text/plain": [
       "   user_id  new_user  age     sex country   device operative_system  source  \\\n",
       "0   654951         0   17  Female      US   mobile          android  Direct   \n",
       "1   730619         0   27    Male      UK   mobile              iOS  Direct   \n",
       "2   261033         0   24  Female      US   mobile          android     Seo   \n",
       "3   533685         0   21    Male      UK  desktop          windows  Direct   \n",
       "4   699480         0   17    Male      UK   mobile              iOS  Direct   \n",
       "\n",
       "   total_pages_visited  \n",
       "0                    3  \n",
       "1                    5  \n",
       "2                    4  \n",
       "3                    5  \n",
       "4                    6  "
      ]
     },
     "execution_count": 41,
     "metadata": {},
     "output_type": "execute_result"
    }
   ],
   "source": [
    "#用户信息数据表user_table\n",
    "\n",
    "user_info=pd.read_csv(\"user_table.csv\")\n",
    "user_info.head()"
   ]
  },
  {
   "cell_type": "code",
   "execution_count": 42,
   "metadata": {},
   "outputs": [],
   "source": [
    "#删除两个异常值\n",
    "\n",
    "user_info = user_info[user_info['age']<100]"
   ]
  },
  {
   "cell_type": "code",
   "execution_count": 43,
   "metadata": {},
   "outputs": [],
   "source": [
    "user_info['country'].fillna(user_info['country'].mode()[0], inplace=True)"
   ]
  },
  {
   "cell_type": "code",
   "execution_count": 44,
   "metadata": {},
   "outputs": [],
   "source": [
    "#当用户为新用户，source缺失值填补Seo\n",
    "\n",
    "user_info['source']=np.where((user_info['source'].isnull())&(user_info['new_user']==1),\n",
    "         'Seo',user_info['source'])"
   ]
  },
  {
   "cell_type": "code",
   "execution_count": 45,
   "metadata": {},
   "outputs": [],
   "source": [
    "#当用户为老用户，source缺失值填补direct\n",
    "\n",
    "user_info['source'].fillna('Direct',inplace=True)"
   ]
  },
  {
   "cell_type": "code",
   "execution_count": 46,
   "metadata": {},
   "outputs": [],
   "source": [
    "#操作系统为mac,windows,linux 设备为desktop\n",
    "\n",
    "user_info['device']=np.where((user_info['device'].isnull())&(user_info['operative_system'].isin(['mac','windows','linux'])),\n",
    "         'desktop',user_info['device'])"
   ]
  },
  {
   "cell_type": "code",
   "execution_count": 47,
   "metadata": {},
   "outputs": [],
   "source": [
    "#操作系统为ios,android 设备为mobile \n",
    "\n",
    "user_info['device']=np.where((user_info['device'].isnull())&(user_info['operative_system'].isin(['iOS','android'])),\n",
    "         'mobile',user_info['device'])"
   ]
  },
  {
   "cell_type": "code",
   "execution_count": 48,
   "metadata": {},
   "outputs": [],
   "source": [
    "#用众数填补剩余device缺失值\n",
    "\n",
    "user_info['device'].fillna(user_info['device'].mode()[0], inplace=True)"
   ]
  },
  {
   "cell_type": "code",
   "execution_count": 49,
   "metadata": {},
   "outputs": [],
   "source": [
    "#操作系统填补为iOS当用户使用的是mobile\n",
    "\n",
    "user_info['operative_system']=np.where((user_info['operative_system'].isnull())&(user_info['device']=='mobile'),\n",
    "         'iOS',user_info['operative_system'])"
   ]
  },
  {
   "cell_type": "code",
   "execution_count": 50,
   "metadata": {},
   "outputs": [],
   "source": [
    "#操作系统填补为windows当用户使用的是desktop\n",
    "\n",
    "user_info['operative_system'].fillna('windows',inplace=True)"
   ]
  },
  {
   "cell_type": "code",
   "execution_count": 51,
   "metadata": {},
   "outputs": [],
   "source": [
    "#填sex补缺失值\n",
    "\n",
    "user_info['sex']=np.where((user_info['sex'].isnull())&(user_info['operative_system']=='linux'),\n",
    "         'Male',user_info['sex'])"
   ]
  },
  {
   "cell_type": "code",
   "execution_count": 52,
   "metadata": {},
   "outputs": [],
   "source": [
    "user_info['sex'].fillna('Female',inplace=True)"
   ]
  },
  {
   "cell_type": "code",
   "execution_count": 53,
   "metadata": {},
   "outputs": [],
   "source": [
    "user_home=pd.read_csv('home_page_table.csv')\n",
    "user_listing=pd.read_csv('listing_page_table.csv')\n",
    "user_product=pd.read_csv('product_page_table.csv')\n",
    "user_payment=pd.read_csv('payment_page_table.csv')\n",
    "user_confirmation=pd.read_csv('payment_confirmation_table.csv')"
   ]
  },
  {
   "cell_type": "code",
   "execution_count": 54,
   "metadata": {},
   "outputs": [],
   "source": [
    "#利用python进行数据分析8.2节：合并数据集 merge\n",
    "\n",
    "user_info=pd.merge(user_info,user_home,on='user_id',how='left')\n",
    "user_info.rename(columns={'page': 'home_page'},inplace=True)"
   ]
  },
  {
   "cell_type": "code",
   "execution_count": 55,
   "metadata": {},
   "outputs": [],
   "source": [
    "user_info=pd.merge(user_info,user_listing,on='user_id',how='left')\n",
    "user_info.rename(columns={'page': 'listing_page'},inplace=True)"
   ]
  },
  {
   "cell_type": "code",
   "execution_count": 56,
   "metadata": {},
   "outputs": [],
   "source": [
    "user_info=pd.merge(user_info,user_product,on='user_id',how='left')\n",
    "user_info.rename(columns={'page': 'product_page'},inplace=True)"
   ]
  },
  {
   "cell_type": "code",
   "execution_count": 57,
   "metadata": {},
   "outputs": [],
   "source": [
    "user_info=pd.merge(user_info,user_payment,on='user_id',how='left')\n",
    "user_info.rename(columns={'page': 'payment_page'},inplace=True)"
   ]
  },
  {
   "cell_type": "code",
   "execution_count": 58,
   "metadata": {},
   "outputs": [],
   "source": [
    "user_info=pd.merge(user_info,user_confirmation,on='user_id',how='left')\n",
    "user_info.rename(columns={'page': 'confirmation_page'},inplace=True)"
   ]
  },
  {
   "cell_type": "code",
   "execution_count": 59,
   "metadata": {},
   "outputs": [],
   "source": [
    "for col in ['home_page','listing_page','product_page','payment_page','confirmation_page']:\n",
    "    user_info[col].fillna(0, inplace=True)"
   ]
  },
  {
   "cell_type": "code",
   "execution_count": 60,
   "metadata": {},
   "outputs": [],
   "source": [
    "user_info.replace('home_page',1,inplace=True)\n",
    "user_info.replace('listing_page',1,inplace=True)\n",
    "user_info.replace('product_page',1,inplace=True)\n",
    "user_info.replace('payment_page',1,inplace=True)\n",
    "user_info.replace('payment_confirmation_page',1,inplace=True)"
   ]
  },
  {
   "cell_type": "code",
   "execution_count": 61,
   "metadata": {},
   "outputs": [
    {
     "data": {
      "text/html": [
       "<div>\n",
       "<style scoped>\n",
       "    .dataframe tbody tr th:only-of-type {\n",
       "        vertical-align: middle;\n",
       "    }\n",
       "\n",
       "    .dataframe tbody tr th {\n",
       "        vertical-align: top;\n",
       "    }\n",
       "\n",
       "    .dataframe thead th {\n",
       "        text-align: right;\n",
       "    }\n",
       "</style>\n",
       "<table border=\"1\" class=\"dataframe\">\n",
       "  <thead>\n",
       "    <tr style=\"text-align: right;\">\n",
       "      <th></th>\n",
       "      <th>user_id</th>\n",
       "      <th>new_user</th>\n",
       "      <th>age</th>\n",
       "      <th>sex</th>\n",
       "      <th>country</th>\n",
       "      <th>device</th>\n",
       "      <th>operative_system</th>\n",
       "      <th>source</th>\n",
       "      <th>total_pages_visited</th>\n",
       "      <th>home_page</th>\n",
       "      <th>listing_page</th>\n",
       "      <th>product_page</th>\n",
       "      <th>payment_page</th>\n",
       "      <th>confirmation_page</th>\n",
       "    </tr>\n",
       "  </thead>\n",
       "  <tbody>\n",
       "    <tr>\n",
       "      <th>0</th>\n",
       "      <td>654951</td>\n",
       "      <td>0</td>\n",
       "      <td>17</td>\n",
       "      <td>Female</td>\n",
       "      <td>US</td>\n",
       "      <td>mobile</td>\n",
       "      <td>android</td>\n",
       "      <td>Direct</td>\n",
       "      <td>3</td>\n",
       "      <td>1</td>\n",
       "      <td>1</td>\n",
       "      <td>1</td>\n",
       "      <td>0</td>\n",
       "      <td>0</td>\n",
       "    </tr>\n",
       "    <tr>\n",
       "      <th>1</th>\n",
       "      <td>730619</td>\n",
       "      <td>0</td>\n",
       "      <td>27</td>\n",
       "      <td>Male</td>\n",
       "      <td>UK</td>\n",
       "      <td>mobile</td>\n",
       "      <td>iOS</td>\n",
       "      <td>Direct</td>\n",
       "      <td>5</td>\n",
       "      <td>1</td>\n",
       "      <td>0</td>\n",
       "      <td>0</td>\n",
       "      <td>0</td>\n",
       "      <td>0</td>\n",
       "    </tr>\n",
       "    <tr>\n",
       "      <th>2</th>\n",
       "      <td>261033</td>\n",
       "      <td>0</td>\n",
       "      <td>24</td>\n",
       "      <td>Female</td>\n",
       "      <td>US</td>\n",
       "      <td>mobile</td>\n",
       "      <td>android</td>\n",
       "      <td>Seo</td>\n",
       "      <td>4</td>\n",
       "      <td>1</td>\n",
       "      <td>1</td>\n",
       "      <td>0</td>\n",
       "      <td>0</td>\n",
       "      <td>0</td>\n",
       "    </tr>\n",
       "    <tr>\n",
       "      <th>3</th>\n",
       "      <td>533685</td>\n",
       "      <td>0</td>\n",
       "      <td>21</td>\n",
       "      <td>Male</td>\n",
       "      <td>UK</td>\n",
       "      <td>desktop</td>\n",
       "      <td>windows</td>\n",
       "      <td>Direct</td>\n",
       "      <td>5</td>\n",
       "      <td>1</td>\n",
       "      <td>1</td>\n",
       "      <td>1</td>\n",
       "      <td>1</td>\n",
       "      <td>0</td>\n",
       "    </tr>\n",
       "    <tr>\n",
       "      <th>4</th>\n",
       "      <td>699480</td>\n",
       "      <td>0</td>\n",
       "      <td>17</td>\n",
       "      <td>Male</td>\n",
       "      <td>UK</td>\n",
       "      <td>mobile</td>\n",
       "      <td>iOS</td>\n",
       "      <td>Direct</td>\n",
       "      <td>6</td>\n",
       "      <td>1</td>\n",
       "      <td>1</td>\n",
       "      <td>0</td>\n",
       "      <td>0</td>\n",
       "      <td>0</td>\n",
       "    </tr>\n",
       "  </tbody>\n",
       "</table>\n",
       "</div>"
      ],
      "text/plain": [
       "   user_id  new_user  age     sex country   device operative_system  source  \\\n",
       "0   654951         0   17  Female      US   mobile          android  Direct   \n",
       "1   730619         0   27    Male      UK   mobile              iOS  Direct   \n",
       "2   261033         0   24  Female      US   mobile          android     Seo   \n",
       "3   533685         0   21    Male      UK  desktop          windows  Direct   \n",
       "4   699480         0   17    Male      UK   mobile              iOS  Direct   \n",
       "\n",
       "   total_pages_visited  home_page  listing_page  product_page  payment_page  \\\n",
       "0                    3          1             1             1             0   \n",
       "1                    5          1             0             0             0   \n",
       "2                    4          1             1             0             0   \n",
       "3                    5          1             1             1             1   \n",
       "4                    6          1             1             0             0   \n",
       "\n",
       "   confirmation_page  \n",
       "0                  0  \n",
       "1                  0  \n",
       "2                  0  \n",
       "3                  0  \n",
       "4                  0  "
      ]
     },
     "execution_count": 61,
     "metadata": {},
     "output_type": "execute_result"
    }
   ],
   "source": [
    "user_info.head()"
   ]
  },
  {
   "cell_type": "code",
   "execution_count": 63,
   "metadata": {},
   "outputs": [
    {
     "data": {
      "image/png": "[encoded data removed]",
      "text/plain": [
       "<Figure size 360x288 with 1 Axes>"
      ]
     },
     "metadata": {},
     "output_type": "display_data"
    }
   ],
   "source": [
    "plt.figure(figsize=(5, 4))\n",
    "\n",
    "# source=pd.DataFrame(user_info['source'].value_counts().reset_index(name='counts'))\n",
    "source = user_info.groupby(['source'])['confirmation_page'].mean().reset_index(name='CR')\n",
    "\n",
    "g =sns.barplot(x='source',y='CR',data=source)\n",
    "\n",
    "for index, row in source.iterrows():\n",
    "    g.text(row.name,row.CR,round(row.CR,3),color='black', ha=\"center\")\n",
    "    \n",
    "plt.xlabel('用户来源')\n",
    "plt.ylabel('下单转化率')\n",
    "plt.show()"
   ]
  },
  {
   "cell_type": "code",
   "execution_count": 64,
   "metadata": {},
   "outputs": [
    {
     "ename": "AttributeError",
     "evalue": "'Series' object has no attribute 'HS'",
     "output_type": "error",
     "traceback": [
      "\u001b[1;31m---------------------------------------------------------------------------\u001b[0m",
      "\u001b[1;31mAttributeError\u001b[0m                            Traceback (most recent call last)",
      "\u001b[1;32m<ipython-input-64-8786d4a242bf>\u001b[0m in \u001b[0;36m<module>\u001b[1;34m()\u001b[0m\n\u001b[0;32m      7\u001b[0m \u001b[1;33m\u001b[0m\u001b[0m\n\u001b[0;32m      8\u001b[0m \u001b[1;32mfor\u001b[0m \u001b[0mindex\u001b[0m\u001b[1;33m,\u001b[0m \u001b[0mrow\u001b[0m \u001b[1;32min\u001b[0m \u001b[0msource\u001b[0m\u001b[1;33m.\u001b[0m\u001b[0miterrows\u001b[0m\u001b[1;33m(\u001b[0m\u001b[1;33m)\u001b[0m\u001b[1;33m:\u001b[0m\u001b[1;33m\u001b[0m\u001b[0m\n\u001b[1;32m----> 9\u001b[1;33m     \u001b[0mg\u001b[0m\u001b[1;33m.\u001b[0m\u001b[0mtext\u001b[0m\u001b[1;33m(\u001b[0m\u001b[0mrow\u001b[0m\u001b[1;33m.\u001b[0m\u001b[0mname\u001b[0m\u001b[1;33m,\u001b[0m\u001b[0mrow\u001b[0m\u001b[1;33m.\u001b[0m\u001b[0mHS\u001b[0m\u001b[1;33m,\u001b[0m\u001b[0mround\u001b[0m\u001b[1;33m(\u001b[0m\u001b[0mrow\u001b[0m\u001b[1;33m.\u001b[0m\u001b[0mHS\u001b[0m\u001b[1;33m,\u001b[0m\u001b[1;36m2\u001b[0m\u001b[1;33m)\u001b[0m\u001b[1;33m,\u001b[0m\u001b[0mcolor\u001b[0m\u001b[1;33m=\u001b[0m\u001b[1;34m'black'\u001b[0m\u001b[1;33m,\u001b[0m \u001b[0mha\u001b[0m\u001b[1;33m=\u001b[0m\u001b[1;34m\"center\"\u001b[0m\u001b[1;33m)\u001b[0m\u001b[1;33m\u001b[0m\u001b[0m\n\u001b[0m\u001b[0;32m     10\u001b[0m \u001b[1;33m\u001b[0m\u001b[0m\n\u001b[0;32m     11\u001b[0m \u001b[0mplt\u001b[0m\u001b[1;33m.\u001b[0m\u001b[0mxlabel\u001b[0m\u001b[1;33m(\u001b[0m\u001b[1;34m'性别'\u001b[0m\u001b[1;33m)\u001b[0m\u001b[1;33m\u001b[0m\u001b[0m\n",
      "\u001b[1;32mD:\\Anaconda\\lib\\site-packages\\pandas\\core\\generic.py\u001b[0m in \u001b[0;36m__getattr__\u001b[1;34m(self, name)\u001b[0m\n\u001b[0;32m   4370\u001b[0m             \u001b[1;32mif\u001b[0m \u001b[0mself\u001b[0m\u001b[1;33m.\u001b[0m\u001b[0m_info_axis\u001b[0m\u001b[1;33m.\u001b[0m\u001b[0m_can_hold_identifiers_and_holds_name\u001b[0m\u001b[1;33m(\u001b[0m\u001b[0mname\u001b[0m\u001b[1;33m)\u001b[0m\u001b[1;33m:\u001b[0m\u001b[1;33m\u001b[0m\u001b[0m\n\u001b[0;32m   4371\u001b[0m                 \u001b[1;32mreturn\u001b[0m \u001b[0mself\u001b[0m\u001b[1;33m[\u001b[0m\u001b[0mname\u001b[0m\u001b[1;33m]\u001b[0m\u001b[1;33m\u001b[0m\u001b[0m\n\u001b[1;32m-> 4372\u001b[1;33m             \u001b[1;32mreturn\u001b[0m \u001b[0mobject\u001b[0m\u001b[1;33m.\u001b[0m\u001b[0m__getattribute__\u001b[0m\u001b[1;33m(\u001b[0m\u001b[0mself\u001b[0m\u001b[1;33m,\u001b[0m \u001b[0mname\u001b[0m\u001b[1;33m)\u001b[0m\u001b[1;33m\u001b[0m\u001b[0m\n\u001b[0m\u001b[0;32m   4373\u001b[0m \u001b[1;33m\u001b[0m\u001b[0m\n\u001b[0;32m   4374\u001b[0m     \u001b[1;32mdef\u001b[0m \u001b[0m__setattr__\u001b[0m\u001b[1;33m(\u001b[0m\u001b[0mself\u001b[0m\u001b[1;33m,\u001b[0m \u001b[0mname\u001b[0m\u001b[1;33m,\u001b[0m \u001b[0mvalue\u001b[0m\u001b[1;33m)\u001b[0m\u001b[1;33m:\u001b[0m\u001b[1;33m\u001b[0m\u001b[0m\n",
      "\u001b[1;31mAttributeError\u001b[0m: 'Series' object has no attribute 'HS'"
     ]
    },
    {
     "data": {
      "image/png": "[encoded data removed]",
      "text/plain": [
       "<Figure size 360x288 with 1 Axes>"
      ]
     },
     "metadata": {},
     "output_type": "display_data"
    }
   ],
   "source": [
    "plt.figure(figsize=(5, 4))\n",
    "\n",
    "# source=pd.DataFrame(user_info['source'].value_counts().reset_index(name='counts'))\n",
    "sex = user_info.groupby(['sex'])['home_page'].mean().reset_index(name='HS')\n",
    "\n",
    "g =sns.barplot(x='sex',y='HS',data=sex)\n",
    "\n",
    "for index, row in source.iterrows():\n",
    "    g.text(row.name,row.HS,round(row.HS,2),color='black', ha=\"center\")\n",
    "    \n",
    "plt.xlabel('性别')\n",
    "plt.ylabel('下单转化率')\n",
    "plt.show()"
   ]
  },
  {
   "cell_type": "code",
   "execution_count": 103,
   "metadata": {},
   "outputs": [
    {
     "data": {
      "text/html": [
       "<div>\n",
       "<style scoped>\n",
       "    .dataframe tbody tr th:only-of-type {\n",
       "        vertical-align: middle;\n",
       "    }\n",
       "\n",
       "    .dataframe tbody tr th {\n",
       "        vertical-align: top;\n",
       "    }\n",
       "\n",
       "    .dataframe thead th {\n",
       "        text-align: right;\n",
       "    }\n",
       "</style>\n",
       "<table border=\"1\" class=\"dataframe\">\n",
       "  <thead>\n",
       "    <tr style=\"text-align: right;\">\n",
       "      <th></th>\n",
       "      <th>country</th>\n",
       "      <th>HS</th>\n",
       "    </tr>\n",
       "  </thead>\n",
       "  <tbody>\n",
       "    <tr>\n",
       "      <th>0</th>\n",
       "      <td>China</td>\n",
       "      <td>16563</td>\n",
       "    </tr>\n",
       "    <tr>\n",
       "      <th>1</th>\n",
       "      <td>Germany</td>\n",
       "      <td>5027</td>\n",
       "    </tr>\n",
       "    <tr>\n",
       "      <th>2</th>\n",
       "      <td>UK</td>\n",
       "      <td>15401</td>\n",
       "    </tr>\n",
       "    <tr>\n",
       "      <th>3</th>\n",
       "      <td>US</td>\n",
       "      <td>53407</td>\n",
       "    </tr>\n",
       "  </tbody>\n",
       "</table>\n",
       "</div>"
      ],
      "text/plain": [
       "   country     HS\n",
       "0    China  16563\n",
       "1  Germany   5027\n",
       "2       UK  15401\n",
       "3       US  53407"
      ]
     },
     "execution_count": 103,
     "metadata": {},
     "output_type": "execute_result"
    }
   ],
   "source": [
    "user_info.groupby(['country'])['home_page'].sum().reset_index(name='HS')"
   ]
  },
  {
   "cell_type": "code",
   "execution_count": 104,
   "metadata": {},
   "outputs": [
    {
     "data": {
      "text/html": [
       "<div>\n",
       "<style scoped>\n",
       "    .dataframe tbody tr th:only-of-type {\n",
       "        vertical-align: middle;\n",
       "    }\n",
       "\n",
       "    .dataframe tbody tr th {\n",
       "        vertical-align: top;\n",
       "    }\n",
       "\n",
       "    .dataframe thead th {\n",
       "        text-align: right;\n",
       "    }\n",
       "</style>\n",
       "<table border=\"1\" class=\"dataframe\">\n",
       "  <thead>\n",
       "    <tr style=\"text-align: right;\">\n",
       "      <th></th>\n",
       "      <th>country</th>\n",
       "      <th>HS</th>\n",
       "    </tr>\n",
       "  </thead>\n",
       "  <tbody>\n",
       "    <tr>\n",
       "      <th>0</th>\n",
       "      <td>China</td>\n",
       "      <td>7055</td>\n",
       "    </tr>\n",
       "    <tr>\n",
       "      <th>1</th>\n",
       "      <td>Germany</td>\n",
       "      <td>2900</td>\n",
       "    </tr>\n",
       "    <tr>\n",
       "      <th>2</th>\n",
       "      <td>UK</td>\n",
       "      <td>8008</td>\n",
       "    </tr>\n",
       "    <tr>\n",
       "      <th>3</th>\n",
       "      <td>US</td>\n",
       "      <td>27237</td>\n",
       "    </tr>\n",
       "  </tbody>\n",
       "</table>\n",
       "</div>"
      ],
      "text/plain": [
       "   country     HS\n",
       "0    China   7055\n",
       "1  Germany   2900\n",
       "2       UK   8008\n",
       "3       US  27237"
      ]
     },
     "execution_count": 104,
     "metadata": {},
     "output_type": "execute_result"
    }
   ],
   "source": [
    "user_info.groupby(['country'])['product_page'].sum().reset_index(name='HS')"
   ]
  },
  {
   "cell_type": "code",
   "execution_count": 105,
   "metadata": {},
   "outputs": [
    {
     "data": {
      "text/html": [
       "<div>\n",
       "<style scoped>\n",
       "    .dataframe tbody tr th:only-of-type {\n",
       "        vertical-align: middle;\n",
       "    }\n",
       "\n",
       "    .dataframe tbody tr th {\n",
       "        vertical-align: top;\n",
       "    }\n",
       "\n",
       "    .dataframe thead th {\n",
       "        text-align: right;\n",
       "    }\n",
       "</style>\n",
       "<table border=\"1\" class=\"dataframe\">\n",
       "  <thead>\n",
       "    <tr style=\"text-align: right;\">\n",
       "      <th></th>\n",
       "      <th>country</th>\n",
       "      <th>HS</th>\n",
       "    </tr>\n",
       "  </thead>\n",
       "  <tbody>\n",
       "    <tr>\n",
       "      <th>0</th>\n",
       "      <td>China</td>\n",
       "      <td>10665</td>\n",
       "    </tr>\n",
       "    <tr>\n",
       "      <th>1</th>\n",
       "      <td>Germany</td>\n",
       "      <td>4008</td>\n",
       "    </tr>\n",
       "    <tr>\n",
       "      <th>2</th>\n",
       "      <td>UK</td>\n",
       "      <td>11707</td>\n",
       "    </tr>\n",
       "    <tr>\n",
       "      <th>3</th>\n",
       "      <td>US</td>\n",
       "      <td>40011</td>\n",
       "    </tr>\n",
       "  </tbody>\n",
       "</table>\n",
       "</div>"
      ],
      "text/plain": [
       "   country     HS\n",
       "0    China  10665\n",
       "1  Germany   4008\n",
       "2       UK  11707\n",
       "3       US  40011"
      ]
     },
     "execution_count": 105,
     "metadata": {},
     "output_type": "execute_result"
    }
   ],
   "source": [
    "user_info.groupby(['country'])['listing_page'].sum().reset_index(name='HS')"
   ]
  },
  {
   "cell_type": "code",
   "execution_count": 106,
   "metadata": {},
   "outputs": [
    {
     "data": {
      "text/html": [
       "<div>\n",
       "<style scoped>\n",
       "    .dataframe tbody tr th:only-of-type {\n",
       "        vertical-align: middle;\n",
       "    }\n",
       "\n",
       "    .dataframe tbody tr th {\n",
       "        vertical-align: top;\n",
       "    }\n",
       "\n",
       "    .dataframe thead th {\n",
       "        text-align: right;\n",
       "    }\n",
       "</style>\n",
       "<table border=\"1\" class=\"dataframe\">\n",
       "  <thead>\n",
       "    <tr style=\"text-align: right;\">\n",
       "      <th></th>\n",
       "      <th>country</th>\n",
       "      <th>HS</th>\n",
       "    </tr>\n",
       "  </thead>\n",
       "  <tbody>\n",
       "    <tr>\n",
       "      <th>0</th>\n",
       "      <td>China</td>\n",
       "      <td>889</td>\n",
       "    </tr>\n",
       "    <tr>\n",
       "      <th>1</th>\n",
       "      <td>Germany</td>\n",
       "      <td>425</td>\n",
       "    </tr>\n",
       "    <tr>\n",
       "      <th>2</th>\n",
       "      <td>UK</td>\n",
       "      <td>1070</td>\n",
       "    </tr>\n",
       "    <tr>\n",
       "      <th>3</th>\n",
       "      <td>US</td>\n",
       "      <td>3646</td>\n",
       "    </tr>\n",
       "  </tbody>\n",
       "</table>\n",
       "</div>"
      ],
      "text/plain": [
       "   country    HS\n",
       "0    China   889\n",
       "1  Germany   425\n",
       "2       UK  1070\n",
       "3       US  3646"
      ]
     },
     "execution_count": 106,
     "metadata": {},
     "output_type": "execute_result"
    }
   ],
   "source": [
    "user_info.groupby(['country'])['payment_page'].sum().reset_index(name='HS')"
   ]
  },
  {
   "cell_type": "code",
   "execution_count": 107,
   "metadata": {},
   "outputs": [
    {
     "data": {
      "text/html": [
       "<div>\n",
       "<style scoped>\n",
       "    .dataframe tbody tr th:only-of-type {\n",
       "        vertical-align: middle;\n",
       "    }\n",
       "\n",
       "    .dataframe tbody tr th {\n",
       "        vertical-align: top;\n",
       "    }\n",
       "\n",
       "    .dataframe thead th {\n",
       "        text-align: right;\n",
       "    }\n",
       "</style>\n",
       "<table border=\"1\" class=\"dataframe\">\n",
       "  <thead>\n",
       "    <tr style=\"text-align: right;\">\n",
       "      <th></th>\n",
       "      <th>country</th>\n",
       "      <th>HS</th>\n",
       "    </tr>\n",
       "  </thead>\n",
       "  <tbody>\n",
       "    <tr>\n",
       "      <th>0</th>\n",
       "      <td>China</td>\n",
       "      <td>244</td>\n",
       "    </tr>\n",
       "    <tr>\n",
       "      <th>1</th>\n",
       "      <td>Germany</td>\n",
       "      <td>151</td>\n",
       "    </tr>\n",
       "    <tr>\n",
       "      <th>2</th>\n",
       "      <td>UK</td>\n",
       "      <td>380</td>\n",
       "    </tr>\n",
       "    <tr>\n",
       "      <th>3</th>\n",
       "      <td>US</td>\n",
       "      <td>1219</td>\n",
       "    </tr>\n",
       "  </tbody>\n",
       "</table>\n",
       "</div>"
      ],
      "text/plain": [
       "   country    HS\n",
       "0    China   244\n",
       "1  Germany   151\n",
       "2       UK   380\n",
       "3       US  1219"
      ]
     },
     "execution_count": 107,
     "metadata": {},
     "output_type": "execute_result"
    }
   ],
   "source": [
    "user_info.groupby(['country'])['confirmation_page'].sum().reset_index(name='HS')"
   ]
  },
  {
   "cell_type": "code",
   "execution_count": 108,
   "metadata": {},
   "outputs": [
    {
     "data": {
      "image/png": "[encoded data removed]",
      "text/plain": [
       "<Figure size 432x288 with 1 Axes>"
      ]
     },
     "metadata": {},
     "output_type": "display_data"
    }
   ],
   "source": [
    "sns.barplot(x='new_user',y='confirmation_page',hue='sex',data=user_info)\n",
    "plt.xlabel('用户性别以及新老')\n",
    "plt.ylabel('转化率')\n",
    "plt.show()"
   ]
  },
  {
   "cell_type": "code",
   "execution_count": 92,
   "metadata": {},
   "outputs": [
    {
     "data": {
      "image/png": "[encoded data removed]",
      "text/plain": [
       "<Figure size 432x288 with 1 Axes>"
      ]
     },
     "metadata": {},
     "output_type": "display_data"
    }
   ],
   "source": [
    "sns.barplot(x='sex',y='confirmation_page',hue='country',data=user_info)\n",
    "plt.xlabel('用户性别以及新老')\n",
    "plt.ylabel('转化率')\n",
    "plt.show()"
   ]
  },
  {
   "cell_type": "code",
   "execution_count": null,
   "metadata": {},
   "outputs": [],
   "source": [
    "sns.barplot(x='sex',y='confirmation_page',hue='country',data=user_info)\n",
    "plt.xlabel('用户性别以及新老')\n",
    "plt.ylabel('转化率')\n",
    "plt.show()"
   ]
  },
  {
   "cell_type": "code",
   "execution_count": 76,
   "metadata": {},
   "outputs": [
    {
     "data": {
      "image/png": "[encoded data removed]",
      "text/plain": [
       "<Figure size 432x288 with 1 Axes>"
      ]
     },
     "metadata": {},
     "output_type": "display_data"
    }
   ],
   "source": [
    "sns.barplot(x='new_user',y='confirmation_page',hue='country',data=user_info)\n",
    "plt.xlabel('用户性别以及新老')\n",
    "plt.ylabel('转化率')\n",
    "plt.show()"
   ]
  },
  {
   "cell_type": "code",
   "execution_count": 30,
   "metadata": {},
   "outputs": [
    {
     "data": {
      "text/html": [
       "<div>\n",
       "<style scoped>\n",
       "    .dataframe tbody tr th:only-of-type {\n",
       "        vertical-align: middle;\n",
       "    }\n",
       "\n",
       "    .dataframe tbody tr th {\n",
       "        vertical-align: top;\n",
       "    }\n",
       "\n",
       "    .dataframe thead th {\n",
       "        text-align: right;\n",
       "    }\n",
       "</style>\n",
       "<table border=\"1\" class=\"dataframe\">\n",
       "  <thead>\n",
       "    <tr style=\"text-align: right;\">\n",
       "      <th></th>\n",
       "      <th>source</th>\n",
       "      <th>new_user</th>\n",
       "      <th>CR</th>\n",
       "    </tr>\n",
       "  </thead>\n",
       "  <tbody>\n",
       "    <tr>\n",
       "      <th>0</th>\n",
       "      <td>Ads</td>\n",
       "      <td>0</td>\n",
       "      <td>0.016074</td>\n",
       "    </tr>\n",
       "    <tr>\n",
       "      <th>1</th>\n",
       "      <td>Ads</td>\n",
       "      <td>1</td>\n",
       "      <td>0.014180</td>\n",
       "    </tr>\n",
       "    <tr>\n",
       "      <th>2</th>\n",
       "      <td>Direct</td>\n",
       "      <td>0</td>\n",
       "      <td>0.029814</td>\n",
       "    </tr>\n",
       "    <tr>\n",
       "      <th>3</th>\n",
       "      <td>Direct</td>\n",
       "      <td>1</td>\n",
       "      <td>0.008400</td>\n",
       "    </tr>\n",
       "    <tr>\n",
       "      <th>4</th>\n",
       "      <td>Seo</td>\n",
       "      <td>0</td>\n",
       "      <td>0.012984</td>\n",
       "    </tr>\n",
       "    <tr>\n",
       "      <th>5</th>\n",
       "      <td>Seo</td>\n",
       "      <td>1</td>\n",
       "      <td>0.011165</td>\n",
       "    </tr>\n",
       "  </tbody>\n",
       "</table>\n",
       "</div>"
      ],
      "text/plain": [
       "   source  new_user        CR\n",
       "0     Ads         0  0.016074\n",
       "1     Ads         1  0.014180\n",
       "2  Direct         0  0.029814\n",
       "3  Direct         1  0.008400\n",
       "4     Seo         0  0.012984\n",
       "5     Seo         1  0.011165"
      ]
     },
     "execution_count": 30,
     "metadata": {},
     "output_type": "execute_result"
    }
   ],
   "source": [
    "user_info.groupby(['source','new_user'])['confirmation_page'].mean().reset_index(name='CR')"
   ]
  },
  {
   "cell_type": "code",
   "execution_count": 31,
   "metadata": {},
   "outputs": [
    {
     "data": {
      "image/png": "[encoded data removed]",
      "text/plain": [
       "<Figure size 432x288 with 1 Axes>"
      ]
     },
     "metadata": {},
     "output_type": "display_data"
    }
   ],
   "source": [
    "# 用户来源以及新老\n",
    "sns.barplot(x='new_user',y='confirmation_page',hue='source',data=user_info)\n",
    "plt.xlabel('用户来源以及新老')\n",
    "plt.ylabel('转化率')\n",
    "plt.show()"
   ]
  },
  {
   "cell_type": "markdown",
   "metadata": {},
   "source": [
    "老用户直接进入平台的下单转化率更高，新用户通过广告进入平台的下单转化率更高"
   ]
  },
  {
   "cell_type": "code",
   "execution_count": 33,
   "metadata": {},
   "outputs": [
    {
     "data": {
      "image/png": "[encoded data removed]",
      "text/plain": [
       "<Figure size 360x288 with 1 Axes>"
      ]
     },
     "metadata": {},
     "output_type": "display_data"
    }
   ],
   "source": [
    "#用户设备\n",
    "plt.figure(figsize=(5, 4))\n",
    "\n",
    "# source=pd.DataFrame(user_info['source'].value_counts().reset_index(name='counts'))\n",
    "device = user_info.groupby(['device'])['confirmation_page'].mean().reset_index(name='CR')\n",
    "\n",
    "g =sns.barplot(x='device',y='CR',data=source)\n",
    "\n",
    "for index, row in device.iterrows():\n",
    "    g.text(row.name,row.CR,round(row.CR,3),color='black', ha=\"center\")\n",
    "    \n",
    "plt.xlabel('设备')\n",
    "plt.ylabel('下单转化率')\n",
    "plt.show()"
   ]
  },
  {
   "cell_type": "markdown",
   "metadata": {},
   "source": [
    "**<font color=black size=4 face=雅黑>Step4: 特征工程</font>**"
   ]
  },
  {
   "cell_type": "code",
   "execution_count": 78,
   "metadata": {},
   "outputs": [],
   "source": [
    "#当deep=false相当于引用，原值改变复制的结果随着改变 等价于model_info1=user_info\n",
    "\n",
    "model_info=user_info.copy(deep=True)"
   ]
  },
  {
   "cell_type": "code",
   "execution_count": 79,
   "metadata": {},
   "outputs": [],
   "source": [
    "#把转化converted作为我的label(因变量)\n",
    "\n",
    "model_info['converted']=model_info['confirmation_page']"
   ]
  },
  {
   "cell_type": "code",
   "execution_count": 80,
   "metadata": {},
   "outputs": [
    {
     "data": {
      "text/html": [
       "<div>\n",
       "<style scoped>\n",
       "    .dataframe tbody tr th:only-of-type {\n",
       "        vertical-align: middle;\n",
       "    }\n",
       "\n",
       "    .dataframe tbody tr th {\n",
       "        vertical-align: top;\n",
       "    }\n",
       "\n",
       "    .dataframe thead th {\n",
       "        text-align: right;\n",
       "    }\n",
       "</style>\n",
       "<table border=\"1\" class=\"dataframe\">\n",
       "  <thead>\n",
       "    <tr style=\"text-align: right;\">\n",
       "      <th></th>\n",
       "      <th>user_id</th>\n",
       "      <th>new_user</th>\n",
       "      <th>age</th>\n",
       "      <th>sex</th>\n",
       "      <th>country</th>\n",
       "      <th>device</th>\n",
       "      <th>operative_system</th>\n",
       "      <th>source</th>\n",
       "      <th>total_pages_visited</th>\n",
       "      <th>home_page</th>\n",
       "      <th>listing_page</th>\n",
       "      <th>product_page</th>\n",
       "      <th>payment_page</th>\n",
       "      <th>confirmation_page</th>\n",
       "      <th>converted</th>\n",
       "    </tr>\n",
       "  </thead>\n",
       "  <tbody>\n",
       "    <tr>\n",
       "      <th>0</th>\n",
       "      <td>654951</td>\n",
       "      <td>0</td>\n",
       "      <td>17</td>\n",
       "      <td>Female</td>\n",
       "      <td>US</td>\n",
       "      <td>mobile</td>\n",
       "      <td>android</td>\n",
       "      <td>Direct</td>\n",
       "      <td>3</td>\n",
       "      <td>1</td>\n",
       "      <td>1</td>\n",
       "      <td>1</td>\n",
       "      <td>0</td>\n",
       "      <td>0</td>\n",
       "      <td>0</td>\n",
       "    </tr>\n",
       "    <tr>\n",
       "      <th>1</th>\n",
       "      <td>730619</td>\n",
       "      <td>0</td>\n",
       "      <td>27</td>\n",
       "      <td>Male</td>\n",
       "      <td>UK</td>\n",
       "      <td>mobile</td>\n",
       "      <td>iOS</td>\n",
       "      <td>Direct</td>\n",
       "      <td>5</td>\n",
       "      <td>1</td>\n",
       "      <td>0</td>\n",
       "      <td>0</td>\n",
       "      <td>0</td>\n",
       "      <td>0</td>\n",
       "      <td>0</td>\n",
       "    </tr>\n",
       "    <tr>\n",
       "      <th>2</th>\n",
       "      <td>261033</td>\n",
       "      <td>0</td>\n",
       "      <td>24</td>\n",
       "      <td>Female</td>\n",
       "      <td>US</td>\n",
       "      <td>mobile</td>\n",
       "      <td>android</td>\n",
       "      <td>Seo</td>\n",
       "      <td>4</td>\n",
       "      <td>1</td>\n",
       "      <td>1</td>\n",
       "      <td>0</td>\n",
       "      <td>0</td>\n",
       "      <td>0</td>\n",
       "      <td>0</td>\n",
       "    </tr>\n",
       "    <tr>\n",
       "      <th>3</th>\n",
       "      <td>533685</td>\n",
       "      <td>0</td>\n",
       "      <td>21</td>\n",
       "      <td>Male</td>\n",
       "      <td>UK</td>\n",
       "      <td>desktop</td>\n",
       "      <td>windows</td>\n",
       "      <td>Direct</td>\n",
       "      <td>5</td>\n",
       "      <td>1</td>\n",
       "      <td>1</td>\n",
       "      <td>1</td>\n",
       "      <td>1</td>\n",
       "      <td>0</td>\n",
       "      <td>0</td>\n",
       "    </tr>\n",
       "    <tr>\n",
       "      <th>4</th>\n",
       "      <td>699480</td>\n",
       "      <td>0</td>\n",
       "      <td>17</td>\n",
       "      <td>Male</td>\n",
       "      <td>UK</td>\n",
       "      <td>mobile</td>\n",
       "      <td>iOS</td>\n",
       "      <td>Direct</td>\n",
       "      <td>6</td>\n",
       "      <td>1</td>\n",
       "      <td>1</td>\n",
       "      <td>0</td>\n",
       "      <td>0</td>\n",
       "      <td>0</td>\n",
       "      <td>0</td>\n",
       "    </tr>\n",
       "  </tbody>\n",
       "</table>\n",
       "</div>"
      ],
      "text/plain": [
       "   user_id  new_user  age     sex country   device operative_system  source  \\\n",
       "0   654951         0   17  Female      US   mobile          android  Direct   \n",
       "1   730619         0   27    Male      UK   mobile              iOS  Direct   \n",
       "2   261033         0   24  Female      US   mobile          android     Seo   \n",
       "3   533685         0   21    Male      UK  desktop          windows  Direct   \n",
       "4   699480         0   17    Male      UK   mobile              iOS  Direct   \n",
       "\n",
       "   total_pages_visited  home_page  listing_page  product_page  payment_page  \\\n",
       "0                    3          1             1             1             0   \n",
       "1                    5          1             0             0             0   \n",
       "2                    4          1             1             0             0   \n",
       "3                    5          1             1             1             1   \n",
       "4                    6          1             1             0             0   \n",
       "\n",
       "   confirmation_page  converted  \n",
       "0                  0          0  \n",
       "1                  0          0  \n",
       "2                  0          0  \n",
       "3                  0          0  \n",
       "4                  0          0  "
      ]
     },
     "execution_count": 80,
     "metadata": {},
     "output_type": "execute_result"
    }
   ],
   "source": [
    "model_info.head()"
   ]
  },
  {
   "cell_type": "markdown",
   "metadata": {},
   "source": [
    "**<font color=black size=4 face=雅黑>4.1: 特征构建</font>**"
   ]
  },
  {
   "cell_type": "code",
   "execution_count": 81,
   "metadata": {},
   "outputs": [],
   "source": [
    "#新增一个特征：platform:app和web 用户浏览的平台是app还是web。\n",
    "\n",
    "model_info['platform']= model_info['device']"
   ]
  },
  {
   "cell_type": "code",
   "execution_count": 82,
   "metadata": {},
   "outputs": [],
   "source": [
    "#将mobile转换为app，desktop转换为web\n",
    "\n",
    "platform={'mobile':'app','desktop':'web'}\n",
    "\n",
    "model_info['platform']=model_info['platform'].map(platform)"
   ]
  },
  {
   "cell_type": "code",
   "execution_count": 83,
   "metadata": {},
   "outputs": [
    {
     "data": {
      "text/html": [
       "<div>\n",
       "<style scoped>\n",
       "    .dataframe tbody tr th:only-of-type {\n",
       "        vertical-align: middle;\n",
       "    }\n",
       "\n",
       "    .dataframe tbody tr th {\n",
       "        vertical-align: top;\n",
       "    }\n",
       "\n",
       "    .dataframe thead th {\n",
       "        text-align: right;\n",
       "    }\n",
       "</style>\n",
       "<table border=\"1\" class=\"dataframe\">\n",
       "  <thead>\n",
       "    <tr style=\"text-align: right;\">\n",
       "      <th></th>\n",
       "      <th>user_id</th>\n",
       "      <th>new_user</th>\n",
       "      <th>age</th>\n",
       "      <th>sex</th>\n",
       "      <th>country</th>\n",
       "      <th>device</th>\n",
       "      <th>operative_system</th>\n",
       "      <th>source</th>\n",
       "      <th>total_pages_visited</th>\n",
       "      <th>home_page</th>\n",
       "      <th>listing_page</th>\n",
       "      <th>product_page</th>\n",
       "      <th>payment_page</th>\n",
       "      <th>confirmation_page</th>\n",
       "      <th>converted</th>\n",
       "      <th>platform</th>\n",
       "    </tr>\n",
       "  </thead>\n",
       "  <tbody>\n",
       "    <tr>\n",
       "      <th>0</th>\n",
       "      <td>654951</td>\n",
       "      <td>0</td>\n",
       "      <td>17</td>\n",
       "      <td>Female</td>\n",
       "      <td>US</td>\n",
       "      <td>mobile</td>\n",
       "      <td>android</td>\n",
       "      <td>Direct</td>\n",
       "      <td>3</td>\n",
       "      <td>1</td>\n",
       "      <td>1</td>\n",
       "      <td>1</td>\n",
       "      <td>0</td>\n",
       "      <td>0</td>\n",
       "      <td>0</td>\n",
       "      <td>app</td>\n",
       "    </tr>\n",
       "    <tr>\n",
       "      <th>1</th>\n",
       "      <td>730619</td>\n",
       "      <td>0</td>\n",
       "      <td>27</td>\n",
       "      <td>Male</td>\n",
       "      <td>UK</td>\n",
       "      <td>mobile</td>\n",
       "      <td>iOS</td>\n",
       "      <td>Direct</td>\n",
       "      <td>5</td>\n",
       "      <td>1</td>\n",
       "      <td>0</td>\n",
       "      <td>0</td>\n",
       "      <td>0</td>\n",
       "      <td>0</td>\n",
       "      <td>0</td>\n",
       "      <td>app</td>\n",
       "    </tr>\n",
       "    <tr>\n",
       "      <th>2</th>\n",
       "      <td>261033</td>\n",
       "      <td>0</td>\n",
       "      <td>24</td>\n",
       "      <td>Female</td>\n",
       "      <td>US</td>\n",
       "      <td>mobile</td>\n",
       "      <td>android</td>\n",
       "      <td>Seo</td>\n",
       "      <td>4</td>\n",
       "      <td>1</td>\n",
       "      <td>1</td>\n",
       "      <td>0</td>\n",
       "      <td>0</td>\n",
       "      <td>0</td>\n",
       "      <td>0</td>\n",
       "      <td>app</td>\n",
       "    </tr>\n",
       "    <tr>\n",
       "      <th>3</th>\n",
       "      <td>533685</td>\n",
       "      <td>0</td>\n",
       "      <td>21</td>\n",
       "      <td>Male</td>\n",
       "      <td>UK</td>\n",
       "      <td>desktop</td>\n",
       "      <td>windows</td>\n",
       "      <td>Direct</td>\n",
       "      <td>5</td>\n",
       "      <td>1</td>\n",
       "      <td>1</td>\n",
       "      <td>1</td>\n",
       "      <td>1</td>\n",
       "      <td>0</td>\n",
       "      <td>0</td>\n",
       "      <td>web</td>\n",
       "    </tr>\n",
       "    <tr>\n",
       "      <th>4</th>\n",
       "      <td>699480</td>\n",
       "      <td>0</td>\n",
       "      <td>17</td>\n",
       "      <td>Male</td>\n",
       "      <td>UK</td>\n",
       "      <td>mobile</td>\n",
       "      <td>iOS</td>\n",
       "      <td>Direct</td>\n",
       "      <td>6</td>\n",
       "      <td>1</td>\n",
       "      <td>1</td>\n",
       "      <td>0</td>\n",
       "      <td>0</td>\n",
       "      <td>0</td>\n",
       "      <td>0</td>\n",
       "      <td>app</td>\n",
       "    </tr>\n",
       "  </tbody>\n",
       "</table>\n",
       "</div>"
      ],
      "text/plain": [
       "   user_id  new_user  age     sex country   device operative_system  source  \\\n",
       "0   654951         0   17  Female      US   mobile          android  Direct   \n",
       "1   730619         0   27    Male      UK   mobile              iOS  Direct   \n",
       "2   261033         0   24  Female      US   mobile          android     Seo   \n",
       "3   533685         0   21    Male      UK  desktop          windows  Direct   \n",
       "4   699480         0   17    Male      UK   mobile              iOS  Direct   \n",
       "\n",
       "   total_pages_visited  home_page  listing_page  product_page  payment_page  \\\n",
       "0                    3          1             1             1             0   \n",
       "1                    5          1             0             0             0   \n",
       "2                    4          1             1             0             0   \n",
       "3                    5          1             1             1             1   \n",
       "4                    6          1             1             0             0   \n",
       "\n",
       "   confirmation_page  converted platform  \n",
       "0                  0          0      app  \n",
       "1                  0          0      app  \n",
       "2                  0          0      app  \n",
       "3                  0          0      web  \n",
       "4                  0          0      app  "
      ]
     },
     "execution_count": 83,
     "metadata": {},
     "output_type": "execute_result"
    }
   ],
   "source": [
    "model_info.head()"
   ]
  },
  {
   "cell_type": "code",
   "execution_count": 84,
   "metadata": {},
   "outputs": [],
   "source": [
    "#合并两个特征为一个特征：os:device+operative_system\n",
    "\n",
    "model_info['os']=model_info['device']+ '_'+ model_info['operative_system']"
   ]
  },
  {
   "cell_type": "code",
   "execution_count": 85,
   "metadata": {},
   "outputs": [
    {
     "data": {
      "text/plain": [
       "0         mobile_android\n",
       "1             mobile_iOS\n",
       "2         mobile_android\n",
       "3        desktop_windows\n",
       "4             mobile_iOS\n",
       "5        desktop_windows\n",
       "6         mobile_android\n",
       "7             mobile_iOS\n",
       "8        desktop_windows\n",
       "9        desktop_windows\n",
       "10           desktop_mac\n",
       "11       desktop_windows\n",
       "12          mobile_other\n",
       "13           desktop_mac\n",
       "14       desktop_windows\n",
       "15            mobile_iOS\n",
       "16       desktop_windows\n",
       "17            mobile_iOS\n",
       "18           desktop_mac\n",
       "19            mobile_iOS\n",
       "20        mobile_android\n",
       "21            mobile_iOS\n",
       "22       desktop_windows\n",
       "23       desktop_windows\n",
       "24       desktop_windows\n",
       "25            mobile_iOS\n",
       "26        mobile_android\n",
       "27        mobile_android\n",
       "28         desktop_linux\n",
       "29       desktop_windows\n",
       "              ...       \n",
       "90368     mobile_android\n",
       "90369     mobile_android\n",
       "90370    desktop_windows\n",
       "90371     mobile_android\n",
       "90372         mobile_iOS\n",
       "90373    desktop_windows\n",
       "90374         mobile_iOS\n",
       "90375         mobile_iOS\n",
       "90376        desktop_mac\n",
       "90377    desktop_windows\n",
       "90378         mobile_iOS\n",
       "90379    desktop_windows\n",
       "90380         mobile_iOS\n",
       "90381     mobile_android\n",
       "90382    desktop_windows\n",
       "90383    desktop_windows\n",
       "90384     mobile_android\n",
       "90385        desktop_mac\n",
       "90386         mobile_iOS\n",
       "90387         mobile_iOS\n",
       "90388         mobile_iOS\n",
       "90389     mobile_android\n",
       "90390    desktop_windows\n",
       "90391    desktop_windows\n",
       "90392         mobile_iOS\n",
       "90393         mobile_iOS\n",
       "90394    desktop_windows\n",
       "90395    desktop_windows\n",
       "90396    desktop_windows\n",
       "90397       mobile_other\n",
       "Name: os, Length: 90398, dtype: object"
      ]
     },
     "execution_count": 85,
     "metadata": {},
     "output_type": "execute_result"
    }
   ],
   "source": [
    "model_info['os']"
   ]
  },
  {
   "cell_type": "code",
   "execution_count": 86,
   "metadata": {},
   "outputs": [],
   "source": [
    "#将原始数据的device和operative_system删除\n",
    "\n",
    "model_info.drop(['device','operative_system'],axis=1,inplace=True)"
   ]
  },
  {
   "cell_type": "code",
   "execution_count": 87,
   "metadata": {},
   "outputs": [
    {
     "data": {
      "text/html": [
       "<div>\n",
       "<style scoped>\n",
       "    .dataframe tbody tr th:only-of-type {\n",
       "        vertical-align: middle;\n",
       "    }\n",
       "\n",
       "    .dataframe tbody tr th {\n",
       "        vertical-align: top;\n",
       "    }\n",
       "\n",
       "    .dataframe thead th {\n",
       "        text-align: right;\n",
       "    }\n",
       "</style>\n",
       "<table border=\"1\" class=\"dataframe\">\n",
       "  <thead>\n",
       "    <tr style=\"text-align: right;\">\n",
       "      <th></th>\n",
       "      <th>user_id</th>\n",
       "      <th>new_user</th>\n",
       "      <th>age</th>\n",
       "      <th>sex</th>\n",
       "      <th>country</th>\n",
       "      <th>source</th>\n",
       "      <th>total_pages_visited</th>\n",
       "      <th>home_page</th>\n",
       "      <th>listing_page</th>\n",
       "      <th>product_page</th>\n",
       "      <th>payment_page</th>\n",
       "      <th>confirmation_page</th>\n",
       "      <th>converted</th>\n",
       "      <th>platform</th>\n",
       "      <th>os</th>\n",
       "    </tr>\n",
       "  </thead>\n",
       "  <tbody>\n",
       "    <tr>\n",
       "      <th>0</th>\n",
       "      <td>654951</td>\n",
       "      <td>0</td>\n",
       "      <td>17</td>\n",
       "      <td>Female</td>\n",
       "      <td>US</td>\n",
       "      <td>Direct</td>\n",
       "      <td>3</td>\n",
       "      <td>1</td>\n",
       "      <td>1</td>\n",
       "      <td>1</td>\n",
       "      <td>0</td>\n",
       "      <td>0</td>\n",
       "      <td>0</td>\n",
       "      <td>app</td>\n",
       "      <td>mobile_android</td>\n",
       "    </tr>\n",
       "    <tr>\n",
       "      <th>1</th>\n",
       "      <td>730619</td>\n",
       "      <td>0</td>\n",
       "      <td>27</td>\n",
       "      <td>Male</td>\n",
       "      <td>UK</td>\n",
       "      <td>Direct</td>\n",
       "      <td>5</td>\n",
       "      <td>1</td>\n",
       "      <td>0</td>\n",
       "      <td>0</td>\n",
       "      <td>0</td>\n",
       "      <td>0</td>\n",
       "      <td>0</td>\n",
       "      <td>app</td>\n",
       "      <td>mobile_iOS</td>\n",
       "    </tr>\n",
       "    <tr>\n",
       "      <th>2</th>\n",
       "      <td>261033</td>\n",
       "      <td>0</td>\n",
       "      <td>24</td>\n",
       "      <td>Female</td>\n",
       "      <td>US</td>\n",
       "      <td>Seo</td>\n",
       "      <td>4</td>\n",
       "      <td>1</td>\n",
       "      <td>1</td>\n",
       "      <td>0</td>\n",
       "      <td>0</td>\n",
       "      <td>0</td>\n",
       "      <td>0</td>\n",
       "      <td>app</td>\n",
       "      <td>mobile_android</td>\n",
       "    </tr>\n",
       "    <tr>\n",
       "      <th>3</th>\n",
       "      <td>533685</td>\n",
       "      <td>0</td>\n",
       "      <td>21</td>\n",
       "      <td>Male</td>\n",
       "      <td>UK</td>\n",
       "      <td>Direct</td>\n",
       "      <td>5</td>\n",
       "      <td>1</td>\n",
       "      <td>1</td>\n",
       "      <td>1</td>\n",
       "      <td>1</td>\n",
       "      <td>0</td>\n",
       "      <td>0</td>\n",
       "      <td>web</td>\n",
       "      <td>desktop_windows</td>\n",
       "    </tr>\n",
       "    <tr>\n",
       "      <th>4</th>\n",
       "      <td>699480</td>\n",
       "      <td>0</td>\n",
       "      <td>17</td>\n",
       "      <td>Male</td>\n",
       "      <td>UK</td>\n",
       "      <td>Direct</td>\n",
       "      <td>6</td>\n",
       "      <td>1</td>\n",
       "      <td>1</td>\n",
       "      <td>0</td>\n",
       "      <td>0</td>\n",
       "      <td>0</td>\n",
       "      <td>0</td>\n",
       "      <td>app</td>\n",
       "      <td>mobile_iOS</td>\n",
       "    </tr>\n",
       "  </tbody>\n",
       "</table>\n",
       "</div>"
      ],
      "text/plain": [
       "   user_id  new_user  age     sex country  source  total_pages_visited  \\\n",
       "0   654951         0   17  Female      US  Direct                    3   \n",
       "1   730619         0   27    Male      UK  Direct                    5   \n",
       "2   261033         0   24  Female      US     Seo                    4   \n",
       "3   533685         0   21    Male      UK  Direct                    5   \n",
       "4   699480         0   17    Male      UK  Direct                    6   \n",
       "\n",
       "   home_page  listing_page  product_page  payment_page  confirmation_page  \\\n",
       "0          1             1             1             0                  0   \n",
       "1          1             0             0             0                  0   \n",
       "2          1             1             0             0                  0   \n",
       "3          1             1             1             1                  0   \n",
       "4          1             1             0             0                  0   \n",
       "\n",
       "   converted platform               os  \n",
       "0          0      app   mobile_android  \n",
       "1          0      app       mobile_iOS  \n",
       "2          0      app   mobile_android  \n",
       "3          0      web  desktop_windows  \n",
       "4          0      app       mobile_iOS  "
      ]
     },
     "execution_count": 87,
     "metadata": {},
     "output_type": "execute_result"
    }
   ],
   "source": [
    "model_info.head()"
   ]
  },
  {
   "cell_type": "code",
   "execution_count": 89,
   "metadata": {},
   "outputs": [
    {
     "data": {
      "image/png": "[encoded data removed]",
      "text/plain": [
       "<Figure size 432x288 with 1 Axes>"
      ]
     },
     "metadata": {},
     "output_type": "display_data"
    }
   ],
   "source": [
    "sns.barplot(x='sex',y='confirmation_page',hue='platform',data=model_info)\n",
    "plt.xlabel('用户性别以及新老')\n",
    "plt.ylabel('转化率')\n",
    "plt.show()"
   ]
  },
  {
   "cell_type": "code",
   "execution_count": 90,
   "metadata": {},
   "outputs": [
    {
     "data": {
      "image/png": "[encoded data removed]",
      "text/plain": [
       "<Figure size 432x288 with 1 Axes>"
      ]
     },
     "metadata": {},
     "output_type": "display_data"
    }
   ],
   "source": [
    "sns.barplot(x='sex',y='confirmation_page',hue='os',data=model_info)\n",
    "plt.xlabel('用户性别以及新老')\n",
    "plt.ylabel('转化率')\n",
    "plt.show()"
   ]
  },
  {
   "cell_type": "markdown",
   "metadata": {},
   "source": [
    "**<font color=black size=4 face=雅黑>4.2: 特征选择</font>**"
   ]
  },
  {
   "cell_type": "code",
   "execution_count": 89,
   "metadata": {},
   "outputs": [],
   "source": [
    "#去除掉home_page,listing_page,product_page,payment_page,confirmation_page\n",
    "\n",
    "model_info.drop(['user_id','home_page','listing_page','product_page','payment_page','confirmation_page'],axis=1,inplace=True)"
   ]
  },
  {
   "cell_type": "markdown",
   "metadata": {},
   "source": [
    "**<font color=black size=4 face=雅黑>4.3: 特征处理</font>**"
   ]
  },
  {
   "cell_type": "markdown",
   "metadata": {},
   "source": [
    "对于逻辑回归模型:\n",
    "\n",
    "* 连续型数据特征：不处理或标准化处理，\n",
    "* 无序类别特征：OneHotEncoder,\n",
    "* 有序类别特征：labelEncoder"
   ]
  },
  {
   "cell_type": "code",
   "execution_count": 90,
   "metadata": {},
   "outputs": [],
   "source": [
    "data_lR = pd.get_dummies(model_info, drop_first=False)"
   ]
  },
  {
   "cell_type": "code",
   "execution_count": 91,
   "metadata": {},
   "outputs": [],
   "source": [
    "#连续特征age,total_pages_visited进行最值归一化处理\n",
    "\n",
    "from sklearn.preprocessing import MinMaxScaler\n",
    "\n",
    "\n",
    "data_lR['age']=MinMaxScaler().fit_transform(data_lR['age'].values.reshape(-1, 1)).reshape(1,-1)[0]\n",
    "\n",
    "data_lR['total_pages_visited']=MinMaxScaler().fit_transform(data_lR['total_pages_visited'].values.reshape(-1, 1)).reshape(1,-1)[0]"
   ]
  },
  {
   "cell_type": "code",
   "execution_count": 92,
   "metadata": {},
   "outputs": [
    {
     "data": {
      "text/html": [
       "<div>\n",
       "<style scoped>\n",
       "    .dataframe tbody tr th:only-of-type {\n",
       "        vertical-align: middle;\n",
       "    }\n",
       "\n",
       "    .dataframe tbody tr th {\n",
       "        vertical-align: top;\n",
       "    }\n",
       "\n",
       "    .dataframe thead th {\n",
       "        text-align: right;\n",
       "    }\n",
       "</style>\n",
       "<table border=\"1\" class=\"dataframe\">\n",
       "  <thead>\n",
       "    <tr style=\"text-align: right;\">\n",
       "      <th></th>\n",
       "      <th>new_user</th>\n",
       "      <th>age</th>\n",
       "      <th>total_pages_visited</th>\n",
       "      <th>converted</th>\n",
       "      <th>sex_Female</th>\n",
       "      <th>sex_Male</th>\n",
       "      <th>country_China</th>\n",
       "      <th>country_Germany</th>\n",
       "      <th>country_UK</th>\n",
       "      <th>country_US</th>\n",
       "      <th>...</th>\n",
       "      <th>source_Seo</th>\n",
       "      <th>platform_app</th>\n",
       "      <th>platform_web</th>\n",
       "      <th>os_desktop_linux</th>\n",
       "      <th>os_desktop_mac</th>\n",
       "      <th>os_desktop_other</th>\n",
       "      <th>os_desktop_windows</th>\n",
       "      <th>os_mobile_android</th>\n",
       "      <th>os_mobile_iOS</th>\n",
       "      <th>os_mobile_other</th>\n",
       "    </tr>\n",
       "  </thead>\n",
       "  <tbody>\n",
       "    <tr>\n",
       "      <th>0</th>\n",
       "      <td>0</td>\n",
       "      <td>0.00</td>\n",
       "      <td>0.074074</td>\n",
       "      <td>0</td>\n",
       "      <td>1</td>\n",
       "      <td>0</td>\n",
       "      <td>0</td>\n",
       "      <td>0</td>\n",
       "      <td>0</td>\n",
       "      <td>1</td>\n",
       "      <td>...</td>\n",
       "      <td>0</td>\n",
       "      <td>1</td>\n",
       "      <td>0</td>\n",
       "      <td>0</td>\n",
       "      <td>0</td>\n",
       "      <td>0</td>\n",
       "      <td>0</td>\n",
       "      <td>1</td>\n",
       "      <td>0</td>\n",
       "      <td>0</td>\n",
       "    </tr>\n",
       "    <tr>\n",
       "      <th>1</th>\n",
       "      <td>0</td>\n",
       "      <td>0.20</td>\n",
       "      <td>0.148148</td>\n",
       "      <td>0</td>\n",
       "      <td>0</td>\n",
       "      <td>1</td>\n",
       "      <td>0</td>\n",
       "      <td>0</td>\n",
       "      <td>1</td>\n",
       "      <td>0</td>\n",
       "      <td>...</td>\n",
       "      <td>0</td>\n",
       "      <td>1</td>\n",
       "      <td>0</td>\n",
       "      <td>0</td>\n",
       "      <td>0</td>\n",
       "      <td>0</td>\n",
       "      <td>0</td>\n",
       "      <td>0</td>\n",
       "      <td>1</td>\n",
       "      <td>0</td>\n",
       "    </tr>\n",
       "    <tr>\n",
       "      <th>2</th>\n",
       "      <td>0</td>\n",
       "      <td>0.14</td>\n",
       "      <td>0.111111</td>\n",
       "      <td>0</td>\n",
       "      <td>1</td>\n",
       "      <td>0</td>\n",
       "      <td>0</td>\n",
       "      <td>0</td>\n",
       "      <td>0</td>\n",
       "      <td>1</td>\n",
       "      <td>...</td>\n",
       "      <td>1</td>\n",
       "      <td>1</td>\n",
       "      <td>0</td>\n",
       "      <td>0</td>\n",
       "      <td>0</td>\n",
       "      <td>0</td>\n",
       "      <td>0</td>\n",
       "      <td>1</td>\n",
       "      <td>0</td>\n",
       "      <td>0</td>\n",
       "    </tr>\n",
       "    <tr>\n",
       "      <th>3</th>\n",
       "      <td>0</td>\n",
       "      <td>0.08</td>\n",
       "      <td>0.148148</td>\n",
       "      <td>0</td>\n",
       "      <td>0</td>\n",
       "      <td>1</td>\n",
       "      <td>0</td>\n",
       "      <td>0</td>\n",
       "      <td>1</td>\n",
       "      <td>0</td>\n",
       "      <td>...</td>\n",
       "      <td>0</td>\n",
       "      <td>0</td>\n",
       "      <td>1</td>\n",
       "      <td>0</td>\n",
       "      <td>0</td>\n",
       "      <td>0</td>\n",
       "      <td>1</td>\n",
       "      <td>0</td>\n",
       "      <td>0</td>\n",
       "      <td>0</td>\n",
       "    </tr>\n",
       "    <tr>\n",
       "      <th>4</th>\n",
       "      <td>0</td>\n",
       "      <td>0.00</td>\n",
       "      <td>0.185185</td>\n",
       "      <td>0</td>\n",
       "      <td>0</td>\n",
       "      <td>1</td>\n",
       "      <td>0</td>\n",
       "      <td>0</td>\n",
       "      <td>1</td>\n",
       "      <td>0</td>\n",
       "      <td>...</td>\n",
       "      <td>0</td>\n",
       "      <td>1</td>\n",
       "      <td>0</td>\n",
       "      <td>0</td>\n",
       "      <td>0</td>\n",
       "      <td>0</td>\n",
       "      <td>0</td>\n",
       "      <td>0</td>\n",
       "      <td>1</td>\n",
       "      <td>0</td>\n",
       "    </tr>\n",
       "  </tbody>\n",
       "</table>\n",
       "<p>5 rows × 22 columns</p>\n",
       "</div>"
      ],
      "text/plain": [
       "   new_user   age  total_pages_visited  converted  sex_Female  sex_Male  \\\n",
       "0         0  0.00             0.074074          0           1         0   \n",
       "1         0  0.20             0.148148          0           0         1   \n",
       "2         0  0.14             0.111111          0           1         0   \n",
       "3         0  0.08             0.148148          0           0         1   \n",
       "4         0  0.00             0.185185          0           0         1   \n",
       "\n",
       "   country_China  country_Germany  country_UK  country_US  ...  source_Seo  \\\n",
       "0              0                0           0           1  ...           0   \n",
       "1              0                0           1           0  ...           0   \n",
       "2              0                0           0           1  ...           1   \n",
       "3              0                0           1           0  ...           0   \n",
       "4              0                0           1           0  ...           0   \n",
       "\n",
       "   platform_app  platform_web  os_desktop_linux  os_desktop_mac  \\\n",
       "0             1             0                 0               0   \n",
       "1             1             0                 0               0   \n",
       "2             1             0                 0               0   \n",
       "3             0             1                 0               0   \n",
       "4             1             0                 0               0   \n",
       "\n",
       "   os_desktop_other  os_desktop_windows  os_mobile_android  os_mobile_iOS  \\\n",
       "0                 0                   0                  1              0   \n",
       "1                 0                   0                  0              1   \n",
       "2                 0                   0                  1              0   \n",
       "3                 0                   1                  0              0   \n",
       "4                 0                   0                  0              1   \n",
       "\n",
       "   os_mobile_other  \n",
       "0                0  \n",
       "1                0  \n",
       "2                0  \n",
       "3                0  \n",
       "4                0  \n",
       "\n",
       "[5 rows x 22 columns]"
      ]
     },
     "execution_count": 92,
     "metadata": {},
     "output_type": "execute_result"
    }
   ],
   "source": [
    "data_lR.head()"
   ]
  },
  {
   "cell_type": "markdown",
   "metadata": {},
   "source": [
    "对于树模型（决策树和随机森林):\n",
    "\n",
    "* 连续型数据特征不处理，\n",
    "* 类别特征OneHotEncoder和labelencoder都可以，数值只是个类别符号，没有大小的概念，即没有偏序关系，只有特征处于他分布的哪一部分的概念"
   ]
  },
  {
   "cell_type": "code",
   "execution_count": 1,
   "metadata": {},
   "outputs": [
    {
     "ename": "NameError",
     "evalue": "name 'pd' is not defined",
     "output_type": "error",
     "traceback": [
      "\u001b[1;31m---------------------------------------------------------------------------\u001b[0m",
      "\u001b[1;31mNameError\u001b[0m                                 Traceback (most recent call last)",
      "\u001b[1;32m<ipython-input-1-49ced2ca1401>\u001b[0m in \u001b[0;36m<module>\u001b[1;34m()\u001b[0m\n\u001b[0;32m      1\u001b[0m \u001b[1;31m#OneHotEncoder\u001b[0m\u001b[1;33m\u001b[0m\u001b[1;33m\u001b[0m\u001b[0m\n\u001b[1;32m----> 2\u001b[1;33m \u001b[0mdata_tree\u001b[0m \u001b[1;33m=\u001b[0m \u001b[0mpd\u001b[0m\u001b[1;33m.\u001b[0m\u001b[0mget_dummies\u001b[0m\u001b[1;33m(\u001b[0m\u001b[0mmodel_info\u001b[0m\u001b[1;33m,\u001b[0m \u001b[0mdrop_first\u001b[0m\u001b[1;33m=\u001b[0m\u001b[1;32mFalse\u001b[0m\u001b[1;33m)\u001b[0m\u001b[1;33m\u001b[0m\u001b[0m\n\u001b[0m",
      "\u001b[1;31mNameError\u001b[0m: name 'pd' is not defined"
     ]
    }
   ],
   "source": [
    "#OneHotEncoder\n",
    "data_tree = pd.get_dummies(model_info, drop_first=False)"
   ]
  },
  {
   "cell_type": "code",
   "execution_count": 94,
   "metadata": {},
   "outputs": [],
   "source": [
    "#labelencoder\n",
    "from sklearn import preprocessing\n",
    "data_tree1=model_info.copy(deep=True)\n",
    "\n",
    "#性别\n",
    "\n",
    "sex_le=preprocessing.LabelEncoder()\n",
    "data_tree1['sex']=sex_le.fit_transform(data_tree1['sex'])"
   ]
  },
  {
   "cell_type": "code",
   "execution_count": 95,
   "metadata": {},
   "outputs": [
    {
     "data": {
      "text/plain": [
       "array(['Female', 'Male'], dtype=object)"
      ]
     },
     "execution_count": 95,
     "metadata": {},
     "output_type": "execute_result"
    }
   ],
   "source": [
    "sex_le.inverse_transform([0,1])"
   ]
  },
  {
   "cell_type": "code",
   "execution_count": 96,
   "metadata": {},
   "outputs": [
    {
     "data": {
      "text/plain": [
       "array([0, 1])"
      ]
     },
     "execution_count": 96,
     "metadata": {},
     "output_type": "execute_result"
    }
   ],
   "source": [
    "sex_le.transform(['Female','Male'])"
   ]
  },
  {
   "cell_type": "markdown",
   "metadata": {},
   "source": [
    "**<font color=black size=4 face=雅黑>Step5: 建模</font>**"
   ]
  },
  {
   "cell_type": "markdown",
   "metadata": {},
   "source": [
    "**<font color=black size=4 face=雅黑>1.逻辑回归</font>**"
   ]
  },
  {
   "cell_type": "markdown",
   "metadata": {},
   "source": [
    "1.1 划分训练集和测试集"
   ]
  },
  {
   "cell_type": "code",
   "execution_count": 97,
   "metadata": {},
   "outputs": [],
   "source": [
    "from sklearn.model_selection import train_test_split\n",
    "np.random.seed(4684)\n",
    "\n",
    "x=data_lR.drop(['converted'],axis=1)\n",
    "y=data_lR['converted']\n",
    "\n",
    "x_train, x_test, y_train, y_test=train_test_split(x, y, train_size=0.8)"
   ]
  },
  {
   "cell_type": "markdown",
   "metadata": {},
   "source": [
    "1.2 用训练集训练模型"
   ]
  },
  {
   "cell_type": "code",
   "execution_count": 98,
   "metadata": {},
   "outputs": [
    {
     "data": {
      "text/plain": [
       "LogisticRegression(C=1.0, class_weight=None, dual=False, fit_intercept=True,\n",
       "                   intercept_scaling=1, l1_ratio=None, max_iter=100,\n",
       "                   multi_class='auto', n_jobs=None, penalty='l2',\n",
       "                   random_state=42, solver='lbfgs', tol=0.0001, verbose=0,\n",
       "                   warm_start=False)"
      ]
     },
     "execution_count": 98,
     "metadata": {},
     "output_type": "execute_result"
    }
   ],
   "source": [
    "from sklearn.linear_model import LogisticRegression\n",
    "\n",
    "logic_model=LogisticRegression(random_state=42)\n",
    "\n",
    "#设置显示模型参数\n",
    "from sklearn import set_config\n",
    "set_config(print_changed_only=False)\n",
    "\n",
    "logic_model.fit(x_train, y_train)"
   ]
  },
  {
   "cell_type": "markdown",
   "metadata": {},
   "source": [
    "1.3 用训练好的模型来预测测试集"
   ]
  },
  {
   "cell_type": "code",
   "execution_count": 99,
   "metadata": {},
   "outputs": [
    {
     "data": {
      "text/plain": [
       "array([0, 0, 0, ..., 0, 0, 0])"
      ]
     },
     "execution_count": 99,
     "metadata": {},
     "output_type": "execute_result"
    }
   ],
   "source": [
    "y_prediction = logic_model.predict(x_test)\n",
    "y_prediction"
   ]
  },
  {
   "cell_type": "code",
   "execution_count": 100,
   "metadata": {
    "scrolled": true
   },
   "outputs": [
    {
     "name": "stdout",
     "output_type": "stream",
     "text": [
      "Predicted      0    1\n",
      "Actual               \n",
      "0          17628   66\n",
      "1            189  197 \n",
      "\n",
      "accuracy  0.9858960176991151\n",
      "precision 0.7490494296577946\n",
      "recall    0.5103626943005182\n",
      "f1        0.6070878274268106\n"
     ]
    }
   ],
   "source": [
    "from sklearn.metrics import accuracy_score,precision_score, recall_score, f1_score,roc_auc_score\n",
    "\n",
    "data={'y_test':y_test,\n",
    "      'y_predicted':y_prediction}\n",
    "df = pd.DataFrame(data,columns=['y_test','y_predicted'])\n",
    "\n",
    "#Crosstab 交叉列表取值,第一个参数是列，第二个参数是行\n",
    "confusion_matrix = pd.crosstab(df['y_test'], df['y_predicted'], rownames=['Actual'], colnames=['Predicted'])\n",
    "\n",
    "print (confusion_matrix,'\\n')\n",
    "print('accuracy  %s' % accuracy_score(y_test,y_prediction))\n",
    "print('precision %s' % precision_score(y_test,y_prediction))\n",
    "print('recall    %s' % recall_score(y_test,y_prediction))\n",
    "print('f1        %s' % f1_score(y_test,y_prediction))"
   ]
  },
  {
   "cell_type": "markdown",
   "metadata": {},
   "source": [
    "如何选择合适的模型评估方法：根据项目背景以及目的\n",
    "\n",
    "测试集用户有18080个，实际会下单的用户有189+197=386个，预测会下单的用户有66+197=263\n",
    "\n",
    "precision精确率=197（预测下单=实际下单：预测正确）/（66+197）（所有预测会下单的用户数）=0.749\n",
    "\n",
    "recall召回率=197预测下单=实际下单：预测正确）/（189+197）（所有实际会下单的用户数）=0.51\n",
    "\n",
    "F1=2*（precision * Recall)/(precision + Recall) 这是一个综合考虑p和r的指标。\n"
   ]
  },
  {
   "cell_type": "markdown",
   "metadata": {},
   "source": [
    "1.4 根据模型得到特征重要性"
   ]
  },
  {
   "cell_type": "code",
   "execution_count": 101,
   "metadata": {},
   "outputs": [
    {
     "data": {
      "text/plain": [
       "total_pages_visited    12.146589\n",
       "age                     4.361563\n",
       "new_user                1.475796\n",
       "sex_Male                0.491903\n",
       "sex_Female              0.489664\n",
       "os_desktop_mac          0.417590\n",
       "os_desktop_linux        0.356466\n",
       "os_mobile_other         0.343543\n",
       "source_Direct           0.341692\n",
       "source_Seo              0.314860\n",
       "country_China           0.277349\n",
       "os_mobile_iOS           0.204322\n",
       "os_desktop_other        0.159445\n",
       "platform_app            0.137184\n",
       "platform_web            0.134945\n",
       "country_Germany         0.132374\n",
       "country_US              0.095371\n",
       "os_desktop_windows      0.085623\n",
       "country_UK              0.047366\n",
       "source_Ads              0.029070\n",
       "os_mobile_android       0.002036\n",
       "dtype: float64"
      ]
     },
     "execution_count": 101,
     "metadata": {},
     "output_type": "execute_result"
    }
   ],
   "source": [
    "feature_importances = pd.Series(abs(logic_model.coef_[0]), index=data_lR.drop(['converted'], axis=1).columns)\n",
    "feature_importances.sort_values(ascending=False)"
   ]
  },
  {
   "cell_type": "markdown",
   "metadata": {},
   "source": [
    "**<font color=black size=4 face=雅黑>2.决策树</font>**"
   ]
  },
  {
   "cell_type": "markdown",
   "metadata": {},
   "source": [
    "1.1 划分训练集和测试集"
   ]
  },
  {
   "cell_type": "code",
   "execution_count": 102,
   "metadata": {},
   "outputs": [],
   "source": [
    "from sklearn.model_selection import train_test_split\n",
    "np.random.seed(4684)\n",
    "\n",
    "x=data_tree.drop(['converted'],axis=1)\n",
    "y=data_tree['converted']\n",
    "\n",
    "#划分训练集和测试集\n",
    "x_train, x_test, y_train, y_test=train_test_split(x, y, train_size=0.8)"
   ]
  },
  {
   "cell_type": "markdown",
   "metadata": {},
   "source": [
    "1.2 用训练集训练模型"
   ]
  },
  {
   "cell_type": "code",
   "execution_count": 103,
   "metadata": {},
   "outputs": [
    {
     "data": {
      "text/plain": [
       "DecisionTreeClassifier(ccp_alpha=0.0, class_weight=None, criterion='gini',\n",
       "                       max_depth=None, max_features=None, max_leaf_nodes=None,\n",
       "                       min_impurity_decrease=0.0, min_impurity_split=None,\n",
       "                       min_samples_leaf=1, min_samples_split=2,\n",
       "                       min_weight_fraction_leaf=0.0, random_state=42,\n",
       "                       splitter='best')"
      ]
     },
     "execution_count": 103,
     "metadata": {},
     "output_type": "execute_result"
    }
   ],
   "source": [
    "#决策树\n",
    "\n",
    "#导入需要的模块\n",
    "from sklearn import tree\n",
    "\n",
    "#实例化\n",
    "dt = tree.DecisionTreeClassifier(random_state=42)\n",
    "\n",
    "#用训练集训练模型\n",
    "dt.fit(x_train,y_train)"
   ]
  },
  {
   "cell_type": "markdown",
   "metadata": {},
   "source": [
    "1.3 用训练好的模型来预测测试集"
   ]
  },
  {
   "cell_type": "code",
   "execution_count": 104,
   "metadata": {},
   "outputs": [
    {
     "data": {
      "text/plain": [
       "array([0, 0, 0, ..., 0, 0, 0])"
      ]
     },
     "execution_count": 104,
     "metadata": {},
     "output_type": "execute_result"
    }
   ],
   "source": [
    "y_prediction = dt.predict(x_test)\n",
    "y_prediction"
   ]
  },
  {
   "cell_type": "code",
   "execution_count": 105,
   "metadata": {},
   "outputs": [
    {
     "name": "stdout",
     "output_type": "stream",
     "text": [
      "Predicted      0    1\n",
      "Actual               \n",
      "0          17523  171\n",
      "1            194  192 \n",
      "\n",
      "accuracy  0.9798119469026548\n",
      "precision 0.5289256198347108\n",
      "recall    0.49740932642487046\n",
      "f1        0.5126835781041388\n"
     ]
    }
   ],
   "source": [
    "data={'y_test':y_test,\n",
    "      'y_predicted':y_prediction}\n",
    "df = pd.DataFrame(data,columns=['y_test','y_predicted'])\n",
    "\n",
    "#Crosstab 交叉列表取值,第一个参数是列，第二个参数是行\n",
    "confusion_matrix = pd.crosstab(df['y_test'], df['y_predicted'], rownames=['Actual'], colnames=['Predicted'])\n",
    "\n",
    "print (confusion_matrix,'\\n')\n",
    "\n",
    "print('accuracy  %s' % accuracy_score(y_test,y_prediction))\n",
    "print('precision %s' % precision_score(y_test,y_prediction))\n",
    "print('recall    %s' % recall_score(y_test,y_prediction))\n",
    "print('f1        %s' % f1_score(y_test,y_prediction))"
   ]
  },
  {
   "cell_type": "markdown",
   "metadata": {},
   "source": [
    "<font color=black size=4 face=雅黑>**Step6: 调参:决策树(为例）**</font>"
   ]
  },
  {
   "cell_type": "code",
   "execution_count": null,
   "metadata": {},
   "outputs": [],
   "source": [
    "#网格搜索：将各个参数可能的取值进行排列组合，列出所有可能的组合结果生成“网格”，\n",
    "# 然后将各组合用于模型训练，并使用交叉验证对表现进行评估, 选出最佳的组合。\n",
    "\n",
    "from sklearn.model_selection import GridSearchCV\n",
    "\n",
    "parameters={\n",
    "    'criterion':('gini','entropy')\n",
    "    ,'splitter':('best','random')\n",
    "    ,'max_depth':[*range(1,10)]\n",
    "    ,'min_samples_leaf':[*range(1,50,5)]\n",
    "    ,'min_impurity_decrease':[*np.linspace(0,0.5,50)]\n",
    "}\n",
    "\n",
    "dt=tree.DecisionTreeClassifier()\n",
    "\n",
    "#estimator:选择使用的分类器，并且传入除需要确定最佳的参数之外的其他参数\n",
    "#param_grid:需要最优化的参数的取值，值为字典或者列表\n",
    "#cv:交叉验证参数，默认None，使用三折交叉验证\n",
    "\n",
    "GS=GridSearchCV(dt,parameters,cv=5)\n",
    "\n",
    "GS=GS.fit(x_train,y_train)"
   ]
  },
  {
   "cell_type": "code",
   "execution_count": 200,
   "metadata": {},
   "outputs": [],
   "source": [
    "#随机搜索：从超参数空间中随机选择参数组合。\n",
    "\n",
    "from sklearn.model_selection import RandomizedSearchCV\n",
    "\n",
    "parameters={\n",
    "    'criterion':('gini','entropy')\n",
    "    ,'splitter':('best','random')\n",
    "    ,'max_depth':[*range(1,10)]\n",
    "    ,'min_samples_leaf':[*range(1,50,5)]\n",
    "    ,'min_impurity_decrease':[*np.linspace(0,0.5,50)]\n",
    "}\n",
    "\n",
    "dt=tree.DecisionTreeClassifier(random_state=42)\n",
    "\n",
    "#estimator:选择使用的分类器，并且传入除需要确定最佳的参数之外的其他参数\n",
    "#param_grid:需要最优化的参数的取值，值为字典或者列表\n",
    "#n_iter组\n",
    "\n",
    "RS=RandomizedSearchCV(dt,parameters,n_iter=100,scoring='f1')\n",
    "\n",
    "RS=RS.fit(x_train,y_train)"
   ]
  },
  {
   "cell_type": "code",
   "execution_count": 201,
   "metadata": {},
   "outputs": [
    {
     "data": {
      "text/plain": [
       "{'splitter': 'random',\n",
       " 'min_samples_leaf': 11,\n",
       " 'min_impurity_decrease': 0.0,\n",
       " 'max_depth': 9,\n",
       " 'criterion': 'entropy'}"
      ]
     },
     "execution_count": 201,
     "metadata": {},
     "output_type": "execute_result"
    }
   ],
   "source": [
    "RS.best_params_"
   ]
  },
  {
   "cell_type": "code",
   "execution_count": 203,
   "metadata": {},
   "outputs": [
    {
     "data": {
      "text/plain": [
       "0.6188898760365132"
      ]
     },
     "execution_count": 203,
     "metadata": {},
     "output_type": "execute_result"
    }
   ],
   "source": [
    "RS.best_score_"
   ]
  },
  {
   "cell_type": "markdown",
   "metadata": {},
   "source": [
    "<font color=black size=4 face=雅黑>**Step7: 重新建模预测**</font>"
   ]
  },
  {
   "cell_type": "code",
   "execution_count": 106,
   "metadata": {},
   "outputs": [],
   "source": [
    "dt = tree.DecisionTreeClassifier(random_state=42,splitter='random',min_samples_leaf=11,\n",
    "                                min_impurity_decrease=0.0,max_depth=9,criterion='entropy')"
   ]
  },
  {
   "cell_type": "code",
   "execution_count": 107,
   "metadata": {},
   "outputs": [
    {
     "data": {
      "text/plain": [
       "DecisionTreeClassifier(ccp_alpha=0.0, class_weight=None, criterion='entropy',\n",
       "                       max_depth=9, max_features=None, max_leaf_nodes=None,\n",
       "                       min_impurity_decrease=0.0, min_impurity_split=None,\n",
       "                       min_samples_leaf=11, min_samples_split=2,\n",
       "                       min_weight_fraction_leaf=0.0, random_state=42,\n",
       "                       splitter='random')"
      ]
     },
     "execution_count": 107,
     "metadata": {},
     "output_type": "execute_result"
    }
   ],
   "source": [
    "#用训练集训练模型\n",
    "dt.fit(x_train,y_train)"
   ]
  },
  {
   "cell_type": "code",
   "execution_count": 108,
   "metadata": {},
   "outputs": [
    {
     "data": {
      "text/plain": [
       "array([0, 0, 0, ..., 0, 0, 0])"
      ]
     },
     "execution_count": 108,
     "metadata": {},
     "output_type": "execute_result"
    }
   ],
   "source": [
    "y_prediction = dt.predict(x_test)\n",
    "y_prediction"
   ]
  },
  {
   "cell_type": "code",
   "execution_count": 109,
   "metadata": {},
   "outputs": [
    {
     "name": "stdout",
     "output_type": "stream",
     "text": [
      "Predicted      0    1\n",
      "Actual               \n",
      "0          17620   74\n",
      "1            187  199 \n",
      "\n",
      "accuracy  0.9855641592920354\n",
      "precision 0.7289377289377289\n",
      "recall    0.5155440414507773\n",
      "f1        0.6039453717754173\n"
     ]
    }
   ],
   "source": [
    "data={'y_test':y_test,\n",
    "      'y_predicted':y_prediction}\n",
    "df = pd.DataFrame(data,columns=['y_test','y_predicted'])\n",
    "\n",
    "#Crosstab 交叉列表取值,第一个参数是列，第二个参数是行\n",
    "confusion_matrix = pd.crosstab(df['y_test'], df['y_predicted'], rownames=['Actual'], colnames=['Predicted'])\n",
    "\n",
    "print (confusion_matrix,'\\n')\n",
    "print('accuracy  %s' % accuracy_score(y_test,y_prediction))\n",
    "print('precision %s' % precision_score(y_test,y_prediction))\n",
    "print('recall    %s' % recall_score(y_test,y_prediction))\n",
    "print('f1        %s' % f1_score(y_test,y_prediction))"
   ]
  },
  {
   "cell_type": "code",
   "execution_count": 110,
   "metadata": {},
   "outputs": [
    {
     "data": {
      "text/plain": [
       "total_pages_visited    0.863082\n",
       "new_user               0.062000\n",
       "age                    0.032539\n",
       "sex_Female             0.010606\n",
       "source_Direct          0.005350\n",
       "os_desktop_mac         0.004548\n",
       "source_Seo             0.004526\n",
       "sex_Male               0.004215\n",
       "country_China          0.003287\n",
       "source_Ads             0.002041\n",
       "os_desktop_windows     0.001803\n",
       "os_mobile_iOS          0.001230\n",
       "country_US             0.001160\n",
       "platform_web           0.000880\n",
       "platform_app           0.000828\n",
       "os_mobile_android      0.000791\n",
       "os_desktop_linux       0.000524\n",
       "country_UK             0.000300\n",
       "country_Germany        0.000289\n",
       "os_desktop_other       0.000000\n",
       "os_mobile_other        0.000000\n",
       "dtype: float64"
      ]
     },
     "execution_count": 110,
     "metadata": {},
     "output_type": "execute_result"
    }
   ],
   "source": [
    "feature_importances = pd.Series(dt.feature_importances_, index=x_train.columns)\n",
    "feature_importances.sort_values(ascending=False)"
   ]
  },
  {
   "cell_type": "markdown",
   "metadata": {},
   "source": [
    "<font color=black size=4 face=雅黑>**Step8: 解读模型**</font>"
   ]
  },
  {
   "cell_type": "markdown",
   "metadata": {},
   "source": [
    "**<font color=black size=3 face=雅黑>特征重要性展示的是哪些变量对预测的影响最大，而部分依赖图展示的是特征如何影响模型预测的。</font>**"
   ]
  },
  {
   "cell_type": "code",
   "execution_count": 111,
   "metadata": {},
   "outputs": [
    {
     "data": {
      "image/png": "[encoded data removed]",
      "text/plain": [
       "<Figure size 432x288 with 1 Axes>"
      ]
     },
     "metadata": {
      "needs_background": "light"
     },
     "output_type": "display_data"
    }
   ],
   "source": [
    "#total_pages_visited\n",
    "\n",
    "#partial dependency plot部分依赖图，部分依赖图则可以反映这个特征如何影响了预测。\n",
    "\n",
    "from pdpbox import pdp, info_plots\n",
    "pdp_iso = pdp.pdp_isolate(model=dt, \n",
    "                          dataset=x_train,      \n",
    "                          model_features=list(x_train), \n",
    "                          feature='total_pages_visited', \n",
    "                          num_grid_points=50)\n",
    "pdp_dataset = pd.Series(pdp_iso.pdp, index=pdp_iso.feature_grids)\n",
    "pdp_dataset.plot(title='total_pages_visited')\n",
    "plt.show()"
   ]
  },
  {
   "cell_type": "code",
   "execution_count": 112,
   "metadata": {},
   "outputs": [
    {
     "data": {
      "image/png": "[encoded data removed]",
      "text/plain": [
       "<Figure size 432x288 with 1 Axes>"
      ]
     },
     "metadata": {
      "needs_background": "light"
     },
     "output_type": "display_data"
    }
   ],
   "source": [
    "#age\n",
    "#partial dependency plot部分依赖图，部分依赖图则可以反映这个特征如何影响了预测。\n",
    "\n",
    "pdp_iso = pdp.pdp_isolate(model=dt, \n",
    "                          dataset=x_train,      \n",
    "                          model_features=list(x_train), \n",
    "                          feature='age', \n",
    "                          num_grid_points=50)\n",
    "pdp_dataset = pd.Series(pdp_iso.pdp, index=pdp_iso.feature_grids)\n",
    "pdp_dataset.plot(title='age')\n",
    "plt.show()"
   ]
  },
  {
   "cell_type": "code",
   "execution_count": 113,
   "metadata": {},
   "outputs": [
    {
     "data": {
      "image/png": "[encoded data removed]",
      "text/plain": [
       "<Figure size 432x288 with 1 Axes>"
      ]
     },
     "metadata": {
      "needs_background": "light"
     },
     "output_type": "display_data"
    }
   ],
   "source": [
    "#new_user\n",
    "#partial dependency plot部分依赖图，部分依赖图则可以反映这个特征如何影响了预测。\n",
    "from pdpbox import pdp, info_plots \n",
    "#country\n",
    "pdp_iso = pdp.pdp_isolate(model=dt, \n",
    "                          dataset=x_train,      \n",
    "                          model_features=list(x_train), \n",
    "                          feature='new_user', \n",
    "                          num_grid_points=50)\n",
    "\n",
    "pdp_dataset = pd.Series(pdp_iso.pdp, index=pdp_iso.display_columns)\n",
    "pdp_dataset.sort_values(ascending=False).plot(kind='bar', title='new_user')\n",
    "plt.show()"
   ]
  },
  {
   "cell_type": "code",
   "execution_count": 114,
   "metadata": {},
   "outputs": [
    {
     "data": {
      "image/png": "[encoded data removed]",
      "text/plain": [
       "<Figure size 432x288 with 1 Axes>"
      ]
     },
     "metadata": {
      "needs_background": "light"
     },
     "output_type": "display_data"
    }
   ],
   "source": [
    "#sex\n",
    "#partial dependency plot部分依赖图，部分依赖图则可以反映这个特征如何影响了预测。\n",
    "\n",
    "pdp_iso = pdp.pdp_isolate(model=dt, \n",
    "                          dataset=x_test,      \n",
    "                          model_features=list(x_train), \n",
    "                          feature=['sex_Female', 'sex_Male'],\n",
    "                          num_grid_points=50)\n",
    "pdp_dataset = pd.Series(pdp_iso.pdp, index=pdp_iso.display_columns)\n",
    "pdp_dataset.sort_values(ascending=False).plot(kind='bar', title='sex')\n",
    "plt.show()"
   ]
  },
  {
   "cell_type": "code",
   "execution_count": 115,
   "metadata": {},
   "outputs": [
    {
     "data": {
      "image/png": "[encoded data removed]",
      "text/plain": [
       "<Figure size 432x288 with 1 Axes>"
      ]
     },
     "metadata": {
      "needs_background": "light"
     },
     "output_type": "display_data"
    }
   ],
   "source": [
    "#source\n",
    "#partial dependency plot部分依赖图，部分依赖图则可以反映这个特征如何影响了预测。\n",
    "\n",
    "from pdpbox import pdp, info_plots\n",
    "\n",
    "pdp_iso = pdp.pdp_isolate(model=dt, \n",
    "                          dataset=x_train,      \n",
    "                          model_features=list(x_train), \n",
    "                          feature=['source_Direct','source_Ads','source_Seo'],\n",
    "                          num_grid_points=50)\n",
    "\n",
    "pdp_dataset = pd.Series(pdp_iso.pdp, index=pdp_iso.display_columns)\n",
    "pdp_dataset.sort_values(ascending=False).plot(kind='bar', title='source')\n",
    "plt.show()"
   ]
  },
  {
   "cell_type": "code",
   "execution_count": 116,
   "metadata": {},
   "outputs": [
    {
     "data": {
      "image/png": "[encoded data removed]",
      "text/plain": [
       "<Figure size 432x288 with 1 Axes>"
      ]
     },
     "metadata": {
      "needs_background": "light"
     },
     "output_type": "display_data"
    }
   ],
   "source": [
    "#platform\n",
    "#partial dependency plot部分依赖图，部分依赖图则可以反映这个特征如何影响了预测。\n",
    "\n",
    "from pdpbox import pdp, info_plots\n",
    "\n",
    "pdp_iso = pdp.pdp_isolate(model=dt, \n",
    "                          dataset=x_train,      \n",
    "                          model_features=list(x_train), \n",
    "                          feature=['platform_app','platform_web'],\n",
    "                          num_grid_points=50)\n",
    "\n",
    "pdp_dataset = pd.Series(pdp_iso.pdp, index=pdp_iso.display_columns)\n",
    "pdp_dataset.sort_values(ascending=False).plot(kind='bar', title='platform')\n",
    "plt.show()"
   ]
  },
  {
   "cell_type": "code",
   "execution_count": 117,
   "metadata": {},
   "outputs": [
    {
     "data": {
      "image/png": "[encoded data removed]",
      "text/plain": [
       "<Figure size 432x288 with 1 Axes>"
      ]
     },
     "metadata": {
      "needs_background": "light"
     },
     "output_type": "display_data"
    }
   ],
   "source": [
    "#os\n",
    "#partial dependency plot部分依赖图，部分依赖图则可以反映这个特征如何影响了预测。\n",
    "\n",
    "from pdpbox import pdp, info_plots\n",
    "  \n",
    "pdp_iso = pdp.pdp_isolate(model=dt, \n",
    "                          dataset=x_train,      \n",
    "                          model_features=list(x_train), \n",
    "                          feature=['os_desktop_linux', 'os_desktop_mac', 'os_desktop_other', 'os_desktop_windows','os_mobile_android', 'os_mobile_iOS', 'os_mobile_other'], \n",
    "                          num_grid_points=50)\n",
    "\n",
    "pdp_dataset = pd.Series(pdp_iso.pdp, index=pdp_iso.display_columns)\n",
    "pdp_dataset.sort_values(ascending=False).plot(kind='bar', title='os')\n",
    "plt.show()"
   ]
  },
  {
   "cell_type": "code",
   "execution_count": 118,
   "metadata": {
    "scrolled": true
   },
   "outputs": [
    {
     "data": {
      "image/png": "[encoded data removed]",
      "text/plain": [
       "<Figure size 432x288 with 1 Axes>"
      ]
     },
     "metadata": {
      "needs_background": "light"
     },
     "output_type": "display_data"
    }
   ],
   "source": [
    "#country\n",
    "#partial dependency plot部分依赖图，部分依赖图则可以反映这个特征如何影响了预测。\n",
    "from pdpbox import pdp, info_plots\n",
    "pdp_iso = pdp.pdp_isolate(model=dt, \n",
    "                          dataset=x_train,      \n",
    "                          model_features=list(x_train), \n",
    "                          feature=['country_China','country_Germany','country_UK','country_US'], \n",
    "                          num_grid_points=50)\n",
    "\n",
    "pdp_dataset = pd.Series(pdp_iso.pdp, index=pdp_iso.display_columns)\n",
    "pdp_dataset.sort_values(ascending=False).plot(kind='bar', title='country')\n",
    "plt.show()"
   ]
  },
  {
   "cell_type": "code",
   "execution_count": 119,
   "metadata": {},
   "outputs": [
    {
     "data": {
      "text/plain": [
       "'tree_conversion.dot.pdf'"
      ]
     },
     "execution_count": 119,
     "metadata": {},
     "output_type": "execute_result"
    }
   ],
   "source": [
    "#现在建立一个简单的决策树，检查2或3个最重要的特征。\n",
    "\n",
    "import graphviz\n",
    "from sklearn.tree import DecisionTreeClassifier\n",
    "from sklearn.tree import export_graphviz\n",
    "from graphviz import Source\n",
    "\n",
    "dt = tree.DecisionTreeClassifier(random_state=42,splitter='random',min_samples_leaf=11,\n",
    "                                min_impurity_decrease=0.0,max_depth=3,criterion='entropy')\n",
    "  \n",
    "dt.fit(x_train,y_train)\n",
    "  \n",
    "#visualize it\n",
    "export_graphviz(dt, out_file=\"tree_conversion.dot\", feature_names=x_train.columns,class_names=['no_convert','converted'], proportion=True, rotate=True)\n",
    "with open(\"tree_conversion.dot\") as f:\n",
    "    dot_graph = f.read()\n",
    "  \n",
    "s = Source.from_file(\"tree_conversion.dot\")\n",
    "s.view()"
   ]
  },
  {
   "cell_type": "markdown",
   "metadata": {},
   "source": [
    "**<font color=black size=4 face=雅黑>3.随机森林</font>**"
   ]
  },
  {
   "cell_type": "markdown",
   "metadata": {},
   "source": [
    "1.1划分训练集和测试集"
   ]
  },
  {
   "cell_type": "code",
   "execution_count": 215,
   "metadata": {},
   "outputs": [],
   "source": [
    "from sklearn.model_selection import train_test_split\n",
    "np.random.seed(4684)\n",
    "\n",
    "x=data_tree.drop(['converted'],axis=1)\n",
    "y=data_tree['converted']\n",
    "\n",
    "#划分训练集和测试集\n",
    "x_train, x_test, y_train, y_test=train_test_split(x, y, train_size=0.8)"
   ]
  },
  {
   "cell_type": "markdown",
   "metadata": {},
   "source": [
    "1.2 用训练集训练模型"
   ]
  },
  {
   "cell_type": "code",
   "execution_count": 216,
   "metadata": {},
   "outputs": [
    {
     "data": {
      "text/plain": [
       "RandomForestClassifier(bootstrap=True, ccp_alpha=0.0, class_weight=None,\n",
       "                       criterion='gini', max_depth=None, max_features='auto',\n",
       "                       max_leaf_nodes=None, max_samples=None,\n",
       "                       min_impurity_decrease=0.0, min_impurity_split=None,\n",
       "                       min_samples_leaf=1, min_samples_split=2,\n",
       "                       min_weight_fraction_leaf=0.0, n_estimators=100,\n",
       "                       n_jobs=None, oob_score=True, random_state=10, verbose=0,\n",
       "                       warm_start=False)"
      ]
     },
     "execution_count": 216,
     "metadata": {},
     "output_type": "execute_result"
    }
   ],
   "source": [
    "from sklearn.ensemble import RandomForestClassifier\n",
    "\n",
    "rf= RandomForestClassifier(oob_score=True, random_state=10)\n",
    "rf.fit(x_train,y_train)"
   ]
  },
  {
   "cell_type": "markdown",
   "metadata": {},
   "source": [
    "1.3 用训练好的模型来预测测试集"
   ]
  },
  {
   "cell_type": "code",
   "execution_count": 217,
   "metadata": {},
   "outputs": [
    {
     "name": "stdout",
     "output_type": "stream",
     "text": [
      "Predicted      0    1\n",
      "Actual               \n",
      "0          17591  103\n",
      "1            185  201 \n",
      "\n",
      "accuracy  0.984070796460177\n",
      "precision 0.6611842105263158\n",
      "recall    0.5207253886010362\n",
      "f1        0.5826086956521739\n"
     ]
    }
   ],
   "source": [
    "y_prediction=rf.predict(x_test)\n",
    "data={'y_test':y_test,\n",
    "      'y_predicted':y_prediction}\n",
    "df = pd.DataFrame(data,columns=['y_test','y_predicted'])\n",
    "\n",
    "confusion_matrix = pd.crosstab(df['y_test'], df['y_predicted'], rownames=['Actual'], colnames=['Predicted'])\n",
    "print (confusion_matrix,'\\n')\n",
    "\n",
    "print('accuracy  %s' % accuracy_score(y_test,y_prediction))\n",
    "print('precision %s' % precision_score(y_test,y_prediction))\n",
    "print('recall    %s' % recall_score(y_test,y_prediction))\n",
    "print('f1        %s' % f1_score(y_test,y_prediction))"
   ]
  },
  {
   "cell_type": "markdown",
   "metadata": {},
   "source": [
    "1.4 调参（网格搜索）按照参数的重要性一个个找"
   ]
  },
  {
   "cell_type": "code",
   "execution_count": 218,
   "metadata": {},
   "outputs": [
    {
     "data": {
      "text/plain": [
       "({'n_estimators': 250}, 0.5491679063644883)"
      ]
     },
     "execution_count": 218,
     "metadata": {},
     "output_type": "execute_result"
    }
   ],
   "source": [
    "#n_estimators\n",
    "\n",
    "from sklearn.model_selection import GridSearchCV\n",
    "\n",
    "param_test1 = {'n_estimators':[50,100,160,200,250]}\n",
    "gsearch1 = GridSearchCV(estimator = RandomForestClassifier(min_samples_split=100,\n",
    "                                  min_samples_leaf=20,max_depth=8,max_features='sqrt' ,random_state=10), \n",
    "                       param_grid = param_test1, scoring='f1',cv=5)\n",
    "gsearch1.fit(x_train,y_train)\n",
    "gsearch1.best_params_, gsearch1.best_score_"
   ]
  },
  {
   "cell_type": "code",
   "execution_count": 221,
   "metadata": {},
   "outputs": [
    {
     "data": {
      "text/plain": [
       "({'max_depth': 12}, 0.5901646385641282)"
      ]
     },
     "execution_count": 221,
     "metadata": {},
     "output_type": "execute_result"
    }
   ],
   "source": [
    "#max_depth,min_samples_split\n",
    "\n",
    "param_test2 = {'max_depth':range(2,14,2)}\n",
    "gsearch2 = GridSearchCV(estimator = RandomForestClassifier(n_estimators= 250, min_samples_split=100,\n",
    "                                  min_samples_leaf=20,max_features='sqrt' ,oob_score=True, random_state=10),\n",
    "                        param_grid = param_test2, scoring='f1',cv=5)\n",
    "gsearch2.fit(x_train,y_train)\n",
    "gsearch2.best_params_, gsearch2.best_score_"
   ]
  },
  {
   "cell_type": "code",
   "execution_count": 224,
   "metadata": {},
   "outputs": [
    {
     "data": {
      "text/plain": [
       "({'min_samples_leaf': 10, 'min_samples_split': 20}, 0.6060253020523237)"
      ]
     },
     "execution_count": 224,
     "metadata": {},
     "output_type": "execute_result"
    }
   ],
   "source": [
    "#min_samples_leaf\n",
    "\n",
    "param_test3 = {'min_samples_split':range(20,50,80), 'min_samples_leaf':range(10,60,10)}\n",
    "gsearch3 = GridSearchCV(estimator = RandomForestClassifier(n_estimators= 250, max_depth=12,\n",
    "                                  max_features='sqrt' ,oob_score=True, random_state=10),\n",
    "                        param_grid = param_test3, scoring='f1',cv=5)\n",
    "gsearch3.fit(x_train,y_train)\n",
    "gsearch3.best_params_, gsearch3.best_score_"
   ]
  },
  {
   "cell_type": "code",
   "execution_count": 225,
   "metadata": {},
   "outputs": [
    {
     "data": {
      "text/plain": [
       "({'max_features': 9}, 0.6371950463640454)"
      ]
     },
     "execution_count": 225,
     "metadata": {},
     "output_type": "execute_result"
    }
   ],
   "source": [
    "#max_features\n",
    "\n",
    "param_test4 = {'max_features':range(3,11,2)}\n",
    "gsearch4 = GridSearchCV(estimator = RandomForestClassifier(n_estimators=250, max_depth=12, min_samples_split=20,\n",
    "                                  min_samples_leaf=10,oob_score=True, random_state=10),\n",
    "   param_grid = param_test4, scoring='f1',cv=5)\n",
    "gsearch4.fit(x_train,y_train)\n",
    "gsearch4.best_params_, gsearch4.best_score_"
   ]
  },
  {
   "cell_type": "markdown",
   "metadata": {},
   "source": [
    "1.4 调参（随机搜索）从超参数空间中随机选择参数组合。"
   ]
  },
  {
   "cell_type": "code",
   "execution_count": null,
   "metadata": {},
   "outputs": [],
   "source": [
    "from sklearn.model_selection import RandomizedSearchCV\n",
    "\n",
    "parameters={\n",
    "    'n_estimators':[*range(0,200,10)]\n",
    "    ,'criterion':('gini','entropy')\n",
    "    ,'max_depth':[*range(1,10)]\n",
    "    ,'min_samples_leaf':[*range(1,50,5)]\n",
    "    ,'min_impurity_decrease':[*np.linspace(0.01,0.5,50)]\n",
    "}\n",
    "\n",
    "rf=RandomForestClassifier(oob_score=True, random_state=10)\n",
    "\n",
    "#estimator:选择使用的分类器，并且传入除需要确定最佳的参数之外的其他参数\n",
    "#param_grid:需要最优化的参数的取值，值为字典或者列表\n",
    "#n_iter组\n",
    "\n",
    "RS=RandomizedSearchCV(rf,parameters,scoring='precision',n_iter=100)\n",
    "\n",
    "RS=RS.fit(x_train,y_train)\n",
    "\n",
    "RS.best_params_"
   ]
  },
  {
   "cell_type": "markdown",
   "metadata": {},
   "source": [
    "1.5 重新建模预测"
   ]
  },
  {
   "cell_type": "code",
   "execution_count": 226,
   "metadata": {},
   "outputs": [],
   "source": [
    "rf=RandomForestClassifier(n_estimators=250, max_depth=12, min_samples_split=10,max_features=9,\n",
    "                          min_samples_leaf=20,oob_score=True, random_state=10)"
   ]
  },
  {
   "cell_type": "code",
   "execution_count": 227,
   "metadata": {},
   "outputs": [],
   "source": [
    "rf=rf.fit(x_train,y_train)"
   ]
  },
  {
   "cell_type": "code",
   "execution_count": 228,
   "metadata": {},
   "outputs": [
    {
     "name": "stdout",
     "output_type": "stream",
     "text": [
      "Predicted      0    1\n",
      "Actual               \n",
      "0          17630   64\n",
      "1            183  203 \n",
      "\n",
      "accuracy  0.9863384955752212\n",
      "precision 0.7602996254681648\n",
      "recall    0.5259067357512953\n",
      "f1        0.6217457886676876\n"
     ]
    }
   ],
   "source": [
    "y_prediction=rf.predict(x_test)\n",
    "data={'y_test':y_test,\n",
    "      'y_predicted':y_prediction}\n",
    "df = pd.DataFrame(data,columns=['y_test','y_predicted'])\n",
    "\n",
    "confusion_matrix = pd.crosstab(df['y_test'], df['y_predicted'], rownames=['Actual'], colnames=['Predicted'])\n",
    "print (confusion_matrix,'\\n')\n",
    "\n",
    "print('accuracy  %s' % accuracy_score(y_test,y_prediction))\n",
    "print('precision %s' % precision_score(y_test,y_prediction))\n",
    "print('recall    %s' % recall_score(y_test,y_prediction))\n",
    "print('f1        %s' % f1_score(y_test,y_prediction))"
   ]
  },
  {
   "cell_type": "markdown",
   "metadata": {},
   "source": [
    "1.6特征重要性"
   ]
  },
  {
   "cell_type": "code",
   "execution_count": 229,
   "metadata": {},
   "outputs": [
    {
     "data": {
      "text/plain": [
       "total_pages_visited    0.784964\n",
       "new_user               0.075328\n",
       "age                    0.060537\n",
       "source_Direct          0.030933\n",
       "source_Seo             0.008441\n",
       "sex_Female             0.008195\n",
       "sex_Male               0.007767\n",
       "country_US             0.003831\n",
       "os_mobile_iOS          0.002949\n",
       "source_Ads             0.002595\n",
       "platform_app           0.002517\n",
       "platform_web           0.002263\n",
       "os_desktop_mac         0.002228\n",
       "os_desktop_windows     0.002025\n",
       "country_China          0.001897\n",
       "os_mobile_android      0.001692\n",
       "country_UK             0.001245\n",
       "country_Germany        0.000397\n",
       "os_mobile_other        0.000165\n",
       "os_desktop_linux       0.000032\n",
       "os_desktop_other       0.000000\n",
       "dtype: float64"
      ]
     },
     "execution_count": 229,
     "metadata": {},
     "output_type": "execute_result"
    }
   ],
   "source": [
    "feature_importances = pd.Series(rf.feature_importances_, index=x_train.columns)\n",
    "feature_importances.sort_values(ascending=False)"
   ]
  }
 ],
 "metadata": {
  "kernelspec": {
   "display_name": "Python 3",
   "language": "python",
   "name": "python3"
  },
  "language_info": {
   "codemirror_mode": {
    "name": "ipython",
    "version": 3
   },
   "file_extension": ".py",
   "mimetype": "text/x-python",
   "name": "python",
   "nbconvert_exporter": "python",
   "pygments_lexer": "ipython3",
   "version": "3.6.5"
  },
  "toc": {
   "base_numbering": 1,
   "nav_menu": {},
   "number_sections": true,
   "sideBar": true,
   "skip_h1_title": false,
   "title_cell": "Table of Contents",
   "title_sidebar": "Contents",
   "toc_cell": false,
   "toc_position": {},
   "toc_section_display": true,
   "toc_window_display": false
  }
 },
 "nbformat": 4,
 "nbformat_minor": 4
}
