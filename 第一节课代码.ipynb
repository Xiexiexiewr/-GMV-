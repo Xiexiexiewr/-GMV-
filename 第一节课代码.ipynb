{
 "cells": [
  {
   "cell_type": "markdown",
   "metadata": {},
   "source": [
    "**<font color=black size=5 face=雅黑>精品小班项目课程1：某国际电商分析项目</font>**"
   ]
  },
  {
   "cell_type": "markdown",
   "metadata": {},
   "source": [
    "**<font color=black size=4 face=雅黑>Step 1: 明确项目背景和需求</font>**\n",
    "\n",
    "项目背景：某国际电商（APP和网站）。\n",
    "\n",
    "项目需求：\n",
    "1. 为产品团队和运营团队或者开发团队提出建议，以提高下单转换率。\n",
    "2. 建立一个预测用户下单转化模型。"
   ]
  },
  {
   "cell_type": "markdown",
   "metadata": {},
   "source": [
    "**<font color=black size=4 face=雅黑>Step 2: 探索数据集</font>**"
   ]
  },
  {
   "cell_type": "markdown",
   "metadata": {},
   "source": [
    "**<font color=black size=3 face=雅黑>2.1 载入各种数据科学库以及可视化库</font>**"
   ]
  },
  {
   "cell_type": "code",
   "execution_count": 23,
   "metadata": {},
   "outputs": [],
   "source": [
    "#导入数据处理的库\n",
    "import pandas as pd\n",
    "import numpy as np\n",
    "\n",
    "#导入画图的可视化库\n",
    "import matplotlib\n",
    "import matplotlib.pyplot as plt\n",
    "import seaborn as sns\n",
    "\n",
    "#plt中文显示问题\n",
    "plt.rcParams['font.sans-serif'] = ['Arial Unicode MS']\n",
    "plt.rcParams['axes.unicode_minus'] = False\n",
    "\n",
    "plt.rcParams['font.sans-serif'] = ['SimHei']\n",
    "\n",
    "import warnings\n",
    "warnings.filterwarnings(\"ignore\")"
   ]
  },
  {
   "cell_type": "markdown",
   "metadata": {},
   "source": [
    "**<font color=black size=3 face=雅黑>2.2 载入数据</font>**"
   ]
  },
  {
   "cell_type": "code",
   "execution_count": 24,
   "metadata": {},
   "outputs": [
    {
     "data": {
      "text/html": [
       "<div>\n",
       "<style scoped>\n",
       "    .dataframe tbody tr th:only-of-type {\n",
       "        vertical-align: middle;\n",
       "    }\n",
       "\n",
       "    .dataframe tbody tr th {\n",
       "        vertical-align: top;\n",
       "    }\n",
       "\n",
       "    .dataframe thead th {\n",
       "        text-align: right;\n",
       "    }\n",
       "</style>\n",
       "<table border=\"1\" class=\"dataframe\">\n",
       "  <thead>\n",
       "    <tr style=\"text-align: right;\">\n",
       "      <th></th>\n",
       "      <th>user_id</th>\n",
       "      <th>new_user</th>\n",
       "      <th>age</th>\n",
       "      <th>sex</th>\n",
       "      <th>country</th>\n",
       "      <th>device</th>\n",
       "      <th>operative_system</th>\n",
       "      <th>source</th>\n",
       "      <th>total_pages_visited</th>\n",
       "    </tr>\n",
       "  </thead>\n",
       "  <tbody>\n",
       "    <tr>\n",
       "      <th>0</th>\n",
       "      <td>654951</td>\n",
       "      <td>0</td>\n",
       "      <td>17</td>\n",
       "      <td>Female</td>\n",
       "      <td>US</td>\n",
       "      <td>mobile</td>\n",
       "      <td>android</td>\n",
       "      <td>Direct</td>\n",
       "      <td>3</td>\n",
       "    </tr>\n",
       "    <tr>\n",
       "      <th>1</th>\n",
       "      <td>730619</td>\n",
       "      <td>0</td>\n",
       "      <td>27</td>\n",
       "      <td>Male</td>\n",
       "      <td>UK</td>\n",
       "      <td>mobile</td>\n",
       "      <td>iOS</td>\n",
       "      <td>Direct</td>\n",
       "      <td>5</td>\n",
       "    </tr>\n",
       "    <tr>\n",
       "      <th>2</th>\n",
       "      <td>261033</td>\n",
       "      <td>0</td>\n",
       "      <td>24</td>\n",
       "      <td>Female</td>\n",
       "      <td>US</td>\n",
       "      <td>mobile</td>\n",
       "      <td>android</td>\n",
       "      <td>Seo</td>\n",
       "      <td>4</td>\n",
       "    </tr>\n",
       "    <tr>\n",
       "      <th>3</th>\n",
       "      <td>533685</td>\n",
       "      <td>0</td>\n",
       "      <td>21</td>\n",
       "      <td>Male</td>\n",
       "      <td>UK</td>\n",
       "      <td>desktop</td>\n",
       "      <td>windows</td>\n",
       "      <td>Direct</td>\n",
       "      <td>5</td>\n",
       "    </tr>\n",
       "    <tr>\n",
       "      <th>4</th>\n",
       "      <td>699480</td>\n",
       "      <td>0</td>\n",
       "      <td>17</td>\n",
       "      <td>Male</td>\n",
       "      <td>UK</td>\n",
       "      <td>mobile</td>\n",
       "      <td>iOS</td>\n",
       "      <td>Direct</td>\n",
       "      <td>6</td>\n",
       "    </tr>\n",
       "  </tbody>\n",
       "</table>\n",
       "</div>"
      ],
      "text/plain": [
       "   user_id  new_user  age     sex country   device operative_system  source  \\\n",
       "0   654951         0   17  Female      US   mobile          android  Direct   \n",
       "1   730619         0   27    Male      UK   mobile              iOS  Direct   \n",
       "2   261033         0   24  Female      US   mobile          android     Seo   \n",
       "3   533685         0   21    Male      UK  desktop          windows  Direct   \n",
       "4   699480         0   17    Male      UK   mobile              iOS  Direct   \n",
       "\n",
       "   total_pages_visited  \n",
       "0                    3  \n",
       "1                    5  \n",
       "2                    4  \n",
       "3                    5  \n",
       "4                    6  "
      ]
     },
     "execution_count": 24,
     "metadata": {},
     "output_type": "execute_result"
    }
   ],
   "source": [
    "#用户信息数据表user_table\n",
    "user_info=pd.read_csv(\"user_table.csv\")\n",
    "user_info.head()"
   ]
  },
  {
   "cell_type": "markdown",
   "metadata": {},
   "source": [
    "* user_id:用户ID（唯一）\n",
    "* new_user:是否是新用户。是：1，不是：0\n",
    "* age:用户年龄\n",
    "* country:用户所属国家\n",
    "* device:用户设备。mobile:手机（进入的是电商App),desktop:电脑（进入的是电商网站web)\n",
    "* operative_system:操作系统。mac,windows,linux(电脑操作系统); android和ios(手机操作系统）\n",
    "* source:用户来源。（Direct直接,Seo搜索引擎,Ads广告)\n",
    "* total_page_visited:浏览页面总数。"
   ]
  },
  {
   "cell_type": "code",
   "execution_count": 25,
   "metadata": {},
   "outputs": [
    {
     "data": {
      "text/plain": [
       "(90400, 9)"
      ]
     },
     "execution_count": 25,
     "metadata": {},
     "output_type": "execute_result"
    }
   ],
   "source": [
    "user_info.shape"
   ]
  },
  {
   "cell_type": "code",
   "execution_count": 137,
   "metadata": {},
   "outputs": [
    {
     "data": {
      "text/plain": [
       "(90400, 2)"
      ]
     },
     "execution_count": 137,
     "metadata": {},
     "output_type": "execute_result"
    }
   ],
   "source": [
    "#home_page_table\n",
    "#浏览过home_page的用户 \n",
    "user_home=pd.read_csv(\"home_page_table.csv\")\n",
    "user_home.head()\n",
    "user_home.shape"
   ]
  },
  {
   "cell_type": "code",
   "execution_count": 138,
   "metadata": {},
   "outputs": [
    {
     "data": {
      "text/plain": [
       "(66392, 2)"
      ]
     },
     "execution_count": 138,
     "metadata": {},
     "output_type": "execute_result"
    }
   ],
   "source": [
    "user_listing=pd.read_csv(\"listing_page_table.csv\")\n",
    "user_listing.head()\n",
    "user_listing.shape"
   ]
  },
  {
   "cell_type": "code",
   "execution_count": 28,
   "metadata": {},
   "outputs": [
    {
     "data": {
      "text/plain": [
       "(66392, 2)"
      ]
     },
     "execution_count": 28,
     "metadata": {},
     "output_type": "execute_result"
    }
   ],
   "source": [
    "user_listing.shape"
   ]
  },
  {
   "cell_type": "markdown",
   "metadata": {},
   "source": [
    "**<font color=black size=3 face=雅黑>2.3 数据预览</font>**"
   ]
  },
  {
   "cell_type": "code",
   "execution_count": 29,
   "metadata": {},
   "outputs": [
    {
     "data": {
      "text/html": [
       "<div>\n",
       "<style scoped>\n",
       "    .dataframe tbody tr th:only-of-type {\n",
       "        vertical-align: middle;\n",
       "    }\n",
       "\n",
       "    .dataframe tbody tr th {\n",
       "        vertical-align: top;\n",
       "    }\n",
       "\n",
       "    .dataframe thead th {\n",
       "        text-align: right;\n",
       "    }\n",
       "</style>\n",
       "<table border=\"1\" class=\"dataframe\">\n",
       "  <thead>\n",
       "    <tr style=\"text-align: right;\">\n",
       "      <th></th>\n",
       "      <th>user_id</th>\n",
       "      <th>new_user</th>\n",
       "      <th>age</th>\n",
       "      <th>total_pages_visited</th>\n",
       "    </tr>\n",
       "  </thead>\n",
       "  <tbody>\n",
       "    <tr>\n",
       "      <th>count</th>\n",
       "      <td>90400.000000</td>\n",
       "      <td>90400.000000</td>\n",
       "      <td>90400.000000</td>\n",
       "      <td>90400.000000</td>\n",
       "    </tr>\n",
       "    <tr>\n",
       "      <th>mean</th>\n",
       "      <td>498709.683473</td>\n",
       "      <td>0.308374</td>\n",
       "      <td>30.440796</td>\n",
       "      <td>5.418097</td>\n",
       "    </tr>\n",
       "    <tr>\n",
       "      <th>std</th>\n",
       "      <td>289040.674085</td>\n",
       "      <td>0.461824</td>\n",
       "      <td>8.224111</td>\n",
       "      <td>3.682882</td>\n",
       "    </tr>\n",
       "    <tr>\n",
       "      <th>min</th>\n",
       "      <td>17.000000</td>\n",
       "      <td>0.000000</td>\n",
       "      <td>17.000000</td>\n",
       "      <td>1.000000</td>\n",
       "    </tr>\n",
       "    <tr>\n",
       "      <th>25%</th>\n",
       "      <td>247978.750000</td>\n",
       "      <td>0.000000</td>\n",
       "      <td>24.000000</td>\n",
       "      <td>3.000000</td>\n",
       "    </tr>\n",
       "    <tr>\n",
       "      <th>50%</th>\n",
       "      <td>498267.000000</td>\n",
       "      <td>0.000000</td>\n",
       "      <td>30.000000</td>\n",
       "      <td>4.000000</td>\n",
       "    </tr>\n",
       "    <tr>\n",
       "      <th>75%</th>\n",
       "      <td>749789.250000</td>\n",
       "      <td>1.000000</td>\n",
       "      <td>36.000000</td>\n",
       "      <td>7.000000</td>\n",
       "    </tr>\n",
       "    <tr>\n",
       "      <th>max</th>\n",
       "      <td>999979.000000</td>\n",
       "      <td>1.000000</td>\n",
       "      <td>123.000000</td>\n",
       "      <td>28.000000</td>\n",
       "    </tr>\n",
       "  </tbody>\n",
       "</table>\n",
       "</div>"
      ],
      "text/plain": [
       "             user_id      new_user           age  total_pages_visited\n",
       "count   90400.000000  90400.000000  90400.000000         90400.000000\n",
       "mean   498709.683473      0.308374     30.440796             5.418097\n",
       "std    289040.674085      0.461824      8.224111             3.682882\n",
       "min        17.000000      0.000000     17.000000             1.000000\n",
       "25%    247978.750000      0.000000     24.000000             3.000000\n",
       "50%    498267.000000      0.000000     30.000000             4.000000\n",
       "75%    749789.250000      1.000000     36.000000             7.000000\n",
       "max    999979.000000      1.000000    123.000000            28.000000"
      ]
     },
     "execution_count": 29,
     "metadata": {},
     "output_type": "execute_result"
    }
   ],
   "source": [
    "#通过describe( )来熟悉数据的相关统计量，主要了解数据的大概范围以及每个特征的异常值的初步判断\n",
    "user_info.describe()"
   ]
  },
  {
   "cell_type": "code",
   "execution_count": 30,
   "metadata": {},
   "outputs": [
    {
     "name": "stdout",
     "output_type": "stream",
     "text": [
      "<class 'pandas.core.frame.DataFrame'>\n",
      "RangeIndex: 90400 entries, 0 to 90399\n",
      "Data columns (total 9 columns):\n",
      "user_id                90400 non-null int64\n",
      "new_user               90400 non-null int64\n",
      "age                    90400 non-null int64\n",
      "sex                    89627 non-null object\n",
      "country                90339 non-null object\n",
      "device                 90267 non-null object\n",
      "operative_system       90183 non-null object\n",
      "source                 90277 non-null object\n",
      "total_pages_visited    90400 non-null int64\n",
      "dtypes: int64(4), object(5)\n",
      "memory usage: 6.2+ MB\n"
     ]
    }
   ],
   "source": [
    "#通过info( )来熟悉数据类型，有助于了解是否存缺失值（NaN)\n",
    "user_info.info()"
   ]
  },
  {
   "cell_type": "code",
   "execution_count": 31,
   "metadata": {},
   "outputs": [
    {
     "name": "stdout",
     "output_type": "stream",
     "text": [
      "<class 'pandas.core.frame.DataFrame'>\n",
      "RangeIndex: 90400 entries, 0 to 90399\n",
      "Data columns (total 2 columns):\n",
      "user_id    90400 non-null int64\n",
      "page       90400 non-null object\n",
      "dtypes: int64(1), object(1)\n",
      "memory usage: 1.4+ MB\n"
     ]
    }
   ],
   "source": [
    "user_home.info()"
   ]
  },
  {
   "cell_type": "markdown",
   "metadata": {},
   "source": [
    "**<font color=black size=3 face=雅黑>2.4 可视化探索部分</font>**\n",
    "\n",
    "**<font color=black size=3 face=雅黑>针对user_table 用户信息表：</font>**\n",
    "\n",
    "**<font color=black size=3 face=雅黑>2.4.1 new_user是否为新用户</font>**"
   ]
  },
  {
   "cell_type": "code",
   "execution_count": 32,
   "metadata": {},
   "outputs": [
    {
     "data": {
      "text/plain": [
       "2"
      ]
     },
     "execution_count": 32,
     "metadata": {},
     "output_type": "execute_result"
    }
   ],
   "source": [
    "user_info['new_user'].nunique()"
   ]
  },
  {
   "cell_type": "code",
   "execution_count": 33,
   "metadata": {},
   "outputs": [
    {
     "data": {
      "text/html": [
       "<div>\n",
       "<style scoped>\n",
       "    .dataframe tbody tr th:only-of-type {\n",
       "        vertical-align: middle;\n",
       "    }\n",
       "\n",
       "    .dataframe tbody tr th {\n",
       "        vertical-align: top;\n",
       "    }\n",
       "\n",
       "    .dataframe thead th {\n",
       "        text-align: right;\n",
       "    }\n",
       "</style>\n",
       "<table border=\"1\" class=\"dataframe\">\n",
       "  <thead>\n",
       "    <tr style=\"text-align: right;\">\n",
       "      <th></th>\n",
       "      <th>new_user</th>\n",
       "    </tr>\n",
       "  </thead>\n",
       "  <tbody>\n",
       "    <tr>\n",
       "      <th>0</th>\n",
       "      <td>62523</td>\n",
       "    </tr>\n",
       "    <tr>\n",
       "      <th>1</th>\n",
       "      <td>27877</td>\n",
       "    </tr>\n",
       "  </tbody>\n",
       "</table>\n",
       "</div>"
      ],
      "text/plain": [
       "   new_user\n",
       "0     62523\n",
       "1     27877"
      ]
     },
     "execution_count": 33,
     "metadata": {},
     "output_type": "execute_result"
    }
   ],
   "source": [
    "pd.DataFrame(user_info['new_user'].value_counts())"
   ]
  },
  {
   "cell_type": "code",
   "execution_count": 34,
   "metadata": {},
   "outputs": [
    {
     "data": {
      "image/png": "[encoded data removed]",
      "text/plain": [
       "<Figure size 432x288 with 1 Axes>"
      ]
     },
     "metadata": {},
     "output_type": "display_data"
    }
   ],
   "source": [
    "new_user=pd.DataFrame(user_info['new_user'].value_counts())\n",
    "\n",
    "sns.barplot(x=new_user.index,y=new_user.new_user)\n",
    "plt.xlabel('用户新老')\n",
    "plt.ylabel('数量')\n",
    "plt.show()"
   ]
  },
  {
   "cell_type": "code",
   "execution_count": 35,
   "metadata": {},
   "outputs": [
    {
     "data": {
      "image/png": "[encoded data removed]",
      "text/plain": [
       "<Figure size 360x288 with 1 Axes>"
      ]
     },
     "metadata": {},
     "output_type": "display_data"
    }
   ],
   "source": [
    "plt.figure(figsize=(5, 4))\n",
    "\n",
    "new_user=pd.DataFrame(user_info['new_user'].value_counts().reset_index(name='counts'))\n",
    "\n",
    "g =sns.barplot(x='index',y='counts',data=new_user)\n",
    "\n",
    "for index, row in new_user.iterrows():\n",
    "    g.text(row.name,row.counts,row.counts,color='black', ha=\"center\")\n",
    "    \n",
    "plt.xlabel('用户新老')\n",
    "plt.ylabel('数量')\n",
    "plt.show()"
   ]
  },
  {
   "cell_type": "code",
   "execution_count": 36,
   "metadata": {},
   "outputs": [
    {
     "data": {
      "image/png": "[encoded data removed]",
      "text/plain": [
       "<Figure size 432x288 with 1 Axes>"
      ]
     },
     "metadata": {},
     "output_type": "display_data"
    }
   ],
   "source": [
    "new_user=pd.DataFrame(user_info['new_user'].value_counts())\n",
    "\n",
    "labels = new_user.index\n",
    "sizes = new_user.values\n",
    "colors = ['green','c','gray','beige','darkkhaki','fuchsia']\n",
    "\n",
    "explode = (0.05,0)\n",
    "sizes = sizes[:,0]\n",
    "patches,l_text,p_text = plt.pie(sizes,explode=explode,labels=labels,colors=colors,\n",
    "                                labeldistance=1.1,autopct='%2.0f%%',shadow=False,startangle=90,pctdistance=0.6)\n",
    "for t in l_text:\n",
    "    t.set_size = 30\n",
    "for t in p_text:\n",
    "    t.set_size = 20\n",
    "    \n",
    "plt.axis('equal')\n",
    "plt.legend(loc='upper right', bbox_to_anchor=(-0.1, 1))\n",
    "plt.grid()\n",
    "plt.show()"
   ]
  },
  {
   "cell_type": "markdown",
   "metadata": {},
   "source": [
    "**<font color=black size=3 face=雅黑>2.4.2 age</font>**"
   ]
  },
  {
   "cell_type": "code",
   "execution_count": 37,
   "metadata": {},
   "outputs": [
    {
     "data": {
      "text/plain": [
       "array([ 17,  27,  24,  21,  29,  28,  25,  22,  32,  31,  30,  23,  19,\n",
       "        18,  35,  33,  20,  46,  42,  41,  39,  38,  34,  26,  45,  37,\n",
       "        36,  51,  48,  44,  43,  40,  47,  52,  50,  49,  58,  54,  53,\n",
       "        61,  55,  62,  60,  57,  56,  59,  66,  64, 123,  63, 109,  67,\n",
       "        65], dtype=int64)"
      ]
     },
     "execution_count": 37,
     "metadata": {},
     "output_type": "execute_result"
    }
   ],
   "source": [
    "user_info['age'].unique()"
   ]
  },
  {
   "cell_type": "code",
   "execution_count": 38,
   "metadata": {},
   "outputs": [
    {
     "name": "stdout",
     "output_type": "stream",
     "text": [
      "[123, 109, 67, 66, 65, 64, 63, 62, 61, 60, 59, 58, 57, 56, 55, 54, 53, 52, 51, 50, 49, 48, 47, 46, 45, 44, 43, 42, 41, 40, 39, 38, 37, 36, 35, 34, 33, 32, 31, 30, 29, 28, 27, 26, 25, 24, 23, 22, 21, 20, 19, 18, 17]\n"
     ]
    }
   ],
   "source": [
    "print(sorted(user_info['age'].unique(),reverse=True))"
   ]
  },
  {
   "cell_type": "code",
   "execution_count": 39,
   "metadata": {},
   "outputs": [
    {
     "data": {
      "image/png": "[encoded data removed]",
      "text/plain": [
       "<Figure size 432x288 with 1 Axes>"
      ]
     },
     "metadata": {},
     "output_type": "display_data"
    }
   ],
   "source": [
    "#age:因为age变量个数比较多，是连续型数值变量，所有可以用直方图展示\n",
    "sns.distplot(user_info['age'])\n",
    "plt.show()"
   ]
  },
  {
   "cell_type": "markdown",
   "metadata": {},
   "source": [
    "**<font color=black size=3 face=雅黑>2.4.3 sex性别 </font>**"
   ]
  },
  {
   "cell_type": "code",
   "execution_count": 40,
   "metadata": {},
   "outputs": [
    {
     "data": {
      "image/png": "[encoded data removed]",
      "text/plain": [
       "<Figure size 360x288 with 1 Axes>"
      ]
     },
     "metadata": {},
     "output_type": "display_data"
    }
   ],
   "source": [
    "plt.figure(figsize=(5, 4))\n",
    "\n",
    "sex=pd.DataFrame(user_info['sex'].value_counts().reset_index(name='counts'))\n",
    "\n",
    "g =sns.barplot(x='index',y='counts',data=sex)\n",
    "\n",
    "for index, row in sex.iterrows():\n",
    "    g.text(row.name,row.counts,row.counts,color='black', ha=\"center\")\n",
    "    \n",
    "plt.xlabel('用户性别')\n",
    "plt.ylabel('数量')\n",
    "plt.show()"
   ]
  },
  {
   "cell_type": "code",
   "execution_count": 41,
   "metadata": {},
   "outputs": [
    {
     "data": {
      "image/png": "[encoded data removed]",
      "text/plain": [
       "<Figure size 432x288 with 1 Axes>"
      ]
     },
     "metadata": {},
     "output_type": "display_data"
    }
   ],
   "source": [
    "sex=pd.DataFrame(user_info['sex'].value_counts())\n",
    "\n",
    "labels = sex.index\n",
    "sizes = sex.values\n",
    "colors = ['green','c','gray','beige','darkkhaki','fuchsia']\n",
    "\n",
    "explode = (0.05,0)\n",
    "sizes = sizes[:,0]\n",
    "patches,l_text,p_text = plt.pie(sizes,explode=explode,labels=labels,colors=colors,\n",
    "                                labeldistance=1.1,autopct='%2.0f%%',shadow=False,startangle=90,pctdistance=0.6)\n",
    "for t in l_text:\n",
    "    t.set_size = 30\n",
    "for t in p_text:\n",
    "    t.set_size = 20\n",
    "    \n",
    "plt.axis('equal')\n",
    "plt.legend(loc='upper right', bbox_to_anchor=(-0.1, 1))\n",
    "plt.grid()\n",
    "plt.show()"
   ]
  },
  {
   "cell_type": "markdown",
   "metadata": {},
   "source": [
    "**<font color=black size=3 face=雅黑>2.4.4 country </font>**"
   ]
  },
  {
   "cell_type": "code",
   "execution_count": 42,
   "metadata": {},
   "outputs": [
    {
     "data": {
      "image/png": "[encoded data removed]",
      "text/plain": [
       "<Figure size 360x288 with 1 Axes>"
      ]
     },
     "metadata": {},
     "output_type": "display_data"
    }
   ],
   "source": [
    "plt.figure(figsize=(5, 4))\n",
    "\n",
    "country=pd.DataFrame(user_info['country'].value_counts().reset_index(name='counts'))\n",
    "\n",
    "g =sns.barplot(x='index',y='counts',data=country)\n",
    "\n",
    "for index, row in country.iterrows():\n",
    "    g.text(row.name,row.counts,row.counts,color='black', ha=\"center\")\n",
    "    \n",
    "plt.xlabel('用户国家')\n",
    "plt.ylabel('数量')\n",
    "plt.show()"
   ]
  },
  {
   "cell_type": "code",
   "execution_count": 45,
   "metadata": {},
   "outputs": [
    {
     "data": {
      "image/png": "[encoded data removed]",
      "text/plain": [
       "<Figure size 432x288 with 1 Axes>"
      ]
     },
     "metadata": {},
     "output_type": "display_data"
    }
   ],
   "source": [
    "country=pd.DataFrame(user_info['country'].value_counts())\n",
    "\n",
    "labels = country.index\n",
    "sizes = country.values\n",
    "colors = ['green','c','gray','beige','darkkhaki','fuchsia']\n",
    "\n",
    "explode = (0.05, 0, 0, 0)\n",
    "sizes = sizes[:,0]\n",
    "patches,l_text,p_text = plt.pie(sizes,explode=explode,labels=labels,colors=colors,\n",
    "                                labeldistance=1.1,autopct='%2.0f%%',shadow=False,startangle=90,pctdistance=0.6)\n",
    "for t in l_text:\n",
    "    t.set_size = 30\n",
    "for t in p_text:\n",
    "    t.set_size = 20\n",
    "    \n",
    "plt.axis('equal')\n",
    "plt.legend(loc='upper right', bbox_to_anchor=(-0.1, 1))\n",
    "plt.grid()\n",
    "plt.show()"
   ]
  },
  {
   "cell_type": "markdown",
   "metadata": {},
   "source": [
    "**<font color=black size=3 face=雅黑>2.4.5 device </font>**"
   ]
  },
  {
   "cell_type": "code",
   "execution_count": 46,
   "metadata": {},
   "outputs": [
    {
     "data": {
      "image/png": "[encoded data removed]",
      "text/plain": [
       "<Figure size 360x288 with 1 Axes>"
      ]
     },
     "metadata": {},
     "output_type": "display_data"
    }
   ],
   "source": [
    "plt.figure(figsize=(5, 4))\n",
    "\n",
    "device=pd.DataFrame(user_info['device'].value_counts().reset_index(name='counts'))\n",
    "\n",
    "g =sns.barplot(x='index',y='counts',data=device)\n",
    "\n",
    "for index, row in device.iterrows():\n",
    "    g.text(row.name,row.counts,row.counts,color='black', ha=\"center\")\n",
    "    \n",
    "plt.xlabel('用户设备')\n",
    "plt.ylabel('数量')\n",
    "plt.show()"
   ]
  },
  {
   "cell_type": "code",
   "execution_count": 48,
   "metadata": {},
   "outputs": [
    {
     "data": {
      "image/png": "[encoded data removed]",
      "text/plain": [
       "<Figure size 432x288 with 1 Axes>"
      ]
     },
     "metadata": {},
     "output_type": "display_data"
    }
   ],
   "source": [
    "device=pd.DataFrame(user_info['device'].value_counts())\n",
    "\n",
    "labels = device.index\n",
    "sizes = device.values\n",
    "colors = ['green','c','gray','beige','darkkhaki','fuchsia']\n",
    "\n",
    "explode = (0.05,0)\n",
    "\n",
    "sizes = sizes[:,0]\n",
    "patches,l_text,p_text = plt.pie(sizes,explode=explode,labels=labels,colors=colors,\n",
    "                                labeldistance=1.1,autopct='%2.0f%%',shadow=False,startangle=90,pctdistance=0.6)\n",
    "for t in l_text:\n",
    "    t.set_size = 30\n",
    "for t in p_text:\n",
    "    t.set_size = 20\n",
    "    \n",
    "plt.axis('equal')\n",
    "plt.legend(loc='upper right', bbox_to_anchor=(-0.1, 1))\n",
    "plt.grid()\n",
    "plt.show()"
   ]
  },
  {
   "cell_type": "markdown",
   "metadata": {},
   "source": [
    "**<font color=black size=3 face=雅黑>2.4.6 operative_system </font>**"
   ]
  },
  {
   "cell_type": "code",
   "execution_count": 59,
   "metadata": {},
   "outputs": [
    {
     "data": {
      "image/png": "[encoded data removed]",
      "text/plain": [
       "<Figure size 360x288 with 1 Axes>"
      ]
     },
     "metadata": {
      "needs_background": "light"
     },
     "output_type": "display_data"
    }
   ],
   "source": [
    "plt.figure(figsize=(5, 4))\n",
    "\n",
    "operative_system=pd.DataFrame(user_info['operative_system'].value_counts().reset_index(name='counts'))\n",
    "\n",
    "g =sns.barplot(x='index',y='counts',data=operative_system)\n",
    "\n",
    "for index, row in operative_system.iterrows():\n",
    "    g.text(row.name,row.counts,row.counts,color='black', ha=\"center\")\n",
    "    \n",
    "plt.xlabel('用户操作系统')\n",
    "plt.ylabel('数量')\n",
    "plt.show()"
   ]
  },
  {
   "cell_type": "code",
   "execution_count": 49,
   "metadata": {},
   "outputs": [
    {
     "data": {
      "image/png": "[encoded data removed]",
      "text/plain": [
       "<Figure size 432x288 with 1 Axes>"
      ]
     },
     "metadata": {},
     "output_type": "display_data"
    }
   ],
   "source": [
    "operative_system=pd.DataFrame(user_info['operative_system'].value_counts())\n",
    "\n",
    "labels = operative_system.index\n",
    "sizes = operative_system.values\n",
    "colors = ['blue', 'green','c','gray','beige','darkkhaki','fuchsia']\n",
    "\n",
    "explode = (0.05,0,0,0,0,0)\n",
    "sizes = sizes[:,0]\n",
    "patches,l_text,p_text = plt.pie(sizes,explode=explode,labels=labels,colors=colors,\n",
    "                                labeldistance=1.1,autopct='%2.0f%%',shadow=False,startangle=90,pctdistance=0.6)\n",
    "for t in l_text:\n",
    "    t.set_size = 30\n",
    "for t in p_text:\n",
    "    t.set_size = 20\n",
    "    \n",
    "plt.axis('equal')\n",
    "plt.legend(loc='upper right', bbox_to_anchor=(-0.1, 1))\n",
    "plt.grid()\n",
    "plt.show()"
   ]
  },
  {
   "cell_type": "markdown",
   "metadata": {},
   "source": [
    "**<font color=black size=3 face=雅黑>2.4.7 source </font>**"
   ]
  },
  {
   "cell_type": "code",
   "execution_count": 50,
   "metadata": {},
   "outputs": [
    {
     "data": {
      "image/png": "[encoded data removed]",
      "text/plain": [
       "<Figure size 360x288 with 1 Axes>"
      ]
     },
     "metadata": {},
     "output_type": "display_data"
    }
   ],
   "source": [
    "plt.figure(figsize=(5, 4))\n",
    "\n",
    "source=pd.DataFrame(user_info['source'].value_counts().reset_index(name='counts'))\n",
    "\n",
    "g =sns.barplot(x='index',y='counts',data=source)\n",
    "\n",
    "for index, row in source.iterrows():\n",
    "    g.text(row.name,row.counts,row.counts,color='black', ha=\"center\")\n",
    "    \n",
    "plt.xlabel('用户来源')\n",
    "plt.ylabel('数量')\n",
    "plt.show()"
   ]
  },
  {
   "cell_type": "code",
   "execution_count": null,
   "metadata": {},
   "outputs": [],
   "source": []
  },
  {
   "cell_type": "code",
   "execution_count": 55,
   "metadata": {},
   "outputs": [
    {
     "data": {
      "image/png": "[encoded data removed]",
      "text/plain": [
       "<Figure size 432x288 with 1 Axes>"
      ]
     },
     "metadata": {},
     "output_type": "display_data"
    }
   ],
   "source": [
    "source=pd.DataFrame(user_info['source'].value_counts())\n",
    "\n",
    "labels = source.index\n",
    "sizes = source.values\n",
    "colors = ['green','c','gray','beige','darkkhaki','fuchsia']\n",
    "\n",
    "explode = (0.05,0,0)\n",
    "sizes = sizes[:,0]\n",
    "patches,l_text,p_text = plt.pie(sizes,explode=explode,labels=labels,colors=colors,\n",
    "                                labeldistance=1.1,autopct='%2.0f%%',shadow=False,startangle=90,pctdistance=0.6)\n",
    "for t in l_text:\n",
    "    t.set_size = 30\n",
    "for t in p_text:\n",
    "    t.set_size = 20\n",
    "    \n",
    "plt.axis('equal')\n",
    "plt.legend(loc='upper right', bbox_to_anchor=(-0.1, 1))\n",
    "plt.grid()\n",
    "plt.show()"
   ]
  },
  {
   "cell_type": "markdown",
   "metadata": {},
   "source": [
    "**<font color=black size=3 face=雅黑>2.4.8 total_pages_visited</font>**"
   ]
  },
  {
   "cell_type": "code",
   "execution_count": 52,
   "metadata": {},
   "outputs": [
    {
     "data": {
      "text/plain": [
       "array([ 3,  5,  4,  6,  2,  8,  7,  9, 14, 10, 11,  1, 18, 15, 19, 12, 13,\n",
       "       21, 17, 20, 23, 16, 25, 26, 24, 22, 27, 28], dtype=int64)"
      ]
     },
     "execution_count": 52,
     "metadata": {},
     "output_type": "execute_result"
    }
   ],
   "source": [
    "user_info['total_pages_visited'].unique()"
   ]
  },
  {
   "cell_type": "code",
   "execution_count": 53,
   "metadata": {},
   "outputs": [
    {
     "name": "stdout",
     "output_type": "stream",
     "text": [
      "[1, 2, 3, 4, 5, 6, 7, 8, 9, 10, 11, 12, 13, 14, 15, 16, 17, 18, 19, 20, 21, 22, 23, 24, 25, 26, 27, 28]\n"
     ]
    }
   ],
   "source": [
    "print(sorted(user_info['total_pages_visited'].unique(),reverse=False))"
   ]
  },
  {
   "cell_type": "code",
   "execution_count": 54,
   "metadata": {},
   "outputs": [
    {
     "data": {
      "image/png": "[encoded data removed]",
      "text/plain": [
       "<Figure size 432x288 with 1 Axes>"
      ]
     },
     "metadata": {},
     "output_type": "display_data"
    }
   ],
   "source": [
    "sns.distplot(user_info['total_pages_visited'])\n",
    "plt.show()"
   ]
  },
  {
   "cell_type": "markdown",
   "metadata": {},
   "source": [
    "**<font color=black size=4.5 face=雅黑> 3.Data Processing 数据处理阶段</font>**\n",
    "\n",
    "数据处理阶段：针对异常值，缺失值进行处理"
   ]
  },
  {
   "cell_type": "markdown",
   "metadata": {},
   "source": [
    "**<font color=black size=4 face=雅黑> 3.1 Outlier 异常值 </font>**\n",
    "\n",
    "异常值主要针对数值型变量age，total_page_visited, new_user\n",
    "其中new_user实则为分类型变量，因此异常值仅针对age和total_page_visited去查找"
   ]
  },
  {
   "cell_type": "code",
   "execution_count": 56,
   "metadata": {},
   "outputs": [
    {
     "data": {
      "image/png": "[encoded data removed]",
      "text/plain": [
       "<Figure size 432x288 with 1 Axes>"
      ]
     },
     "metadata": {},
     "output_type": "display_data"
    }
   ],
   "source": [
    "#age和total_pages_visited的箱型图\n",
    "boxplot = user_info.boxplot(column=['age', 'total_pages_visited'])"
   ]
  },
  {
   "cell_type": "markdown",
   "metadata": {},
   "source": [
    "异常值的处理要结合实际数据来，在箱线图中显示异常的值不一定真的不合理"
   ]
  },
  {
   "cell_type": "code",
   "execution_count": 57,
   "metadata": {},
   "outputs": [
    {
     "data": {
      "text/plain": [
       "123"
      ]
     },
     "execution_count": 57,
     "metadata": {},
     "output_type": "execute_result"
    }
   ],
   "source": [
    "#查看age的异常值是否其实合理\n",
    "user_info['age'].max()"
   ]
  },
  {
   "cell_type": "code",
   "execution_count": 58,
   "metadata": {},
   "outputs": [
    {
     "name": "stdout",
     "output_type": "stream",
     "text": [
      "[123, 109, 67, 66, 65, 64, 63, 62, 61, 60, 59, 58, 57, 56, 55, 54, 53, 52, 51, 50, 49, 48, 47, 46, 45, 44, 43, 42, 41, 40, 39, 38, 37, 36, 35, 34, 33, 32, 31, 30, 29, 28, 27, 26, 25, 24, 23, 22, 21, 20, 19, 18, 17]\n"
     ]
    }
   ],
   "source": [
    "print(sorted(user_info['age'].unique(),reverse=True))"
   ]
  },
  {
   "cell_type": "code",
   "execution_count": 59,
   "metadata": {},
   "outputs": [],
   "source": [
    "#删除两个异常值\n",
    "user_info = user_info[user_info['age']<100]"
   ]
  },
  {
   "cell_type": "markdown",
   "metadata": {},
   "source": [
    "**<font color=black size=4 face=雅黑> 3.2 Missing Value 缺失值处理 </font>**\n",
    "\n",
    "填补缺失值的方法：\n",
    "* 删除法：如果缺失值比例较低，可以直接删除。\n",
    "* 根据数据分布：填入众数，平均数，中位数。\n",
    "* 建模"
   ]
  },
  {
   "cell_type": "code",
   "execution_count": 60,
   "metadata": {},
   "outputs": [
    {
     "data": {
      "text/plain": [
       "user_id                  0\n",
       "new_user                 0\n",
       "age                      0\n",
       "sex                    773\n",
       "country                 61\n",
       "device                 133\n",
       "operative_system       217\n",
       "source                 123\n",
       "total_pages_visited      0\n",
       "dtype: int64"
      ]
     },
     "execution_count": 60,
     "metadata": {},
     "output_type": "execute_result"
    }
   ],
   "source": [
    "#查看缺失值个数\n",
    "user_info.isnull().sum()"
   ]
  },
  {
   "cell_type": "markdown",
   "metadata": {},
   "source": [
    "**<font color=black size=4 face=雅黑> 3.2.1 缺失值:country </font>**\n",
    "\n",
    "* 因为缺失值较少，可以直接删除或直接填入众数"
   ]
  },
  {
   "cell_type": "code",
   "execution_count": 61,
   "metadata": {},
   "outputs": [
    {
     "data": {
      "text/plain": [
       "'US'"
      ]
     },
     "execution_count": 61,
     "metadata": {},
     "output_type": "execute_result"
    }
   ],
   "source": [
    "user_info['country'].mode()[0]"
   ]
  },
  {
   "cell_type": "code",
   "execution_count": 62,
   "metadata": {},
   "outputs": [],
   "source": [
    "user_info['country'].fillna(user_info['country'].mode()[0], inplace=True)"
   ]
  },
  {
   "cell_type": "code",
   "execution_count": 63,
   "metadata": {},
   "outputs": [
    {
     "data": {
      "text/plain": [
       "user_id                  0\n",
       "new_user                 0\n",
       "age                      0\n",
       "sex                    773\n",
       "country                  0\n",
       "device                 133\n",
       "operative_system       217\n",
       "source                 123\n",
       "total_pages_visited      0\n",
       "dtype: int64"
      ]
     },
     "execution_count": 63,
     "metadata": {},
     "output_type": "execute_result"
    }
   ],
   "source": [
    "user_info.isnull().sum()"
   ]
  },
  {
   "cell_type": "markdown",
   "metadata": {},
   "source": [
    "**<font color=black size=4 face=雅黑> 3.2.2 缺失值:source </font>**\n",
    "\n",
    "* 因为缺失值较少，可以直接删除或直接填入众数\n",
    "* 根据其他已知数据的分布来填补\n",
    "* source猜想跟new_user有关"
   ]
  },
  {
   "cell_type": "code",
   "execution_count": 64,
   "metadata": {},
   "outputs": [],
   "source": [
    "#创建一个没有缺失值的新数据集去看规律\n",
    "\n",
    "#dropna()默认为axis=0:删除含有缺失值的每行数据，axis=1:删除含有缺失值的每列数据\n",
    "user_full=user_info.dropna()"
   ]
  },
  {
   "cell_type": "code",
   "execution_count": 65,
   "metadata": {},
   "outputs": [
    {
     "data": {
      "text/plain": [
       "new_user  source\n",
       "0         Ads        4362\n",
       "          Direct    49046\n",
       "          Seo        8276\n",
       "1         Ads        8826\n",
       "          Direct     2227\n",
       "          Seo       16419\n",
       "Name: user_id, dtype: int64"
      ]
     },
     "execution_count": 65,
     "metadata": {},
     "output_type": "execute_result"
    }
   ],
   "source": [
    "user_full.groupby(['new_user','source'])['user_id'].count()"
   ]
  },
  {
   "cell_type": "markdown",
   "metadata": {},
   "source": [
    "老用户主要来源于direct,新用户主要来源于Seo"
   ]
  },
  {
   "cell_type": "code",
   "execution_count": 66,
   "metadata": {},
   "outputs": [],
   "source": [
    "#当用户为新用户，source缺失值填补Seo\n",
    "\n",
    "user_info['source']=np.where((user_info['source'].isnull())&(user_info['new_user']==1),\n",
    "         'Seo',user_info['source'])"
   ]
  },
  {
   "cell_type": "code",
   "execution_count": 67,
   "metadata": {},
   "outputs": [],
   "source": [
    "#当用户为老用户，source缺失值填补direct\n",
    "user_info['source'].fillna('Direct',inplace=True)"
   ]
  },
  {
   "cell_type": "code",
   "execution_count": 68,
   "metadata": {},
   "outputs": [
    {
     "data": {
      "text/plain": [
       "user_id                  0\n",
       "new_user                 0\n",
       "age                      0\n",
       "sex                    773\n",
       "country                  0\n",
       "device                 133\n",
       "operative_system       217\n",
       "source                   0\n",
       "total_pages_visited      0\n",
       "dtype: int64"
      ]
     },
     "execution_count": 68,
     "metadata": {},
     "output_type": "execute_result"
    }
   ],
   "source": [
    "user_info.isnull().sum()"
   ]
  },
  {
   "cell_type": "markdown",
   "metadata": {},
   "source": [
    "**<font color=black size=4 face=雅黑> 3.2.3 缺失值:device </font>**"
   ]
  },
  {
   "cell_type": "code",
   "execution_count": 69,
   "metadata": {},
   "outputs": [],
   "source": [
    "#操作系统为mac,windows,linux 设备为desktop\n",
    "\n",
    "user_info['device']=np.where((user_info['device'].isnull())&(user_info['operative_system'].isin(['mac','windows','linux'])),\n",
    "         'desktop',user_info['device'])"
   ]
  },
  {
   "cell_type": "code",
   "execution_count": 70,
   "metadata": {},
   "outputs": [],
   "source": [
    "#操作系统为ios,android 设备为mobile \n",
    "user_info['device']=np.where((user_info['device'].isnull())&(user_info['operative_system'].isin(['iOS','android'])),\n",
    "         'mobile',user_info['device'])"
   ]
  },
  {
   "cell_type": "code",
   "execution_count": 71,
   "metadata": {},
   "outputs": [
    {
     "data": {
      "text/plain": [
       "user_id                  0\n",
       "new_user                 0\n",
       "age                      0\n",
       "sex                    773\n",
       "country                  0\n",
       "device                  11\n",
       "operative_system       217\n",
       "source                   0\n",
       "total_pages_visited      0\n",
       "dtype: int64"
      ]
     },
     "execution_count": 71,
     "metadata": {},
     "output_type": "execute_result"
    }
   ],
   "source": [
    "user_info.isnull().sum()"
   ]
  },
  {
   "cell_type": "code",
   "execution_count": 72,
   "metadata": {},
   "outputs": [
    {
     "data": {
      "text/html": [
       "<div>\n",
       "<style scoped>\n",
       "    .dataframe tbody tr th:only-of-type {\n",
       "        vertical-align: middle;\n",
       "    }\n",
       "\n",
       "    .dataframe tbody tr th {\n",
       "        vertical-align: top;\n",
       "    }\n",
       "\n",
       "    .dataframe thead th {\n",
       "        text-align: right;\n",
       "    }\n",
       "</style>\n",
       "<table border=\"1\" class=\"dataframe\">\n",
       "  <thead>\n",
       "    <tr style=\"text-align: right;\">\n",
       "      <th></th>\n",
       "      <th>user_id</th>\n",
       "      <th>new_user</th>\n",
       "      <th>age</th>\n",
       "      <th>sex</th>\n",
       "      <th>country</th>\n",
       "      <th>device</th>\n",
       "      <th>operative_system</th>\n",
       "      <th>source</th>\n",
       "      <th>total_pages_visited</th>\n",
       "    </tr>\n",
       "  </thead>\n",
       "  <tbody>\n",
       "    <tr>\n",
       "      <th>8502</th>\n",
       "      <td>561375</td>\n",
       "      <td>1</td>\n",
       "      <td>36</td>\n",
       "      <td>Female</td>\n",
       "      <td>China</td>\n",
       "      <td>NaN</td>\n",
       "      <td>NaN</td>\n",
       "      <td>Ads</td>\n",
       "      <td>1</td>\n",
       "    </tr>\n",
       "    <tr>\n",
       "      <th>12227</th>\n",
       "      <td>252135</td>\n",
       "      <td>0</td>\n",
       "      <td>37</td>\n",
       "      <td>Female</td>\n",
       "      <td>China</td>\n",
       "      <td>NaN</td>\n",
       "      <td>NaN</td>\n",
       "      <td>Direct</td>\n",
       "      <td>6</td>\n",
       "    </tr>\n",
       "    <tr>\n",
       "      <th>17597</th>\n",
       "      <td>251157</td>\n",
       "      <td>1</td>\n",
       "      <td>37</td>\n",
       "      <td>Female</td>\n",
       "      <td>US</td>\n",
       "      <td>NaN</td>\n",
       "      <td>other</td>\n",
       "      <td>Ads</td>\n",
       "      <td>2</td>\n",
       "    </tr>\n",
       "    <tr>\n",
       "      <th>24241</th>\n",
       "      <td>602831</td>\n",
       "      <td>0</td>\n",
       "      <td>39</td>\n",
       "      <td>Female</td>\n",
       "      <td>China</td>\n",
       "      <td>NaN</td>\n",
       "      <td>NaN</td>\n",
       "      <td>Seo</td>\n",
       "      <td>4</td>\n",
       "    </tr>\n",
       "    <tr>\n",
       "      <th>27673</th>\n",
       "      <td>265247</td>\n",
       "      <td>1</td>\n",
       "      <td>29</td>\n",
       "      <td>Female</td>\n",
       "      <td>Germany</td>\n",
       "      <td>NaN</td>\n",
       "      <td>other</td>\n",
       "      <td>Seo</td>\n",
       "      <td>4</td>\n",
       "    </tr>\n",
       "    <tr>\n",
       "      <th>33022</th>\n",
       "      <td>190794</td>\n",
       "      <td>0</td>\n",
       "      <td>39</td>\n",
       "      <td>Female</td>\n",
       "      <td>China</td>\n",
       "      <td>NaN</td>\n",
       "      <td>NaN</td>\n",
       "      <td>Seo</td>\n",
       "      <td>6</td>\n",
       "    </tr>\n",
       "    <tr>\n",
       "      <th>41410</th>\n",
       "      <td>449090</td>\n",
       "      <td>0</td>\n",
       "      <td>18</td>\n",
       "      <td>Female</td>\n",
       "      <td>China</td>\n",
       "      <td>NaN</td>\n",
       "      <td>other</td>\n",
       "      <td>Direct</td>\n",
       "      <td>6</td>\n",
       "    </tr>\n",
       "    <tr>\n",
       "      <th>43294</th>\n",
       "      <td>608421</td>\n",
       "      <td>1</td>\n",
       "      <td>41</td>\n",
       "      <td>Female</td>\n",
       "      <td>US</td>\n",
       "      <td>NaN</td>\n",
       "      <td>other</td>\n",
       "      <td>Ads</td>\n",
       "      <td>8</td>\n",
       "    </tr>\n",
       "    <tr>\n",
       "      <th>43711</th>\n",
       "      <td>996089</td>\n",
       "      <td>0</td>\n",
       "      <td>39</td>\n",
       "      <td>Female</td>\n",
       "      <td>US</td>\n",
       "      <td>NaN</td>\n",
       "      <td>other</td>\n",
       "      <td>Direct</td>\n",
       "      <td>3</td>\n",
       "    </tr>\n",
       "    <tr>\n",
       "      <th>44003</th>\n",
       "      <td>763064</td>\n",
       "      <td>0</td>\n",
       "      <td>38</td>\n",
       "      <td>Female</td>\n",
       "      <td>China</td>\n",
       "      <td>NaN</td>\n",
       "      <td>other</td>\n",
       "      <td>Direct</td>\n",
       "      <td>6</td>\n",
       "    </tr>\n",
       "    <tr>\n",
       "      <th>75548</th>\n",
       "      <td>968791</td>\n",
       "      <td>0</td>\n",
       "      <td>25</td>\n",
       "      <td>Female</td>\n",
       "      <td>US</td>\n",
       "      <td>NaN</td>\n",
       "      <td>other</td>\n",
       "      <td>Direct</td>\n",
       "      <td>4</td>\n",
       "    </tr>\n",
       "  </tbody>\n",
       "</table>\n",
       "</div>"
      ],
      "text/plain": [
       "       user_id  new_user  age     sex  country device operative_system  \\\n",
       "8502    561375         1   36  Female    China    NaN              NaN   \n",
       "12227   252135         0   37  Female    China    NaN              NaN   \n",
       "17597   251157         1   37  Female       US    NaN            other   \n",
       "24241   602831         0   39  Female    China    NaN              NaN   \n",
       "27673   265247         1   29  Female  Germany    NaN            other   \n",
       "33022   190794         0   39  Female    China    NaN              NaN   \n",
       "41410   449090         0   18  Female    China    NaN            other   \n",
       "43294   608421         1   41  Female       US    NaN            other   \n",
       "43711   996089         0   39  Female       US    NaN            other   \n",
       "44003   763064         0   38  Female    China    NaN            other   \n",
       "75548   968791         0   25  Female       US    NaN            other   \n",
       "\n",
       "       source  total_pages_visited  \n",
       "8502      Ads                    1  \n",
       "12227  Direct                    6  \n",
       "17597     Ads                    2  \n",
       "24241     Seo                    4  \n",
       "27673     Seo                    4  \n",
       "33022     Seo                    6  \n",
       "41410  Direct                    6  \n",
       "43294     Ads                    8  \n",
       "43711  Direct                    3  \n",
       "44003  Direct                    6  \n",
       "75548  Direct                    4  "
      ]
     },
     "execution_count": 72,
     "metadata": {},
     "output_type": "execute_result"
    }
   ],
   "source": [
    "user_info[user_info['device'].isnull()]"
   ]
  },
  {
   "cell_type": "code",
   "execution_count": 73,
   "metadata": {},
   "outputs": [
    {
     "data": {
      "text/plain": [
       "mobile     53147\n",
       "desktop    37240\n",
       "Name: device, dtype: int64"
      ]
     },
     "execution_count": 73,
     "metadata": {},
     "output_type": "execute_result"
    }
   ],
   "source": [
    "user_info['device'].value_counts()"
   ]
  },
  {
   "cell_type": "code",
   "execution_count": 74,
   "metadata": {},
   "outputs": [],
   "source": [
    "#用众数填补剩余device缺失值\n",
    "user_info['device'].fillna(user_info['device'].mode()[0], inplace=True)"
   ]
  },
  {
   "cell_type": "code",
   "execution_count": 75,
   "metadata": {},
   "outputs": [
    {
     "data": {
      "text/plain": [
       "user_id                  0\n",
       "new_user                 0\n",
       "age                      0\n",
       "sex                    773\n",
       "country                  0\n",
       "device                   0\n",
       "operative_system       217\n",
       "source                   0\n",
       "total_pages_visited      0\n",
       "dtype: int64"
      ]
     },
     "execution_count": 75,
     "metadata": {},
     "output_type": "execute_result"
    }
   ],
   "source": [
    "user_info.isnull().sum()"
   ]
  },
  {
   "cell_type": "markdown",
   "metadata": {},
   "source": [
    "**<font color=black size=4 face=雅黑> 3.2.4 缺失值:operative_system </font>**"
   ]
  },
  {
   "cell_type": "code",
   "execution_count": 76,
   "metadata": {},
   "outputs": [
    {
     "data": {
      "text/plain": [
       "device   operative_system\n",
       "desktop  linux                1121\n",
       "         mac                  7143\n",
       "         other                  38\n",
       "         windows             28411\n",
       "mobile   android             21117\n",
       "         iOS                 26955\n",
       "         other                4371\n",
       "Name: user_id, dtype: int64"
      ]
     },
     "execution_count": 76,
     "metadata": {},
     "output_type": "execute_result"
    }
   ],
   "source": [
    "user_full.groupby(['device','operative_system'])['user_id'].count()"
   ]
  },
  {
   "cell_type": "markdown",
   "metadata": {},
   "source": [
    "mobile主要操作系统是ios, desktop主要操作系统是windows"
   ]
  },
  {
   "cell_type": "code",
   "execution_count": 77,
   "metadata": {},
   "outputs": [],
   "source": [
    "#操作系统填补为iOS当用户使用的是mobile\n",
    "\n",
    "user_info['operative_system']=np.where((user_info['operative_system'].isnull())&(user_info['device']=='mobile'),\n",
    "         'iOS',user_info['operative_system'])"
   ]
  },
  {
   "cell_type": "code",
   "execution_count": 78,
   "metadata": {},
   "outputs": [],
   "source": [
    "#操作系统填补为windows当用户使用的是desktop\n",
    "\n",
    "user_info['operative_system'].fillna('windows',inplace=True)"
   ]
  },
  {
   "cell_type": "code",
   "execution_count": 79,
   "metadata": {},
   "outputs": [
    {
     "data": {
      "text/plain": [
       "user_id                  0\n",
       "new_user                 0\n",
       "age                      0\n",
       "sex                    773\n",
       "country                  0\n",
       "device                   0\n",
       "operative_system         0\n",
       "source                   0\n",
       "total_pages_visited      0\n",
       "dtype: int64"
      ]
     },
     "execution_count": 79,
     "metadata": {},
     "output_type": "execute_result"
    }
   ],
   "source": [
    "user_info.isnull().sum()"
   ]
  },
  {
   "cell_type": "markdown",
   "metadata": {},
   "source": [
    "**<font color=black size=4 face=雅黑> 3.2.5 缺失值:sex </font>**"
   ]
  },
  {
   "cell_type": "code",
   "execution_count": 80,
   "metadata": {},
   "outputs": [
    {
     "data": {
      "text/plain": [
       "operative_system  sex   \n",
       "android           Female    12982\n",
       "                  Male       8135\n",
       "iOS               Female    16670\n",
       "                  Male      10285\n",
       "linux             Female       84\n",
       "                  Male       1037\n",
       "mac               Female     4437\n",
       "                  Male       2706\n",
       "other             Female     2728\n",
       "                  Male       1681\n",
       "windows           Female    17686\n",
       "                  Male      10725\n",
       "Name: user_id, dtype: int64"
      ]
     },
     "execution_count": 80,
     "metadata": {},
     "output_type": "execute_result"
    }
   ],
   "source": [
    "user_full.groupby(['operative_system','sex'])['user_id'].count()"
   ]
  },
  {
   "cell_type": "markdown",
   "metadata": {},
   "source": [
    "如果是linux系统，可以考虑填入male；其他系统考虑填入female"
   ]
  },
  {
   "cell_type": "code",
   "execution_count": 81,
   "metadata": {},
   "outputs": [],
   "source": [
    "#填sex补缺失值\n",
    "\n",
    "user_info['sex']=np.where((user_info['sex'].isnull())&(user_info['operative_system']=='linux'),\n",
    "         'Male',user_info['sex'])"
   ]
  },
  {
   "cell_type": "code",
   "execution_count": 82,
   "metadata": {},
   "outputs": [],
   "source": [
    "user_info['sex'].fillna('Female',inplace=True)"
   ]
  },
  {
   "cell_type": "code",
   "execution_count": 83,
   "metadata": {},
   "outputs": [
    {
     "data": {
      "text/plain": [
       "user_id                0\n",
       "new_user               0\n",
       "age                    0\n",
       "sex                    0\n",
       "country                0\n",
       "device                 0\n",
       "operative_system       0\n",
       "source                 0\n",
       "total_pages_visited    0\n",
       "dtype: int64"
      ]
     },
     "execution_count": 83,
     "metadata": {},
     "output_type": "execute_result"
    }
   ],
   "source": [
    "user_info.isnull().sum()"
   ]
  },
  {
   "cell_type": "markdown",
   "metadata": {},
   "source": [
    "**<font color=black size=4 face=雅黑>Step3.3: 数据集合并</font>**"
   ]
  },
  {
   "cell_type": "code",
   "execution_count": 84,
   "metadata": {},
   "outputs": [],
   "source": [
    "user_home=pd.read_csv('home_page_table.csv')\n",
    "user_listing=pd.read_csv('listing_page_table.csv')\n",
    "user_product=pd.read_csv('product_page_table.csv')\n",
    "user_payment=pd.read_csv('payment_page_table.csv')\n",
    "user_confirmation=pd.read_csv('payment_confirmation_table.csv')"
   ]
  },
  {
   "cell_type": "code",
   "execution_count": 85,
   "metadata": {},
   "outputs": [],
   "source": [
    "#利用python进行数据分析8.2节：合并数据集 merge\n",
    "\n",
    "user_info=pd.merge(user_info,user_home,on='user_id',how='left')\n",
    "user_info.rename(columns={'page': 'home_page'},inplace=True)"
   ]
  },
  {
   "cell_type": "code",
   "execution_count": 86,
   "metadata": {},
   "outputs": [],
   "source": [
    "user_info=pd.merge(user_info,user_listing,on='user_id',how='left')\n",
    "user_info.rename(columns={'page': 'listing_page'},inplace=True)"
   ]
  },
  {
   "cell_type": "code",
   "execution_count": 87,
   "metadata": {},
   "outputs": [],
   "source": [
    "user_info=pd.merge(user_info,user_product,on='user_id',how='left')\n",
    "user_info.rename(columns={'page': 'product_page'},inplace=True)"
   ]
  },
  {
   "cell_type": "code",
   "execution_count": 88,
   "metadata": {},
   "outputs": [],
   "source": [
    "user_info=pd.merge(user_info,user_payment,on='user_id',how='left')\n",
    "user_info.rename(columns={'page': 'payment_page'},inplace=True)"
   ]
  },
  {
   "cell_type": "code",
   "execution_count": 89,
   "metadata": {},
   "outputs": [],
   "source": [
    "user_info=pd.merge(user_info,user_confirmation,on='user_id',how='left')\n",
    "user_info.rename(columns={'page': 'confirmation_page'},inplace=True)"
   ]
  },
  {
   "cell_type": "code",
   "execution_count": 90,
   "metadata": {},
   "outputs": [
    {
     "data": {
      "text/html": [
       "<div>\n",
       "<style scoped>\n",
       "    .dataframe tbody tr th:only-of-type {\n",
       "        vertical-align: middle;\n",
       "    }\n",
       "\n",
       "    .dataframe tbody tr th {\n",
       "        vertical-align: top;\n",
       "    }\n",
       "\n",
       "    .dataframe thead th {\n",
       "        text-align: right;\n",
       "    }\n",
       "</style>\n",
       "<table border=\"1\" class=\"dataframe\">\n",
       "  <thead>\n",
       "    <tr style=\"text-align: right;\">\n",
       "      <th></th>\n",
       "      <th>user_id</th>\n",
       "      <th>new_user</th>\n",
       "      <th>age</th>\n",
       "      <th>sex</th>\n",
       "      <th>country</th>\n",
       "      <th>device</th>\n",
       "      <th>operative_system</th>\n",
       "      <th>source</th>\n",
       "      <th>total_pages_visited</th>\n",
       "      <th>home_page</th>\n",
       "      <th>listing_page</th>\n",
       "      <th>product_page</th>\n",
       "      <th>payment_page</th>\n",
       "      <th>confirmation_page</th>\n",
       "    </tr>\n",
       "  </thead>\n",
       "  <tbody>\n",
       "    <tr>\n",
       "      <th>0</th>\n",
       "      <td>654951</td>\n",
       "      <td>0</td>\n",
       "      <td>17</td>\n",
       "      <td>Female</td>\n",
       "      <td>US</td>\n",
       "      <td>mobile</td>\n",
       "      <td>android</td>\n",
       "      <td>Direct</td>\n",
       "      <td>3</td>\n",
       "      <td>home_page</td>\n",
       "      <td>listing_page</td>\n",
       "      <td>product_page</td>\n",
       "      <td>NaN</td>\n",
       "      <td>NaN</td>\n",
       "    </tr>\n",
       "    <tr>\n",
       "      <th>1</th>\n",
       "      <td>730619</td>\n",
       "      <td>0</td>\n",
       "      <td>27</td>\n",
       "      <td>Male</td>\n",
       "      <td>UK</td>\n",
       "      <td>mobile</td>\n",
       "      <td>iOS</td>\n",
       "      <td>Direct</td>\n",
       "      <td>5</td>\n",
       "      <td>home_page</td>\n",
       "      <td>NaN</td>\n",
       "      <td>NaN</td>\n",
       "      <td>NaN</td>\n",
       "      <td>NaN</td>\n",
       "    </tr>\n",
       "    <tr>\n",
       "      <th>2</th>\n",
       "      <td>261033</td>\n",
       "      <td>0</td>\n",
       "      <td>24</td>\n",
       "      <td>Female</td>\n",
       "      <td>US</td>\n",
       "      <td>mobile</td>\n",
       "      <td>android</td>\n",
       "      <td>Seo</td>\n",
       "      <td>4</td>\n",
       "      <td>home_page</td>\n",
       "      <td>listing_page</td>\n",
       "      <td>NaN</td>\n",
       "      <td>NaN</td>\n",
       "      <td>NaN</td>\n",
       "    </tr>\n",
       "    <tr>\n",
       "      <th>3</th>\n",
       "      <td>533685</td>\n",
       "      <td>0</td>\n",
       "      <td>21</td>\n",
       "      <td>Male</td>\n",
       "      <td>UK</td>\n",
       "      <td>desktop</td>\n",
       "      <td>windows</td>\n",
       "      <td>Direct</td>\n",
       "      <td>5</td>\n",
       "      <td>home_page</td>\n",
       "      <td>listing_page</td>\n",
       "      <td>product_page</td>\n",
       "      <td>payment_page</td>\n",
       "      <td>NaN</td>\n",
       "    </tr>\n",
       "    <tr>\n",
       "      <th>4</th>\n",
       "      <td>699480</td>\n",
       "      <td>0</td>\n",
       "      <td>17</td>\n",
       "      <td>Male</td>\n",
       "      <td>UK</td>\n",
       "      <td>mobile</td>\n",
       "      <td>iOS</td>\n",
       "      <td>Direct</td>\n",
       "      <td>6</td>\n",
       "      <td>home_page</td>\n",
       "      <td>listing_page</td>\n",
       "      <td>NaN</td>\n",
       "      <td>NaN</td>\n",
       "      <td>NaN</td>\n",
       "    </tr>\n",
       "  </tbody>\n",
       "</table>\n",
       "</div>"
      ],
      "text/plain": [
       "   user_id  new_user  age     sex country   device operative_system  source  \\\n",
       "0   654951         0   17  Female      US   mobile          android  Direct   \n",
       "1   730619         0   27    Male      UK   mobile              iOS  Direct   \n",
       "2   261033         0   24  Female      US   mobile          android     Seo   \n",
       "3   533685         0   21    Male      UK  desktop          windows  Direct   \n",
       "4   699480         0   17    Male      UK   mobile              iOS  Direct   \n",
       "\n",
       "   total_pages_visited  home_page  listing_page  product_page  payment_page  \\\n",
       "0                    3  home_page  listing_page  product_page           NaN   \n",
       "1                    5  home_page           NaN           NaN           NaN   \n",
       "2                    4  home_page  listing_page           NaN           NaN   \n",
       "3                    5  home_page  listing_page  product_page  payment_page   \n",
       "4                    6  home_page  listing_page           NaN           NaN   \n",
       "\n",
       "  confirmation_page  \n",
       "0               NaN  \n",
       "1               NaN  \n",
       "2               NaN  \n",
       "3               NaN  \n",
       "4               NaN  "
      ]
     },
     "execution_count": 90,
     "metadata": {},
     "output_type": "execute_result"
    }
   ],
   "source": [
    "user_info.head()"
   ]
  },
  {
   "cell_type": "code",
   "execution_count": 91,
   "metadata": {},
   "outputs": [],
   "source": [
    "for col in ['home_page','listing_page','product_page','payment_page','confirmation_page']:\n",
    "    user_info[col].fillna(0, inplace=True)"
   ]
  },
  {
   "cell_type": "code",
   "execution_count": 92,
   "metadata": {},
   "outputs": [
    {
     "data": {
      "text/html": [
       "<div>\n",
       "<style scoped>\n",
       "    .dataframe tbody tr th:only-of-type {\n",
       "        vertical-align: middle;\n",
       "    }\n",
       "\n",
       "    .dataframe tbody tr th {\n",
       "        vertical-align: top;\n",
       "    }\n",
       "\n",
       "    .dataframe thead th {\n",
       "        text-align: right;\n",
       "    }\n",
       "</style>\n",
       "<table border=\"1\" class=\"dataframe\">\n",
       "  <thead>\n",
       "    <tr style=\"text-align: right;\">\n",
       "      <th></th>\n",
       "      <th>user_id</th>\n",
       "      <th>new_user</th>\n",
       "      <th>age</th>\n",
       "      <th>sex</th>\n",
       "      <th>country</th>\n",
       "      <th>device</th>\n",
       "      <th>operative_system</th>\n",
       "      <th>source</th>\n",
       "      <th>total_pages_visited</th>\n",
       "      <th>home_page</th>\n",
       "      <th>listing_page</th>\n",
       "      <th>product_page</th>\n",
       "      <th>payment_page</th>\n",
       "      <th>confirmation_page</th>\n",
       "    </tr>\n",
       "  </thead>\n",
       "  <tbody>\n",
       "    <tr>\n",
       "      <th>0</th>\n",
       "      <td>654951</td>\n",
       "      <td>0</td>\n",
       "      <td>17</td>\n",
       "      <td>Female</td>\n",
       "      <td>US</td>\n",
       "      <td>mobile</td>\n",
       "      <td>android</td>\n",
       "      <td>Direct</td>\n",
       "      <td>3</td>\n",
       "      <td>home_page</td>\n",
       "      <td>listing_page</td>\n",
       "      <td>product_page</td>\n",
       "      <td>0</td>\n",
       "      <td>0</td>\n",
       "    </tr>\n",
       "    <tr>\n",
       "      <th>1</th>\n",
       "      <td>730619</td>\n",
       "      <td>0</td>\n",
       "      <td>27</td>\n",
       "      <td>Male</td>\n",
       "      <td>UK</td>\n",
       "      <td>mobile</td>\n",
       "      <td>iOS</td>\n",
       "      <td>Direct</td>\n",
       "      <td>5</td>\n",
       "      <td>home_page</td>\n",
       "      <td>0</td>\n",
       "      <td>0</td>\n",
       "      <td>0</td>\n",
       "      <td>0</td>\n",
       "    </tr>\n",
       "    <tr>\n",
       "      <th>2</th>\n",
       "      <td>261033</td>\n",
       "      <td>0</td>\n",
       "      <td>24</td>\n",
       "      <td>Female</td>\n",
       "      <td>US</td>\n",
       "      <td>mobile</td>\n",
       "      <td>android</td>\n",
       "      <td>Seo</td>\n",
       "      <td>4</td>\n",
       "      <td>home_page</td>\n",
       "      <td>listing_page</td>\n",
       "      <td>0</td>\n",
       "      <td>0</td>\n",
       "      <td>0</td>\n",
       "    </tr>\n",
       "    <tr>\n",
       "      <th>3</th>\n",
       "      <td>533685</td>\n",
       "      <td>0</td>\n",
       "      <td>21</td>\n",
       "      <td>Male</td>\n",
       "      <td>UK</td>\n",
       "      <td>desktop</td>\n",
       "      <td>windows</td>\n",
       "      <td>Direct</td>\n",
       "      <td>5</td>\n",
       "      <td>home_page</td>\n",
       "      <td>listing_page</td>\n",
       "      <td>product_page</td>\n",
       "      <td>payment_page</td>\n",
       "      <td>0</td>\n",
       "    </tr>\n",
       "    <tr>\n",
       "      <th>4</th>\n",
       "      <td>699480</td>\n",
       "      <td>0</td>\n",
       "      <td>17</td>\n",
       "      <td>Male</td>\n",
       "      <td>UK</td>\n",
       "      <td>mobile</td>\n",
       "      <td>iOS</td>\n",
       "      <td>Direct</td>\n",
       "      <td>6</td>\n",
       "      <td>home_page</td>\n",
       "      <td>listing_page</td>\n",
       "      <td>0</td>\n",
       "      <td>0</td>\n",
       "      <td>0</td>\n",
       "    </tr>\n",
       "  </tbody>\n",
       "</table>\n",
       "</div>"
      ],
      "text/plain": [
       "   user_id  new_user  age     sex country   device operative_system  source  \\\n",
       "0   654951         0   17  Female      US   mobile          android  Direct   \n",
       "1   730619         0   27    Male      UK   mobile              iOS  Direct   \n",
       "2   261033         0   24  Female      US   mobile          android     Seo   \n",
       "3   533685         0   21    Male      UK  desktop          windows  Direct   \n",
       "4   699480         0   17    Male      UK   mobile              iOS  Direct   \n",
       "\n",
       "   total_pages_visited  home_page  listing_page  product_page  payment_page  \\\n",
       "0                    3  home_page  listing_page  product_page             0   \n",
       "1                    5  home_page             0             0             0   \n",
       "2                    4  home_page  listing_page             0             0   \n",
       "3                    5  home_page  listing_page  product_page  payment_page   \n",
       "4                    6  home_page  listing_page             0             0   \n",
       "\n",
       "  confirmation_page  \n",
       "0                 0  \n",
       "1                 0  \n",
       "2                 0  \n",
       "3                 0  \n",
       "4                 0  "
      ]
     },
     "execution_count": 92,
     "metadata": {},
     "output_type": "execute_result"
    }
   ],
   "source": [
    "user_info.head()"
   ]
  },
  {
   "cell_type": "code",
   "execution_count": 93,
   "metadata": {},
   "outputs": [
    {
     "data": {
      "text/html": [
       "<div>\n",
       "<style scoped>\n",
       "    .dataframe tbody tr th:only-of-type {\n",
       "        vertical-align: middle;\n",
       "    }\n",
       "\n",
       "    .dataframe tbody tr th {\n",
       "        vertical-align: top;\n",
       "    }\n",
       "\n",
       "    .dataframe thead th {\n",
       "        text-align: right;\n",
       "    }\n",
       "</style>\n",
       "<table border=\"1\" class=\"dataframe\">\n",
       "  <thead>\n",
       "    <tr style=\"text-align: right;\">\n",
       "      <th></th>\n",
       "      <th>user_id</th>\n",
       "      <th>new_user</th>\n",
       "      <th>age</th>\n",
       "      <th>sex</th>\n",
       "      <th>country</th>\n",
       "      <th>device</th>\n",
       "      <th>operative_system</th>\n",
       "      <th>source</th>\n",
       "      <th>total_pages_visited</th>\n",
       "      <th>home_page</th>\n",
       "      <th>listing_page</th>\n",
       "      <th>product_page</th>\n",
       "      <th>payment_page</th>\n",
       "      <th>confirmation_page</th>\n",
       "    </tr>\n",
       "  </thead>\n",
       "  <tbody>\n",
       "    <tr>\n",
       "      <th>0</th>\n",
       "      <td>654951</td>\n",
       "      <td>0</td>\n",
       "      <td>17</td>\n",
       "      <td>Female</td>\n",
       "      <td>US</td>\n",
       "      <td>mobile</td>\n",
       "      <td>android</td>\n",
       "      <td>Direct</td>\n",
       "      <td>3</td>\n",
       "      <td>1</td>\n",
       "      <td>1</td>\n",
       "      <td>1</td>\n",
       "      <td>0</td>\n",
       "      <td>0</td>\n",
       "    </tr>\n",
       "    <tr>\n",
       "      <th>1</th>\n",
       "      <td>730619</td>\n",
       "      <td>0</td>\n",
       "      <td>27</td>\n",
       "      <td>Male</td>\n",
       "      <td>UK</td>\n",
       "      <td>mobile</td>\n",
       "      <td>iOS</td>\n",
       "      <td>Direct</td>\n",
       "      <td>5</td>\n",
       "      <td>1</td>\n",
       "      <td>0</td>\n",
       "      <td>0</td>\n",
       "      <td>0</td>\n",
       "      <td>0</td>\n",
       "    </tr>\n",
       "    <tr>\n",
       "      <th>2</th>\n",
       "      <td>261033</td>\n",
       "      <td>0</td>\n",
       "      <td>24</td>\n",
       "      <td>Female</td>\n",
       "      <td>US</td>\n",
       "      <td>mobile</td>\n",
       "      <td>android</td>\n",
       "      <td>Seo</td>\n",
       "      <td>4</td>\n",
       "      <td>1</td>\n",
       "      <td>1</td>\n",
       "      <td>0</td>\n",
       "      <td>0</td>\n",
       "      <td>0</td>\n",
       "    </tr>\n",
       "    <tr>\n",
       "      <th>3</th>\n",
       "      <td>533685</td>\n",
       "      <td>0</td>\n",
       "      <td>21</td>\n",
       "      <td>Male</td>\n",
       "      <td>UK</td>\n",
       "      <td>desktop</td>\n",
       "      <td>windows</td>\n",
       "      <td>Direct</td>\n",
       "      <td>5</td>\n",
       "      <td>1</td>\n",
       "      <td>1</td>\n",
       "      <td>1</td>\n",
       "      <td>1</td>\n",
       "      <td>0</td>\n",
       "    </tr>\n",
       "    <tr>\n",
       "      <th>4</th>\n",
       "      <td>699480</td>\n",
       "      <td>0</td>\n",
       "      <td>17</td>\n",
       "      <td>Male</td>\n",
       "      <td>UK</td>\n",
       "      <td>mobile</td>\n",
       "      <td>iOS</td>\n",
       "      <td>Direct</td>\n",
       "      <td>6</td>\n",
       "      <td>1</td>\n",
       "      <td>1</td>\n",
       "      <td>0</td>\n",
       "      <td>0</td>\n",
       "      <td>0</td>\n",
       "    </tr>\n",
       "  </tbody>\n",
       "</table>\n",
       "</div>"
      ],
      "text/plain": [
       "   user_id  new_user  age     sex country   device operative_system  source  \\\n",
       "0   654951         0   17  Female      US   mobile          android  Direct   \n",
       "1   730619         0   27    Male      UK   mobile              iOS  Direct   \n",
       "2   261033         0   24  Female      US   mobile          android     Seo   \n",
       "3   533685         0   21    Male      UK  desktop          windows  Direct   \n",
       "4   699480         0   17    Male      UK   mobile              iOS  Direct   \n",
       "\n",
       "   total_pages_visited  home_page  listing_page  product_page  payment_page  \\\n",
       "0                    3          1             1             1             0   \n",
       "1                    5          1             0             0             0   \n",
       "2                    4          1             1             0             0   \n",
       "3                    5          1             1             1             1   \n",
       "4                    6          1             1             0             0   \n",
       "\n",
       "   confirmation_page  \n",
       "0                  0  \n",
       "1                  0  \n",
       "2                  0  \n",
       "3                  0  \n",
       "4                  0  "
      ]
     },
     "execution_count": 93,
     "metadata": {},
     "output_type": "execute_result"
    }
   ],
   "source": [
    "#正则表达式\n",
    "import re \n",
    "\n",
    "for col in ['home_page','listing_page','product_page','payment_page','confirmation_page']:\n",
    "    user_info[col].replace(re.compile('page'),1,inplace=True)\n",
    "    \n",
    "user_info.head()"
   ]
  },
  {
   "cell_type": "markdown",
   "metadata": {},
   "source": [
    "**<font color=black size=4 face=雅黑>探索下单转化率和各个特征间的关系</font>**"
   ]
  },
  {
   "cell_type": "code",
   "execution_count": 94,
   "metadata": {},
   "outputs": [
    {
     "data": {
      "text/plain": [
       "0    88404\n",
       "1     1994\n",
       "Name: confirmation_page, dtype: int64"
      ]
     },
     "execution_count": 94,
     "metadata": {},
     "output_type": "execute_result"
    }
   ],
   "source": [
    "user_info['confirmation_page'].value_counts()"
   ]
  },
  {
   "cell_type": "code",
   "execution_count": 95,
   "metadata": {},
   "outputs": [
    {
     "data": {
      "image/png": "[encoded data removed]",
      "text/plain": [
       "<Figure size 360x288 with 1 Axes>"
      ]
     },
     "metadata": {},
     "output_type": "display_data"
    }
   ],
   "source": [
    "plt.figure(figsize=(5, 4))\n",
    "\n",
    "convert=pd.DataFrame(user_info['confirmation_page'].value_counts().reset_index(name='counts'))\n",
    "\n",
    "g =sns.barplot(x='index',y='counts',data=convert)\n",
    "\n",
    "for index, row in convert.iterrows():\n",
    "    g.text(row.name,row.counts,row.counts,color='black', ha=\"center\")\n",
    "    \n",
    "plt.xlabel('用户是否下单')\n",
    "plt.ylabel('数量')\n",
    "plt.show()"
   ]
  },
  {
   "cell_type": "code",
   "execution_count": 98,
   "metadata": {
    "scrolled": true
   },
   "outputs": [
    {
     "data": {
      "image/png": "[encoded data removed]",
      "text/plain": [
       "<Figure size 432x288 with 1 Axes>"
      ]
     },
     "metadata": {},
     "output_type": "display_data"
    }
   ],
   "source": [
    "convert= pd.DataFrame(user_info['confirmation_page'].value_counts())\n",
    "\n",
    "labels = convert.index\n",
    "sizes = convert.values\n",
    "colors = ['green','c','gray','beige','darkkhaki','fuchsia']\n",
    "\n",
    "explode = (0.05,0.0)\n",
    "sizes = sizes[:,0]\n",
    "patches,l_text,p_text = plt.pie(sizes,explode=explode,labels=labels,colors=colors,\n",
    "                                labeldistance=1.1,autopct='%2.0f%%',shadow=False,startangle=90,pctdistance=0.6)\n",
    "for t in l_text:\n",
    "    t.set_size = 30\n",
    "for t in p_text:\n",
    "    t.set_size = 20\n",
    "    \n",
    "plt.axis('equal')\n",
    "plt.legend(loc='upper right', bbox_to_anchor=(-0.1, 1))\n",
    "plt.grid()\n",
    "plt.show()"
   ]
  },
  {
   "cell_type": "code",
   "execution_count": 99,
   "metadata": {},
   "outputs": [
    {
     "data": {
      "image/png": "[encoded data removed]",
      "text/plain": [
       "<Figure size 432x288 with 1 Axes>"
      ]
     },
     "metadata": {},
     "output_type": "display_data"
    }
   ],
   "source": [
    "#新用户\n",
    "sns.barplot(x='new_user',y='confirmation_page',data=user_info)\n",
    "plt.xlabel('是否为新用户')\n",
    "plt.ylabel('转化率')\n",
    "plt.show()"
   ]
  },
  {
   "cell_type": "code",
   "execution_count": 100,
   "metadata": {},
   "outputs": [
    {
     "data": {
      "image/png": "[encoded data removed]",
      "text/plain": [
       "<Figure size 360x288 with 1 Axes>"
      ]
     },
     "metadata": {},
     "output_type": "display_data"
    }
   ],
   "source": [
    "#新用户\n",
    "plt.figure(figsize=(5, 4))\n",
    "\n",
    "new_user=user_info.groupby(['new_user'])['confirmation_page'].mean().reset_index(name='CR')\n",
    "\n",
    "g =sns.barplot(x='new_user',y='CR',data=new_user)\n",
    "\n",
    "for index, row in new_user.iterrows():\n",
    "    g.text(row.name,row.CR,round(row.CR,3),color='black', ha=\"center\")\n",
    "    \n",
    "plt.xlabel('用户新老')\n",
    "plt.ylabel('下单转化率')\n",
    "plt.show()"
   ]
  },
  {
   "cell_type": "code",
   "execution_count": 101,
   "metadata": {},
   "outputs": [
    {
     "data": {
      "image/png": "[encoded data removed]",
      "text/plain": [
       "<Figure size 360x288 with 1 Axes>"
      ]
     },
     "metadata": {},
     "output_type": "display_data"
    }
   ],
   "source": [
    "#性别\n",
    "plt.figure(figsize=(5, 4))\n",
    "\n",
    "sex=user_info.groupby(['sex'])['confirmation_page'].mean().reset_index(name='CR')\n",
    "\n",
    "g =sns.barplot(x='sex',y='CR',data=sex)\n",
    "\n",
    "for index, row in sex.iterrows():\n",
    "    g.text(row.name,row.CR,round(row.CR,3),color='black', ha=\"center\")\n",
    "    \n",
    "plt.xlabel('用户性别')\n",
    "plt.ylabel('下单转化率')\n",
    "plt.show()"
   ]
  },
  {
   "cell_type": "code",
   "execution_count": 102,
   "metadata": {},
   "outputs": [
    {
     "data": {
      "image/png": "[encoded data removed]",
      "text/plain": [
       "<Figure size 360x288 with 1 Axes>"
      ]
     },
     "metadata": {},
     "output_type": "display_data"
    }
   ],
   "source": [
    "#国家\n",
    "plt.figure(figsize=(5, 4))\n",
    "\n",
    "country=user_info.groupby(['country'])['confirmation_page'].mean().reset_index(name='CR')\n",
    "\n",
    "g =sns.barplot(x='country',y='CR',data=country)\n",
    "\n",
    "for index, row in country.iterrows():\n",
    "    g.text(row.name,row.CR,round(row.CR,3),color='black', ha=\"center\")\n",
    "    \n",
    "plt.xlabel('用户国家')\n",
    "plt.ylabel('下单转化率')\n",
    "plt.show()"
   ]
  },
  {
   "cell_type": "code",
   "execution_count": 103,
   "metadata": {},
   "outputs": [
    {
     "data": {
      "image/png": "[encoded data removed]",
      "text/plain": [
       "<Figure size 360x288 with 1 Axes>"
      ]
     },
     "metadata": {},
     "output_type": "display_data"
    }
   ],
   "source": [
    "#用户来源\n",
    "plt.figure(figsize=(5, 4))\n",
    "\n",
    "source=user_info.groupby(['source'])['confirmation_page'].mean().reset_index(name='CR')\n",
    "\n",
    "g =sns.barplot(x='source',y='CR',data=source)\n",
    "\n",
    "for index, row in source.iterrows():\n",
    "    g.text(row.name,row.CR,round(row.CR,3),color='black', ha=\"center\")\n",
    "    \n",
    "plt.xlabel('用户来源')\n",
    "plt.ylabel('下单转化率')\n",
    "plt.show()"
   ]
  },
  {
   "cell_type": "code",
   "execution_count": 104,
   "metadata": {},
   "outputs": [
    {
     "data": {
      "image/png": "[encoded data removed]",
      "text/plain": [
       "<Figure size 360x288 with 1 Axes>"
      ]
     },
     "metadata": {},
     "output_type": "display_data"
    }
   ],
   "source": [
    "#用户来源\n",
    "plt.figure(figsize=(5, 4))\n",
    "\n",
    "source=user_info.groupby(['source'])['confirmation_page'].mean().reset_index(name='CR')\n",
    "\n",
    "g =sns.barplot(x='source',y='CR',data=source)\n",
    "\n",
    "for index, row in source.iterrows():\n",
    "    g.text(row.name,row.CR,round(row.CR,3),color='black', ha=\"center\")\n",
    "    \n",
    "plt.xlabel('用户来源')\n",
    "plt.ylabel('下单转化率')\n",
    "plt.show()"
   ]
  },
  {
   "cell_type": "code",
   "execution_count": 105,
   "metadata": {},
   "outputs": [
    {
     "data": {
      "text/html": [
       "<div>\n",
       "<style scoped>\n",
       "    .dataframe tbody tr th:only-of-type {\n",
       "        vertical-align: middle;\n",
       "    }\n",
       "\n",
       "    .dataframe tbody tr th {\n",
       "        vertical-align: top;\n",
       "    }\n",
       "\n",
       "    .dataframe thead th {\n",
       "        text-align: right;\n",
       "    }\n",
       "</style>\n",
       "<table border=\"1\" class=\"dataframe\">\n",
       "  <thead>\n",
       "    <tr style=\"text-align: right;\">\n",
       "      <th></th>\n",
       "      <th>source</th>\n",
       "      <th>new_user</th>\n",
       "      <th>CR</th>\n",
       "    </tr>\n",
       "  </thead>\n",
       "  <tbody>\n",
       "    <tr>\n",
       "      <th>0</th>\n",
       "      <td>Ads</td>\n",
       "      <td>0</td>\n",
       "      <td>0.016074</td>\n",
       "    </tr>\n",
       "    <tr>\n",
       "      <th>1</th>\n",
       "      <td>Ads</td>\n",
       "      <td>1</td>\n",
       "      <td>0.014180</td>\n",
       "    </tr>\n",
       "    <tr>\n",
       "      <th>2</th>\n",
       "      <td>Direct</td>\n",
       "      <td>0</td>\n",
       "      <td>0.029814</td>\n",
       "    </tr>\n",
       "    <tr>\n",
       "      <th>3</th>\n",
       "      <td>Direct</td>\n",
       "      <td>1</td>\n",
       "      <td>0.008400</td>\n",
       "    </tr>\n",
       "    <tr>\n",
       "      <th>4</th>\n",
       "      <td>Seo</td>\n",
       "      <td>0</td>\n",
       "      <td>0.012984</td>\n",
       "    </tr>\n",
       "    <tr>\n",
       "      <th>5</th>\n",
       "      <td>Seo</td>\n",
       "      <td>1</td>\n",
       "      <td>0.011165</td>\n",
       "    </tr>\n",
       "  </tbody>\n",
       "</table>\n",
       "</div>"
      ],
      "text/plain": [
       "   source  new_user        CR\n",
       "0     Ads         0  0.016074\n",
       "1     Ads         1  0.014180\n",
       "2  Direct         0  0.029814\n",
       "3  Direct         1  0.008400\n",
       "4     Seo         0  0.012984\n",
       "5     Seo         1  0.011165"
      ]
     },
     "execution_count": 105,
     "metadata": {},
     "output_type": "execute_result"
    }
   ],
   "source": [
    "user_info.groupby(['source','new_user'])['confirmation_page'].mean().reset_index(name='CR')"
   ]
  },
  {
   "cell_type": "code",
   "execution_count": 106,
   "metadata": {},
   "outputs": [
    {
     "data": {
      "image/png": "[encoded data removed]",
      "text/plain": [
       "<Figure size 432x288 with 1 Axes>"
      ]
     },
     "metadata": {},
     "output_type": "display_data"
    }
   ],
   "source": [
    "#用户来源以及新老\n",
    "sns.barplot(x='new_user',y='confirmation_page',hue='source',data=user_info)\n",
    "plt.xlabel('用户来源以及新老')\n",
    "plt.ylabel('转化率')\n",
    "plt.show()"
   ]
  },
  {
   "cell_type": "markdown",
   "metadata": {},
   "source": [
    "老用户直接进入平台的下单转化率更高，新用户通过广告进入平台的下单转化率更高"
   ]
  },
  {
   "cell_type": "code",
   "execution_count": 107,
   "metadata": {},
   "outputs": [
    {
     "data": {
      "image/png": "[encoded data removed]",
      "text/plain": [
       "<Figure size 360x288 with 1 Axes>"
      ]
     },
     "metadata": {},
     "output_type": "display_data"
    }
   ],
   "source": [
    "#用户设备\n",
    "plt.figure(figsize=(5, 4))\n",
    "\n",
    "device=user_info.groupby(['device'])['confirmation_page'].mean().reset_index(name='CR')\n",
    "\n",
    "g =sns.barplot(x='device',y='CR',data=device)\n",
    "\n",
    "for index, row in device.iterrows():\n",
    "    g.text(row.name,row.CR,round(row.CR,3),color='black', ha=\"center\")\n",
    "    \n",
    "plt.xlabel('用户设备')\n",
    "plt.ylabel('下单转化率')\n",
    "plt.show()"
   ]
  },
  {
   "cell_type": "code",
   "execution_count": 108,
   "metadata": {},
   "outputs": [
    {
     "data": {
      "image/png": "[encoded data removed]",
      "text/plain": [
       "<Figure size 360x288 with 1 Axes>"
      ]
     },
     "metadata": {},
     "output_type": "display_data"
    }
   ],
   "source": [
    "#用户操作系统\n",
    "plt.figure(figsize=(5, 4))\n",
    "\n",
    "operative_system=user_info.groupby(['operative_system'])['confirmation_page'].mean().reset_index(name='CR')\n",
    "\n",
    "g =sns.barplot(x='operative_system',y='CR',data=operative_system)\n",
    "\n",
    "for index, row in operative_system.iterrows():\n",
    "    g.text(row.name,row.CR,round(row.CR,3),color='black', ha=\"center\")\n",
    "    \n",
    "plt.xlabel('用户操作系统')\n",
    "plt.ylabel('下单转化率')\n",
    "plt.show()"
   ]
  },
  {
   "cell_type": "code",
   "execution_count": 109,
   "metadata": {},
   "outputs": [
    {
     "data": {
      "image/png": "[encoded data removed]",
      "text/plain": [
       "<Figure size 432x288 with 1 Axes>"
      ]
     },
     "metadata": {},
     "output_type": "display_data"
    }
   ],
   "source": [
    "#访问页面数量\n",
    "sns.lineplot(x='total_pages_visited',y='confirmation_page',data=user_info)\n",
    "plt.xlabel('访问页面数量')\n",
    "plt.ylabel('下单转化率')\n",
    "plt.show()"
   ]
  },
  {
   "cell_type": "code",
   "execution_count": 110,
   "metadata": {},
   "outputs": [
    {
     "data": {
      "image/png": "[encoded data removed]",
      "text/plain": [
       "<Figure size 432x288 with 1 Axes>"
      ]
     },
     "metadata": {},
     "output_type": "display_data"
    }
   ],
   "source": [
    "#年龄\n",
    "sns.lineplot(x='age',y='confirmation_page',data=user_info)\n",
    "plt.xlabel('年龄')\n",
    "plt.ylabel('下单转化率')\n",
    "plt.show()"
   ]
  },
  {
   "cell_type": "markdown",
   "metadata": {},
   "source": [
    "**<font color=black size=4 face=雅黑>漏斗分析</font>**\n",
    "\n",
    "如果是转化率下降导致GMV下降，用漏斗分析法，用户从进入平台到最终完成购买这个动作这个环节当中，经历了哪些页面，在不同页面都会存在一定程度的用户流失，如果在某个页面，用户流失率非常高，就需要定位到这个页面去看，是不是这个页面或者功能等让用户产生了不好的体验，从而导致用户大量流失!"
   ]
  },
  {
   "cell_type": "code",
   "execution_count": 111,
   "metadata": {},
   "outputs": [],
   "source": [
    "convertion=[]\n",
    "page=['home_page','listing_page','product_page','payment_page','confirmation_page']\n",
    "for col in range(len(page)-1):\n",
    "    convertion.append(user_info[page[col+1]].sum()/user_info[page[col]].sum())"
   ]
  },
  {
   "cell_type": "code",
   "execution_count": 112,
   "metadata": {},
   "outputs": [
    {
     "data": {
      "text/plain": [
       "[0.7344299652647183,\n",
       " 0.6808151707309725,\n",
       " 0.1334070796460177,\n",
       " 0.3306799336650083]"
      ]
     },
     "execution_count": 112,
     "metadata": {},
     "output_type": "execute_result"
    }
   ],
   "source": [
    "convertion"
   ]
  },
  {
   "cell_type": "code",
   "execution_count": 113,
   "metadata": {},
   "outputs": [],
   "source": [
    "list=['主页->列表页转化率','列表页->产品页转化率','产品页->支付页转化率','支付页->支付完成页转化率']"
   ]
  },
  {
   "cell_type": "code",
   "execution_count": 114,
   "metadata": {},
   "outputs": [
    {
     "data": {
      "text/plain": [
       "[('主页->列表页转化率', 0.7344299652647183),\n",
       " ('列表页->产品页转化率', 0.6808151707309725),\n",
       " ('产品页->支付页转化率', 0.1334070796460177),\n",
       " ('支付页->支付完成页转化率', 0.3306799336650083)]"
      ]
     },
     "execution_count": 114,
     "metadata": {},
     "output_type": "execute_result"
    }
   ],
   "source": [
    "[*zip(list,convertion)]"
   ]
  },
  {
   "cell_type": "code",
   "execution_count": 115,
   "metadata": {},
   "outputs": [
    {
     "data": {
      "text/html": [
       "<div>\n",
       "<style scoped>\n",
       "    .dataframe tbody tr th:only-of-type {\n",
       "        vertical-align: middle;\n",
       "    }\n",
       "\n",
       "    .dataframe tbody tr th {\n",
       "        vertical-align: top;\n",
       "    }\n",
       "\n",
       "    .dataframe thead th {\n",
       "        text-align: right;\n",
       "    }\n",
       "</style>\n",
       "<table border=\"1\" class=\"dataframe\">\n",
       "  <thead>\n",
       "    <tr style=\"text-align: right;\">\n",
       "      <th></th>\n",
       "      <th>flow</th>\n",
       "      <th>convertion</th>\n",
       "    </tr>\n",
       "  </thead>\n",
       "  <tbody>\n",
       "    <tr>\n",
       "      <th>0</th>\n",
       "      <td>主页-&gt;列表页转化率</td>\n",
       "      <td>0.734430</td>\n",
       "    </tr>\n",
       "    <tr>\n",
       "      <th>1</th>\n",
       "      <td>列表页-&gt;产品页转化率</td>\n",
       "      <td>0.680815</td>\n",
       "    </tr>\n",
       "    <tr>\n",
       "      <th>2</th>\n",
       "      <td>产品页-&gt;支付页转化率</td>\n",
       "      <td>0.133407</td>\n",
       "    </tr>\n",
       "    <tr>\n",
       "      <th>3</th>\n",
       "      <td>支付页-&gt;支付完成页转化率</td>\n",
       "      <td>0.330680</td>\n",
       "    </tr>\n",
       "  </tbody>\n",
       "</table>\n",
       "</div>"
      ],
      "text/plain": [
       "            flow  convertion\n",
       "0     主页->列表页转化率    0.734430\n",
       "1    列表页->产品页转化率    0.680815\n",
       "2    产品页->支付页转化率    0.133407\n",
       "3  支付页->支付完成页转化率    0.330680"
      ]
     },
     "execution_count": 115,
     "metadata": {},
     "output_type": "execute_result"
    }
   ],
   "source": [
    "funnel=pd.DataFrame([*zip(list,convertion)]).rename(columns={0:'flow',1:'convertion'})\n",
    "funnel"
   ]
  },
  {
   "cell_type": "code",
   "execution_count": 116,
   "metadata": {},
   "outputs": [
    {
     "data": {
      "image/png": "[encoded data removed]",
      "text/plain": [
       "<Figure size 576x288 with 1 Axes>"
      ]
     },
     "metadata": {},
     "output_type": "display_data"
    }
   ],
   "source": [
    "#用户操作系统\n",
    "plt.figure(figsize=(8, 4))\n",
    "\n",
    "g =sns.barplot(x='flow',y='convertion',data=funnel)\n",
    "\n",
    "for index, row in funnel.iterrows():\n",
    "    g.text(row.name,row.convertion,round(row.convertion,3),color='black', ha=\"center\")\n",
    "\n",
    "plt.ylabel('转化率')\n",
    "plt.show()"
   ]
  },
  {
   "cell_type": "markdown",
   "metadata": {},
   "source": [
    "课后作业：\n",
    "市面上竞争对手的产品页面->支付页转化率在15%-18%，对比我们的网站,从产品页面->支付页转化率有待提升，大家有哪方面的思考？"
   ]
  },
  {
   "cell_type": "markdown",
   "metadata": {},
   "source": [
    "* 纬度拆解分析 和 对比分析\n",
    "\n",
    "普通的漏斗分析很简单，但一定要通过不同维度的分析，计算对应的转化率，才能挖到真正的业务痛点。\n",
    "\n",
    "通过对比分析找到核心的维度痛点，并采取相应的措施。"
   ]
  },
  {
   "cell_type": "markdown",
   "metadata": {},
   "source": [
    "**<font color=black size=4 face=雅黑>漏斗分析：性别维度</font>**"
   ]
  },
  {
   "cell_type": "code",
   "execution_count": 117,
   "metadata": {},
   "outputs": [
    {
     "data": {
      "text/html": [
       "<div>\n",
       "<style scoped>\n",
       "    .dataframe tbody tr th:only-of-type {\n",
       "        vertical-align: middle;\n",
       "    }\n",
       "\n",
       "    .dataframe tbody tr th {\n",
       "        vertical-align: top;\n",
       "    }\n",
       "\n",
       "    .dataframe thead th {\n",
       "        text-align: right;\n",
       "    }\n",
       "</style>\n",
       "<table border=\"1\" class=\"dataframe\">\n",
       "  <thead>\n",
       "    <tr style=\"text-align: right;\">\n",
       "      <th></th>\n",
       "      <th>home_page</th>\n",
       "      <th>listing_page</th>\n",
       "      <th>product_page</th>\n",
       "      <th>payment_page</th>\n",
       "      <th>confirmation_page</th>\n",
       "    </tr>\n",
       "    <tr>\n",
       "      <th>sex</th>\n",
       "      <th></th>\n",
       "      <th></th>\n",
       "      <th></th>\n",
       "      <th></th>\n",
       "      <th></th>\n",
       "    </tr>\n",
       "  </thead>\n",
       "  <tbody>\n",
       "    <tr>\n",
       "      <th>Female</th>\n",
       "      <td>55606</td>\n",
       "      <td>41036</td>\n",
       "      <td>28138</td>\n",
       "      <td>4141</td>\n",
       "      <td>1598</td>\n",
       "    </tr>\n",
       "    <tr>\n",
       "      <th>Male</th>\n",
       "      <td>34792</td>\n",
       "      <td>25355</td>\n",
       "      <td>17062</td>\n",
       "      <td>1889</td>\n",
       "      <td>396</td>\n",
       "    </tr>\n",
       "  </tbody>\n",
       "</table>\n",
       "</div>"
      ],
      "text/plain": [
       "        home_page  listing_page  product_page  payment_page  confirmation_page\n",
       "sex                                                                           \n",
       "Female      55606         41036         28138          4141               1598\n",
       "Male        34792         25355         17062          1889                396"
      ]
     },
     "execution_count": 117,
     "metadata": {},
     "output_type": "execute_result"
    }
   ],
   "source": [
    "sex_funnel=user_info.groupby(['sex'])['home_page','listing_page','product_page','payment_page','confirmation_page'].sum()\n",
    "sex_funnel"
   ]
  },
  {
   "cell_type": "code",
   "execution_count": 118,
   "metadata": {},
   "outputs": [],
   "source": [
    "sex_convertion=[]\n",
    "page=['home_page','listing_page','product_page','payment_page','confirmation_page']\n",
    "for i in range(len(sex_funnel.index)):\n",
    "    for col in range(len(page)-1):\n",
    "        sex_convertion.append(sex_funnel[page[col+1]][i].sum()/sex_funnel[page[col]][i].sum())"
   ]
  },
  {
   "cell_type": "code",
   "execution_count": 119,
   "metadata": {},
   "outputs": [
    {
     "data": {
      "text/plain": [
       "[0.7379779160522246,\n",
       " 0.6856906131201872,\n",
       " 0.1471675314521288,\n",
       " 0.38589712629799566,\n",
       " 0.7287594849390665,\n",
       " 0.672924472490633,\n",
       " 0.11071386707302779,\n",
       " 0.20963472736897829]"
      ]
     },
     "execution_count": 119,
     "metadata": {},
     "output_type": "execute_result"
    }
   ],
   "source": [
    "sex_convertion"
   ]
  },
  {
   "cell_type": "code",
   "execution_count": 120,
   "metadata": {},
   "outputs": [],
   "source": [
    "s=['Female']*4+['Male']*4"
   ]
  },
  {
   "cell_type": "code",
   "execution_count": 121,
   "metadata": {},
   "outputs": [
    {
     "data": {
      "text/plain": [
       "[('Female', '主页->列表页转化率', 0.7379779160522246),\n",
       " ('Female', '列表页->产品页转化率', 0.6856906131201872),\n",
       " ('Female', '产品页->支付页转化率', 0.1471675314521288),\n",
       " ('Female', '支付页->支付完成页转化率', 0.38589712629799566),\n",
       " ('Male', '主页->列表页转化率', 0.7287594849390665),\n",
       " ('Male', '列表页->产品页转化率', 0.672924472490633),\n",
       " ('Male', '产品页->支付页转化率', 0.11071386707302779),\n",
       " ('Male', '支付页->支付完成页转化率', 0.20963472736897829)]"
      ]
     },
     "execution_count": 121,
     "metadata": {},
     "output_type": "execute_result"
    }
   ],
   "source": [
    "[*zip(s,list*2,sex_convertion)]"
   ]
  },
  {
   "cell_type": "code",
   "execution_count": 122,
   "metadata": {},
   "outputs": [
    {
     "data": {
      "text/html": [
       "<div>\n",
       "<style scoped>\n",
       "    .dataframe tbody tr th:only-of-type {\n",
       "        vertical-align: middle;\n",
       "    }\n",
       "\n",
       "    .dataframe tbody tr th {\n",
       "        vertical-align: top;\n",
       "    }\n",
       "\n",
       "    .dataframe thead th {\n",
       "        text-align: right;\n",
       "    }\n",
       "</style>\n",
       "<table border=\"1\" class=\"dataframe\">\n",
       "  <thead>\n",
       "    <tr style=\"text-align: right;\">\n",
       "      <th></th>\n",
       "      <th>sex</th>\n",
       "      <th>flow</th>\n",
       "      <th>sex_convertion</th>\n",
       "    </tr>\n",
       "  </thead>\n",
       "  <tbody>\n",
       "    <tr>\n",
       "      <th>0</th>\n",
       "      <td>Female</td>\n",
       "      <td>主页-&gt;列表页转化率</td>\n",
       "      <td>0.737978</td>\n",
       "    </tr>\n",
       "    <tr>\n",
       "      <th>1</th>\n",
       "      <td>Female</td>\n",
       "      <td>列表页-&gt;产品页转化率</td>\n",
       "      <td>0.685691</td>\n",
       "    </tr>\n",
       "    <tr>\n",
       "      <th>2</th>\n",
       "      <td>Female</td>\n",
       "      <td>产品页-&gt;支付页转化率</td>\n",
       "      <td>0.147168</td>\n",
       "    </tr>\n",
       "    <tr>\n",
       "      <th>3</th>\n",
       "      <td>Female</td>\n",
       "      <td>支付页-&gt;支付完成页转化率</td>\n",
       "      <td>0.385897</td>\n",
       "    </tr>\n",
       "    <tr>\n",
       "      <th>4</th>\n",
       "      <td>Male</td>\n",
       "      <td>主页-&gt;列表页转化率</td>\n",
       "      <td>0.728759</td>\n",
       "    </tr>\n",
       "    <tr>\n",
       "      <th>5</th>\n",
       "      <td>Male</td>\n",
       "      <td>列表页-&gt;产品页转化率</td>\n",
       "      <td>0.672924</td>\n",
       "    </tr>\n",
       "    <tr>\n",
       "      <th>6</th>\n",
       "      <td>Male</td>\n",
       "      <td>产品页-&gt;支付页转化率</td>\n",
       "      <td>0.110714</td>\n",
       "    </tr>\n",
       "    <tr>\n",
       "      <th>7</th>\n",
       "      <td>Male</td>\n",
       "      <td>支付页-&gt;支付完成页转化率</td>\n",
       "      <td>0.209635</td>\n",
       "    </tr>\n",
       "  </tbody>\n",
       "</table>\n",
       "</div>"
      ],
      "text/plain": [
       "      sex           flow  sex_convertion\n",
       "0  Female     主页->列表页转化率        0.737978\n",
       "1  Female    列表页->产品页转化率        0.685691\n",
       "2  Female    产品页->支付页转化率        0.147168\n",
       "3  Female  支付页->支付完成页转化率        0.385897\n",
       "4    Male     主页->列表页转化率        0.728759\n",
       "5    Male    列表页->产品页转化率        0.672924\n",
       "6    Male    产品页->支付页转化率        0.110714\n",
       "7    Male  支付页->支付完成页转化率        0.209635"
      ]
     },
     "execution_count": 122,
     "metadata": {},
     "output_type": "execute_result"
    }
   ],
   "source": [
    "sex_funnel=pd.DataFrame([*zip(s,list*2,sex_convertion)]).rename(columns={0:'sex',1:'flow',2:'sex_convertion'})\n",
    "sex_funnel"
   ]
  },
  {
   "cell_type": "code",
   "execution_count": 123,
   "metadata": {},
   "outputs": [
    {
     "data": {
      "image/png": "[encoded data removed]",
      "text/plain": [
       "<Figure size 576x288 with 1 Axes>"
      ]
     },
     "metadata": {},
     "output_type": "display_data"
    }
   ],
   "source": [
    "plt.figure(figsize=(8, 4))\n",
    "sns.barplot(x='sex_convertion',y='flow',hue='sex',data=sex_funnel)\n",
    "plt.show()"
   ]
  },
  {
   "cell_type": "markdown",
   "metadata": {},
   "source": [
    "**<font color=black size=4 face=雅黑>漏斗分析：设备维度</font>**"
   ]
  },
  {
   "cell_type": "code",
   "execution_count": 124,
   "metadata": {},
   "outputs": [
    {
     "data": {
      "text/html": [
       "<div>\n",
       "<style scoped>\n",
       "    .dataframe tbody tr th:only-of-type {\n",
       "        vertical-align: middle;\n",
       "    }\n",
       "\n",
       "    .dataframe tbody tr th {\n",
       "        vertical-align: top;\n",
       "    }\n",
       "\n",
       "    .dataframe thead th {\n",
       "        text-align: right;\n",
       "    }\n",
       "</style>\n",
       "<table border=\"1\" class=\"dataframe\">\n",
       "  <thead>\n",
       "    <tr style=\"text-align: right;\">\n",
       "      <th></th>\n",
       "      <th>home_page</th>\n",
       "      <th>listing_page</th>\n",
       "      <th>product_page</th>\n",
       "      <th>payment_page</th>\n",
       "      <th>confirmation_page</th>\n",
       "    </tr>\n",
       "    <tr>\n",
       "      <th>device</th>\n",
       "      <th></th>\n",
       "      <th></th>\n",
       "      <th></th>\n",
       "      <th></th>\n",
       "      <th></th>\n",
       "    </tr>\n",
       "  </thead>\n",
       "  <tbody>\n",
       "    <tr>\n",
       "      <th>desktop</th>\n",
       "      <td>37240</td>\n",
       "      <td>27312</td>\n",
       "      <td>18666</td>\n",
       "      <td>2554</td>\n",
       "      <td>910</td>\n",
       "    </tr>\n",
       "    <tr>\n",
       "      <th>mobile</th>\n",
       "      <td>53158</td>\n",
       "      <td>39079</td>\n",
       "      <td>26534</td>\n",
       "      <td>3476</td>\n",
       "      <td>1084</td>\n",
       "    </tr>\n",
       "  </tbody>\n",
       "</table>\n",
       "</div>"
      ],
      "text/plain": [
       "         home_page  listing_page  product_page  payment_page  \\\n",
       "device                                                         \n",
       "desktop      37240         27312         18666          2554   \n",
       "mobile       53158         39079         26534          3476   \n",
       "\n",
       "         confirmation_page  \n",
       "device                      \n",
       "desktop                910  \n",
       "mobile                1084  "
      ]
     },
     "execution_count": 124,
     "metadata": {},
     "output_type": "execute_result"
    }
   ],
   "source": [
    "device_funnel=user_info.groupby(['device'])['home_page','listing_page','product_page','payment_page','confirmation_page'].sum()\n",
    "device_funnel"
   ]
  },
  {
   "cell_type": "code",
   "execution_count": 125,
   "metadata": {},
   "outputs": [],
   "source": [
    "device_convertion=[]\n",
    "page=['home_page','listing_page','product_page','payment_page','confirmation_page']\n",
    "for i in range(len(device_funnel.index)):\n",
    "    for col in range(len(page)-1):\n",
    "        device_convertion.append(device_funnel[page[col+1]][i].sum()/device_funnel[page[col]][i].sum())"
   ]
  },
  {
   "cell_type": "code",
   "execution_count": 126,
   "metadata": {},
   "outputs": [
    {
     "data": {
      "text/plain": [
       "[0.7334049409237379,\n",
       " 0.6834358523725835,\n",
       " 0.13682631522554378,\n",
       " 0.35630383711824587,\n",
       " 0.7351480492117838,\n",
       " 0.6789835973284885,\n",
       " 0.1310017336247833,\n",
       " 0.31185270425776757]"
      ]
     },
     "execution_count": 126,
     "metadata": {},
     "output_type": "execute_result"
    }
   ],
   "source": [
    "device_convertion"
   ]
  },
  {
   "cell_type": "code",
   "execution_count": 127,
   "metadata": {},
   "outputs": [],
   "source": [
    "d=['desktop']*4+['mobile']*4"
   ]
  },
  {
   "cell_type": "code",
   "execution_count": 128,
   "metadata": {},
   "outputs": [
    {
     "data": {
      "text/plain": [
       "[('desktop', '主页->列表页转化率', 0.7334049409237379),\n",
       " ('desktop', '列表页->产品页转化率', 0.6834358523725835),\n",
       " ('desktop', '产品页->支付页转化率', 0.13682631522554378),\n",
       " ('desktop', '支付页->支付完成页转化率', 0.35630383711824587),\n",
       " ('mobile', '主页->列表页转化率', 0.7351480492117838),\n",
       " ('mobile', '列表页->产品页转化率', 0.6789835973284885),\n",
       " ('mobile', '产品页->支付页转化率', 0.1310017336247833),\n",
       " ('mobile', '支付页->支付完成页转化率', 0.31185270425776757)]"
      ]
     },
     "execution_count": 128,
     "metadata": {},
     "output_type": "execute_result"
    }
   ],
   "source": [
    "[*zip(d,list*2,device_convertion)]"
   ]
  },
  {
   "cell_type": "code",
   "execution_count": 129,
   "metadata": {},
   "outputs": [
    {
     "data": {
      "text/html": [
       "<div>\n",
       "<style scoped>\n",
       "    .dataframe tbody tr th:only-of-type {\n",
       "        vertical-align: middle;\n",
       "    }\n",
       "\n",
       "    .dataframe tbody tr th {\n",
       "        vertical-align: top;\n",
       "    }\n",
       "\n",
       "    .dataframe thead th {\n",
       "        text-align: right;\n",
       "    }\n",
       "</style>\n",
       "<table border=\"1\" class=\"dataframe\">\n",
       "  <thead>\n",
       "    <tr style=\"text-align: right;\">\n",
       "      <th></th>\n",
       "      <th>device</th>\n",
       "      <th>flow</th>\n",
       "      <th>dev_convertion</th>\n",
       "    </tr>\n",
       "  </thead>\n",
       "  <tbody>\n",
       "    <tr>\n",
       "      <th>0</th>\n",
       "      <td>desktop</td>\n",
       "      <td>主页-&gt;列表页转化率</td>\n",
       "      <td>0.733405</td>\n",
       "    </tr>\n",
       "    <tr>\n",
       "      <th>1</th>\n",
       "      <td>desktop</td>\n",
       "      <td>列表页-&gt;产品页转化率</td>\n",
       "      <td>0.683436</td>\n",
       "    </tr>\n",
       "    <tr>\n",
       "      <th>2</th>\n",
       "      <td>desktop</td>\n",
       "      <td>产品页-&gt;支付页转化率</td>\n",
       "      <td>0.136826</td>\n",
       "    </tr>\n",
       "    <tr>\n",
       "      <th>3</th>\n",
       "      <td>desktop</td>\n",
       "      <td>支付页-&gt;支付完成页转化率</td>\n",
       "      <td>0.356304</td>\n",
       "    </tr>\n",
       "    <tr>\n",
       "      <th>4</th>\n",
       "      <td>mobile</td>\n",
       "      <td>主页-&gt;列表页转化率</td>\n",
       "      <td>0.735148</td>\n",
       "    </tr>\n",
       "    <tr>\n",
       "      <th>5</th>\n",
       "      <td>mobile</td>\n",
       "      <td>列表页-&gt;产品页转化率</td>\n",
       "      <td>0.678984</td>\n",
       "    </tr>\n",
       "    <tr>\n",
       "      <th>6</th>\n",
       "      <td>mobile</td>\n",
       "      <td>产品页-&gt;支付页转化率</td>\n",
       "      <td>0.131002</td>\n",
       "    </tr>\n",
       "    <tr>\n",
       "      <th>7</th>\n",
       "      <td>mobile</td>\n",
       "      <td>支付页-&gt;支付完成页转化率</td>\n",
       "      <td>0.311853</td>\n",
       "    </tr>\n",
       "  </tbody>\n",
       "</table>\n",
       "</div>"
      ],
      "text/plain": [
       "    device           flow  dev_convertion\n",
       "0  desktop     主页->列表页转化率        0.733405\n",
       "1  desktop    列表页->产品页转化率        0.683436\n",
       "2  desktop    产品页->支付页转化率        0.136826\n",
       "3  desktop  支付页->支付完成页转化率        0.356304\n",
       "4   mobile     主页->列表页转化率        0.735148\n",
       "5   mobile    列表页->产品页转化率        0.678984\n",
       "6   mobile    产品页->支付页转化率        0.131002\n",
       "7   mobile  支付页->支付完成页转化率        0.311853"
      ]
     },
     "execution_count": 129,
     "metadata": {},
     "output_type": "execute_result"
    }
   ],
   "source": [
    "dev_funnel=pd.DataFrame([*zip(d,list*2,device_convertion)]).rename(columns={0:'device',1:'flow',2:'dev_convertion'})\n",
    "dev_funnel"
   ]
  },
  {
   "cell_type": "code",
   "execution_count": 130,
   "metadata": {},
   "outputs": [
    {
     "data": {
      "image/png": "[encoded data removed]",
      "text/plain": [
       "<Figure size 576x288 with 1 Axes>"
      ]
     },
     "metadata": {},
     "output_type": "display_data"
    }
   ],
   "source": [
    "plt.figure(figsize=(8, 4))\n",
    "sns.barplot(x='dev_convertion',y='flow',hue='device',data=dev_funnel)\n",
    "plt.show()"
   ]
  },
  {
   "cell_type": "markdown",
   "metadata": {},
   "source": [
    "1. 确认问题：前几步转化率都差不多，明显是desktop从支付页->支付完成页的转化率比mobile的高，高4%。\n",
    "2. 找到问题发生的原因（提出猜想）：为什么desktop支付页做的比mobile好？以及mobile有哪些地方需要优化？\n",
    "3. 解决问题（提出建议）"
   ]
  },
  {
   "cell_type": "markdown",
   "metadata": {},
   "source": [
    "**<font color=black size=4 face=雅黑>漏斗分析：国家维度</font>**"
   ]
  },
  {
   "cell_type": "code",
   "execution_count": 131,
   "metadata": {},
   "outputs": [
    {
     "data": {
      "text/html": [
       "<div>\n",
       "<style scoped>\n",
       "    .dataframe tbody tr th:only-of-type {\n",
       "        vertical-align: middle;\n",
       "    }\n",
       "\n",
       "    .dataframe tbody tr th {\n",
       "        vertical-align: top;\n",
       "    }\n",
       "\n",
       "    .dataframe thead th {\n",
       "        text-align: right;\n",
       "    }\n",
       "</style>\n",
       "<table border=\"1\" class=\"dataframe\">\n",
       "  <thead>\n",
       "    <tr style=\"text-align: right;\">\n",
       "      <th></th>\n",
       "      <th>home_page</th>\n",
       "      <th>listing_page</th>\n",
       "      <th>product_page</th>\n",
       "      <th>payment_page</th>\n",
       "      <th>confirmation_page</th>\n",
       "    </tr>\n",
       "    <tr>\n",
       "      <th>country</th>\n",
       "      <th></th>\n",
       "      <th></th>\n",
       "      <th></th>\n",
       "      <th></th>\n",
       "      <th></th>\n",
       "    </tr>\n",
       "  </thead>\n",
       "  <tbody>\n",
       "    <tr>\n",
       "      <th>China</th>\n",
       "      <td>16563</td>\n",
       "      <td>10665</td>\n",
       "      <td>7055</td>\n",
       "      <td>889</td>\n",
       "      <td>244</td>\n",
       "    </tr>\n",
       "    <tr>\n",
       "      <th>Germany</th>\n",
       "      <td>5027</td>\n",
       "      <td>4008</td>\n",
       "      <td>2900</td>\n",
       "      <td>425</td>\n",
       "      <td>151</td>\n",
       "    </tr>\n",
       "    <tr>\n",
       "      <th>UK</th>\n",
       "      <td>15401</td>\n",
       "      <td>11707</td>\n",
       "      <td>8008</td>\n",
       "      <td>1070</td>\n",
       "      <td>380</td>\n",
       "    </tr>\n",
       "    <tr>\n",
       "      <th>US</th>\n",
       "      <td>53407</td>\n",
       "      <td>40011</td>\n",
       "      <td>27237</td>\n",
       "      <td>3646</td>\n",
       "      <td>1219</td>\n",
       "    </tr>\n",
       "  </tbody>\n",
       "</table>\n",
       "</div>"
      ],
      "text/plain": [
       "         home_page  listing_page  product_page  payment_page  \\\n",
       "country                                                        \n",
       "China        16563         10665          7055           889   \n",
       "Germany       5027          4008          2900           425   \n",
       "UK           15401         11707          8008          1070   \n",
       "US           53407         40011         27237          3646   \n",
       "\n",
       "         confirmation_page  \n",
       "country                     \n",
       "China                  244  \n",
       "Germany                151  \n",
       "UK                     380  \n",
       "US                    1219  "
      ]
     },
     "execution_count": 131,
     "metadata": {},
     "output_type": "execute_result"
    }
   ],
   "source": [
    "country_funnel=user_info.groupby(['country'])['home_page','listing_page','product_page','payment_page','confirmation_page'].sum()\n",
    "country_funnel"
   ]
  },
  {
   "cell_type": "code",
   "execution_count": 132,
   "metadata": {},
   "outputs": [],
   "source": [
    "country_convertion=[]\n",
    "page=['home_page','listing_page','product_page','payment_page','confirmation_page']\n",
    "for i in range(len(country_funnel.index)):\n",
    "    for col in range(len(page)-1):\n",
    "        country_convertion.append(country_funnel[page[col+1]][i].sum()/country_funnel[page[col]][i].sum())"
   ]
  },
  {
   "cell_type": "code",
   "execution_count": 133,
   "metadata": {},
   "outputs": [
    {
     "data": {
      "text/plain": [
       "[0.6439050896576707,\n",
       " 0.6615096108766995,\n",
       " 0.1260099220411056,\n",
       " 0.2744656917885264,\n",
       " 0.7972946091108016,\n",
       " 0.7235528942115769,\n",
       " 0.14655172413793102,\n",
       " 0.3552941176470588,\n",
       " 0.7601454451009675,\n",
       " 0.6840351926198002,\n",
       " 0.13361638361638362,\n",
       " 0.35514018691588783,\n",
       " 0.7491714569251222,\n",
       " 0.680737797105796,\n",
       " 0.13386202592062268,\n",
       " 0.33433900164563907]"
      ]
     },
     "execution_count": 133,
     "metadata": {},
     "output_type": "execute_result"
    }
   ],
   "source": [
    "country_convertion"
   ]
  },
  {
   "cell_type": "code",
   "execution_count": 134,
   "metadata": {},
   "outputs": [],
   "source": [
    "c=['China']*4+['Germany']*4+['UK']*4+['US']*4"
   ]
  },
  {
   "cell_type": "code",
   "execution_count": 135,
   "metadata": {},
   "outputs": [
    {
     "data": {
      "text/html": [
       "<div>\n",
       "<style scoped>\n",
       "    .dataframe tbody tr th:only-of-type {\n",
       "        vertical-align: middle;\n",
       "    }\n",
       "\n",
       "    .dataframe tbody tr th {\n",
       "        vertical-align: top;\n",
       "    }\n",
       "\n",
       "    .dataframe thead th {\n",
       "        text-align: right;\n",
       "    }\n",
       "</style>\n",
       "<table border=\"1\" class=\"dataframe\">\n",
       "  <thead>\n",
       "    <tr style=\"text-align: right;\">\n",
       "      <th></th>\n",
       "      <th>country</th>\n",
       "      <th>flow</th>\n",
       "      <th>country_convertion</th>\n",
       "    </tr>\n",
       "  </thead>\n",
       "  <tbody>\n",
       "    <tr>\n",
       "      <th>0</th>\n",
       "      <td>China</td>\n",
       "      <td>主页-&gt;列表页转化率</td>\n",
       "      <td>0.643905</td>\n",
       "    </tr>\n",
       "    <tr>\n",
       "      <th>1</th>\n",
       "      <td>China</td>\n",
       "      <td>列表页-&gt;产品页转化率</td>\n",
       "      <td>0.661510</td>\n",
       "    </tr>\n",
       "    <tr>\n",
       "      <th>2</th>\n",
       "      <td>China</td>\n",
       "      <td>产品页-&gt;支付页转化率</td>\n",
       "      <td>0.126010</td>\n",
       "    </tr>\n",
       "    <tr>\n",
       "      <th>3</th>\n",
       "      <td>China</td>\n",
       "      <td>支付页-&gt;支付完成页转化率</td>\n",
       "      <td>0.274466</td>\n",
       "    </tr>\n",
       "    <tr>\n",
       "      <th>4</th>\n",
       "      <td>Germany</td>\n",
       "      <td>主页-&gt;列表页转化率</td>\n",
       "      <td>0.797295</td>\n",
       "    </tr>\n",
       "    <tr>\n",
       "      <th>5</th>\n",
       "      <td>Germany</td>\n",
       "      <td>列表页-&gt;产品页转化率</td>\n",
       "      <td>0.723553</td>\n",
       "    </tr>\n",
       "    <tr>\n",
       "      <th>6</th>\n",
       "      <td>Germany</td>\n",
       "      <td>产品页-&gt;支付页转化率</td>\n",
       "      <td>0.146552</td>\n",
       "    </tr>\n",
       "    <tr>\n",
       "      <th>7</th>\n",
       "      <td>Germany</td>\n",
       "      <td>支付页-&gt;支付完成页转化率</td>\n",
       "      <td>0.355294</td>\n",
       "    </tr>\n",
       "    <tr>\n",
       "      <th>8</th>\n",
       "      <td>UK</td>\n",
       "      <td>主页-&gt;列表页转化率</td>\n",
       "      <td>0.760145</td>\n",
       "    </tr>\n",
       "    <tr>\n",
       "      <th>9</th>\n",
       "      <td>UK</td>\n",
       "      <td>列表页-&gt;产品页转化率</td>\n",
       "      <td>0.684035</td>\n",
       "    </tr>\n",
       "    <tr>\n",
       "      <th>10</th>\n",
       "      <td>UK</td>\n",
       "      <td>产品页-&gt;支付页转化率</td>\n",
       "      <td>0.133616</td>\n",
       "    </tr>\n",
       "    <tr>\n",
       "      <th>11</th>\n",
       "      <td>UK</td>\n",
       "      <td>支付页-&gt;支付完成页转化率</td>\n",
       "      <td>0.355140</td>\n",
       "    </tr>\n",
       "    <tr>\n",
       "      <th>12</th>\n",
       "      <td>US</td>\n",
       "      <td>主页-&gt;列表页转化率</td>\n",
       "      <td>0.749171</td>\n",
       "    </tr>\n",
       "    <tr>\n",
       "      <th>13</th>\n",
       "      <td>US</td>\n",
       "      <td>列表页-&gt;产品页转化率</td>\n",
       "      <td>0.680738</td>\n",
       "    </tr>\n",
       "    <tr>\n",
       "      <th>14</th>\n",
       "      <td>US</td>\n",
       "      <td>产品页-&gt;支付页转化率</td>\n",
       "      <td>0.133862</td>\n",
       "    </tr>\n",
       "    <tr>\n",
       "      <th>15</th>\n",
       "      <td>US</td>\n",
       "      <td>支付页-&gt;支付完成页转化率</td>\n",
       "      <td>0.334339</td>\n",
       "    </tr>\n",
       "  </tbody>\n",
       "</table>\n",
       "</div>"
      ],
      "text/plain": [
       "    country           flow  country_convertion\n",
       "0     China     主页->列表页转化率            0.643905\n",
       "1     China    列表页->产品页转化率            0.661510\n",
       "2     China    产品页->支付页转化率            0.126010\n",
       "3     China  支付页->支付完成页转化率            0.274466\n",
       "4   Germany     主页->列表页转化率            0.797295\n",
       "5   Germany    列表页->产品页转化率            0.723553\n",
       "6   Germany    产品页->支付页转化率            0.146552\n",
       "7   Germany  支付页->支付完成页转化率            0.355294\n",
       "8        UK     主页->列表页转化率            0.760145\n",
       "9        UK    列表页->产品页转化率            0.684035\n",
       "10       UK    产品页->支付页转化率            0.133616\n",
       "11       UK  支付页->支付完成页转化率            0.355140\n",
       "12       US     主页->列表页转化率            0.749171\n",
       "13       US    列表页->产品页转化率            0.680738\n",
       "14       US    产品页->支付页转化率            0.133862\n",
       "15       US  支付页->支付完成页转化率            0.334339"
      ]
     },
     "execution_count": 135,
     "metadata": {},
     "output_type": "execute_result"
    }
   ],
   "source": [
    "country_funnel=pd.DataFrame([*zip(c,list*4,country_convertion)]).rename(columns={0:'country',1:'flow',2:'country_convertion'})\n",
    "country_funnel"
   ]
  },
  {
   "cell_type": "code",
   "execution_count": 136,
   "metadata": {},
   "outputs": [
    {
     "data": {
      "image/png": "[encoded data removed]",
      "text/plain": [
       "<Figure size 576x288 with 1 Axes>"
      ]
     },
     "metadata": {},
     "output_type": "display_data"
    }
   ],
   "source": [
    "plt.figure(figsize=(8, 4))\n",
    "sns.barplot(x='country_convertion',y='flow',hue='country',data=country_funnel)\n",
    "plt.show()"
   ]
  },
  {
   "cell_type": "code",
   "execution_count": null,
   "metadata": {},
   "outputs": [],
   "source": []
  },
  {
   "cell_type": "code",
   "execution_count": null,
   "metadata": {},
   "outputs": [],
   "source": []
  },
  {
   "cell_type": "code",
   "execution_count": null,
   "metadata": {},
   "outputs": [],
   "source": []
  },
  {
   "cell_type": "code",
   "execution_count": null,
   "metadata": {},
   "outputs": [],
   "source": []
  }
 ],
 "metadata": {
  "kernelspec": {
   "display_name": "Python 3",
   "language": "python",
   "name": "python3"
  },
  "language_info": {
   "codemirror_mode": {
    "name": "ipython",
    "version": 3
   },
   "file_extension": ".py",
   "mimetype": "text/x-python",
   "name": "python",
   "nbconvert_exporter": "python",
   "pygments_lexer": "ipython3",
   "version": "3.6.5"
  },
  "toc": {
   "base_numbering": 1,
   "nav_menu": {},
   "number_sections": true,
   "sideBar": true,
   "skip_h1_title": false,
   "title_cell": "Table of Contents",
   "title_sidebar": "Contents",
   "toc_cell": false,
   "toc_position": {},
   "toc_section_display": true,
   "toc_window_display": false
  }
 },
 "nbformat": 4,
 "nbformat_minor": 4
}
